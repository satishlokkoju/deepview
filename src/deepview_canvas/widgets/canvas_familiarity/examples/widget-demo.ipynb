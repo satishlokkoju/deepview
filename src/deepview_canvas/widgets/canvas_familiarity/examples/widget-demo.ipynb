{
 "cells": [
  {
   "cell_type": "markdown",
   "id": "10011586",
   "metadata": {},
   "source": [
    "# Familiarity Demo \n",
    "\n",
    "Run this noteboook to test your widget, and create the initial directory to be able to run `yarn dev`.\n",
    "\n",
    "Note: this widget works well with data from [DeepView](https://github.com/satishlokkoju/deepview). To try an example on realistic familiarity data, see the [CIFAR-10 example](https://github.com/satishlokkoju/deepview/notebooks/data_introspection/canvas-cifar-example.ipynb) in the main `DeepView` project."
   ]
  },
  {
   "cell_type": "code",
   "execution_count": 1,
   "id": "7c6b89d2",
   "metadata": {
    "tags": []
   },
   "outputs": [],
   "source": [
    "%load_ext autoreload\n",
    "%autoreload 2"
   ]
  },
  {
   "cell_type": "code",
   "execution_count": 2,
   "id": "7e115f80",
   "metadata": {
    "tags": []
   },
   "outputs": [],
   "source": [
    "import random\n",
    "import pandas as pd\n",
    "\n",
    "import canvas_ux\n",
    "from canvas_familiarity import CanvasFamiliarity\n",
    "import pickle"
   ]
  },
  {
   "cell_type": "markdown",
   "id": "9101d772",
   "metadata": {},
   "source": [
    "### Create/Import Data \n",
    "\n",
    "Create a Pandas DataFrame with your data or the metadata for a dataset."
   ]
  },
  {
   "cell_type": "code",
   "execution_count": 3,
   "id": "660c5ac0",
   "metadata": {
    "tags": []
   },
   "outputs": [],
   "source": [
    "layer_1 = [random.randint(0, 100) for i in range(100)]\n",
    "layer_2 = [random.randint(0, 100) for i in range(100)]\n",
    "layer_3 = [random.randint(0, 100) for i in range(100)]\n",
    "group = [random.choice(['group_1', 'group_2']) for i in range(100)]\n",
    "\n",
    "df = pd.DataFrame(zip(layer_1, layer_2, layer_3, group), columns=['familiarity_layer_1', 'familiarity_layer_2', 'familiarity_layer_3', 'group'])"
   ]
  },
  {
   "cell_type": "code",
   "execution_count": 4,
   "id": "9e68abe8",
   "metadata": {
    "tags": []
   },
   "outputs": [
    {
     "data": {
      "text/html": [
       "<div>\n",
       "<style scoped>\n",
       "    .dataframe tbody tr th:only-of-type {\n",
       "        vertical-align: middle;\n",
       "    }\n",
       "\n",
       "    .dataframe tbody tr th {\n",
       "        vertical-align: top;\n",
       "    }\n",
       "\n",
       "    .dataframe thead th {\n",
       "        text-align: right;\n",
       "    }\n",
       "</style>\n",
       "<table border=\"1\" class=\"dataframe\">\n",
       "  <thead>\n",
       "    <tr style=\"text-align: right;\">\n",
       "      <th></th>\n",
       "      <th>familiarity_layer_1</th>\n",
       "      <th>familiarity_layer_2</th>\n",
       "      <th>familiarity_layer_3</th>\n",
       "      <th>group</th>\n",
       "    </tr>\n",
       "  </thead>\n",
       "  <tbody>\n",
       "    <tr>\n",
       "      <th>0</th>\n",
       "      <td>16</td>\n",
       "      <td>26</td>\n",
       "      <td>58</td>\n",
       "      <td>group_2</td>\n",
       "    </tr>\n",
       "    <tr>\n",
       "      <th>1</th>\n",
       "      <td>19</td>\n",
       "      <td>83</td>\n",
       "      <td>46</td>\n",
       "      <td>group_1</td>\n",
       "    </tr>\n",
       "    <tr>\n",
       "      <th>2</th>\n",
       "      <td>0</td>\n",
       "      <td>72</td>\n",
       "      <td>89</td>\n",
       "      <td>group_1</td>\n",
       "    </tr>\n",
       "    <tr>\n",
       "      <th>3</th>\n",
       "      <td>88</td>\n",
       "      <td>15</td>\n",
       "      <td>34</td>\n",
       "      <td>group_2</td>\n",
       "    </tr>\n",
       "    <tr>\n",
       "      <th>4</th>\n",
       "      <td>35</td>\n",
       "      <td>76</td>\n",
       "      <td>16</td>\n",
       "      <td>group_1</td>\n",
       "    </tr>\n",
       "  </tbody>\n",
       "</table>\n",
       "</div>"
      ],
      "text/plain": [
       "   familiarity_layer_1  familiarity_layer_2  familiarity_layer_3    group\n",
       "0                   16                   26                   58  group_2\n",
       "1                   19                   83                   46  group_1\n",
       "2                    0                   72                   89  group_1\n",
       "3                   88                   15                   34  group_2\n",
       "4                   35                   76                   16  group_1"
      ]
     },
     "execution_count": 4,
     "metadata": {},
     "output_type": "execute_result"
    }
   ],
   "source": [
    "df.head()"
   ]
  },
  {
   "cell_type": "markdown",
   "id": "ac56e59e",
   "metadata": {},
   "source": [
    "### Create Canvas Widgets\n",
    "\n",
    "We can now explore the individual widgets!"
   ]
  },
  {
   "cell_type": "code",
   "execution_count": 5,
   "id": "270444a6",
   "metadata": {
    "tags": []
   },
   "outputs": [],
   "source": [
    "canva = canvas_ux.Canvas(df)"
   ]
  },
  {
   "cell_type": "code",
   "execution_count": 6,
   "id": "fcf19d22",
   "metadata": {
    "tags": []
   },
   "outputs": [
    {
     "data": {
      "application/vnd.jupyter.widget-view+json": {
       "model_id": "89ac07adec7542db97d26554c96736d6",
       "version_major": 2,
       "version_minor": 0
      },
      "text/plain": [
       "HBox(children=(CanvasFamiliarity(layout=Layout(overflow='unset', width='100%'), widget_spec={'width': 'XXL', '…"
      ]
     },
     "execution_count": 6,
     "metadata": {},
     "output_type": "execute_result"
    }
   ],
   "source": [
    "canva.widget(CanvasFamiliarity)"
   ]
  },
  {
   "cell_type": "code",
   "execution_count": 7,
   "id": "5fd928d8",
   "metadata": {
    "tags": []
   },
   "outputs": [],
   "source": [
    "canva.export('../canvas_familiarity/standalone', name=\"Widget Demo\")"
   ]
  },
  {
   "cell_type": "code",
   "execution_count": null,
   "id": "e0e90f37-af66-4ea9-aea6-af711c9e6c85",
   "metadata": {},
   "outputs": [],
   "source": []
  }
 ],
 "metadata": {
  "finalized": {
   "timestamp": 1623266852462,
   "trusted": false
  },
  "kernelspec": {
   "display_name": "deepview_dev",
   "language": "python",
   "name": "deepview_dev"
  },
  "language_info": {
   "codemirror_mode": {
    "name": "ipython",
    "version": 3
   },
   "file_extension": ".py",
   "mimetype": "text/x-python",
   "name": "python",
   "nbconvert_exporter": "python",
   "pygments_lexer": "ipython3",
   "version": "3.10.16"
  },
  "metadata": {
   "interpreter": {
    "hash": "61676ae764c2630d6a4b513ad0617d91546daad86abd1efe70032d363af5955a"
   }
  }
 },
 "nbformat": 4,
 "nbformat_minor": 5
}
