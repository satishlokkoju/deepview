{
 "cells": [
  {
   "cell_type": "markdown",
   "id": "10011586",
   "metadata": {},
   "source": [
    "# Familiarity Demo \n",
    "\n",
    "Run this noteboook to test your widget, and create the initial directory to be able to run `yarn dev`.\n",
    "\n",
    "Note: this widget works well with data from [DeepView](https://github.com/satishlokkoju/deepview). To try an example on realistic familiarity data, see the [CIFAR-10 example](https://github.com/satishlokkoju/deepview/notebooks/data_introspection/canvas-cifar-example.ipynb) in the main `DeepView` project."
   ]
  },
  {
   "cell_type": "code",
   "execution_count": 1,
   "id": "7c6b89d2",
   "metadata": {
    "tags": []
   },
   "outputs": [],
   "source": [
    "%load_ext autoreload\n",
    "%autoreload 2"
   ]
  },
  {
   "cell_type": "code",
   "execution_count": 2,
   "id": "7e115f80",
   "metadata": {
    "tags": []
   },
   "outputs": [],
   "source": [
    "import random\n",
    "import pandas as pd\n",
    "\n",
    "import canvas_ux\n",
    "from canvas_familiarity import CanvasFamiliarity\n",
    "import pickle"
   ]
  },
  {
   "cell_type": "markdown",
   "id": "9101d772",
   "metadata": {},
   "source": [
    "### Create/Import Data \n",
    "\n",
    "Create a Pandas DataFrame with your data or the metadata for a dataset."
   ]
  },
  {
   "cell_type": "code",
   "execution_count": 3,
   "id": "660c5ac0",
   "metadata": {
    "tags": []
   },
   "outputs": [],
   "source": [
    "layer_1 = [random.randint(0, 100) for i in range(100)]\n",
    "layer_2 = [random.randint(0, 100) for i in range(100)]\n",
    "layer_3 = [random.randint(0, 100) for i in range(100)]\n",
    "group = [random.choice(['group_1', 'group_2']) for i in range(100)]\n",
    "\n",
    "df = pd.DataFrame(zip(layer_1, layer_2, layer_3, group), columns=['familiarity_layer_1', 'familiarity_layer_2', 'familiarity_layer_3', 'group'])"
   ]
  },
  {
   "cell_type": "code",
   "execution_count": null,
   "id": "9e68abe8",
   "metadata": {
    "tags": []
   },
   "outputs": [],
   "source": [
    "df.head()"
   ]
  },
  {
   "cell_type": "markdown",
   "id": "ac56e59e",
   "metadata": {},
   "source": [
    "### Create Canvas Widgets\n",
    "\n",
    "We can now explore the individual widgets!"
   ]
  },
  {
   "cell_type": "code",
   "execution_count": null,
   "id": "270444a6",
   "metadata": {
    "tags": []
   },
   "outputs": [],
   "source": [
    "symph = canvas_ux.Canvas(df)"
   ]
  },
  {
   "cell_type": "code",
   "execution_count": null,
   "id": "fcf19d22",
   "metadata": {
    "tags": []
   },
   "outputs": [],
   "source": [
    "symph.widget(CanvasFamiliarity)"
   ]
  },
  {
   "cell_type": "code",
   "execution_count": null,
   "id": "5fd928d8",
   "metadata": {
    "tags": []
   },
   "outputs": [],
   "source": [
    "symph.export('../canvas_familiarity/standalone', name=\"Widget Demo\")"
   ]
  }
 ],
 "metadata": {
  "finalized": {
   "timestamp": 1623266852462,
   "trusted": false
  },
  "kernelspec": {
   "display_name": "Python 3 (ipykernel)",
   "language": "python",
   "name": "python3"
  },
  "language_info": {
   "codemirror_mode": {
    "name": "ipython",
    "version": 3
   },
   "file_extension": ".py",
   "mimetype": "text/x-python",
   "name": "python",
   "nbconvert_exporter": "python",
   "pygments_lexer": "ipython3",
   "version": "3.10.15"
  },
  "metadata": {
   "interpreter": {
    "hash": "61676ae764c2630d6a4b513ad0617d91546daad86abd1efe70032d363af5955a"
   }
  }
 },
 "nbformat": 4,
 "nbformat_minor": 5
}
