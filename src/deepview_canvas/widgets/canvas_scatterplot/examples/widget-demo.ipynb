{
 "cells": [
  {
   "cell_type": "markdown",
   "id": "d2582a8f",
   "metadata": {},
   "source": [
    "# Scatterplot Demo \n",
    "\n",
    "Run this noteboook to test your widget, and create the initial directory to be able to run `yarn dev`."
   ]
  },
  {
   "cell_type": "code",
   "execution_count": null,
   "id": "93bc5411",
   "metadata": {
    "tags": []
   },
   "outputs": [],
   "source": [
    "%load_ext autoreload\n",
    "%autoreload 2"
   ]
  },
  {
   "cell_type": "code",
   "execution_count": null,
   "id": "ae7f12b8",
   "metadata": {
    "tags": []
   },
   "outputs": [],
   "source": [
    "import random\n",
    "import pandas as pd\n",
    "\n",
    "import canvas_ux\n",
    "from canvas_scatterplot import CanvasScatterplot"
   ]
  },
  {
   "cell_type": "markdown",
   "id": "89c84ed5",
   "metadata": {},
   "source": [
    "### Create/Import Data \n",
    "\n",
    "Create a Pandas DataFrame with your data or the metadata for a dataset."
   ]
  },
  {
   "cell_type": "code",
   "execution_count": null,
   "id": "17f31899",
   "metadata": {
    "tags": []
   },
   "outputs": [],
   "source": [
    "ids = ['a' + str(i) for i in range(100)]\n",
    "x = [random.random() for i in range(100)]\n",
    "y = [random.random() for i in range(100)]\n",
    "category = [random.choice(['category_1','category_2','category_3']) for i in range(100)]\n",
    "\n",
    "df = pd.DataFrame(zip(x, y, category, ids), columns=['projection_coordinate_x', 'projection_coordinate_y', 'category', 'id'])"
   ]
  },
  {
   "cell_type": "code",
   "execution_count": null,
   "id": "682d1d8b",
   "metadata": {
    "tags": []
   },
   "outputs": [],
   "source": [
    "df"
   ]
  },
  {
   "cell_type": "markdown",
   "id": "9f46f0c7",
   "metadata": {},
   "source": [
    "### Create Canvas Widgets\n",
    "\n",
    "We can now explore the individual widgets!"
   ]
  },
  {
   "cell_type": "code",
   "execution_count": null,
   "id": "75014332",
   "metadata": {
    "tags": []
   },
   "outputs": [],
   "source": [
    "canva = canvas_ux.Canvas(df)"
   ]
  },
  {
   "cell_type": "code",
   "execution_count": null,
   "id": "e563b169",
   "metadata": {
    "tags": []
   },
   "outputs": [],
   "source": [
    "canva.widget(CanvasScatterplot)"
   ]
  },
  {
   "cell_type": "markdown",
   "id": "e9e6d295",
   "metadata": {},
   "source": [
    "Use `canvas_ux.set_selected()` to select a particular point in the widget through code."
   ]
  },
  {
   "cell_type": "code",
   "execution_count": null,
   "id": "48a80edd",
   "metadata": {
    "tags": []
   },
   "outputs": [],
   "source": [
    "canva.set_selected(['a0'])"
   ]
  },
  {
   "cell_type": "code",
   "execution_count": null,
   "id": "fee8ee9e",
   "metadata": {
    "tags": []
   },
   "outputs": [],
   "source": [
    "canva.export('./standalone', name=\"Widget Demo\")"
   ]
  }
 ],
 "metadata": {
  "finalized": {
   "timestamp": 1623266852462,
   "trusted": false
  },
  "kernelspec": {
   "display_name": "visualdataexplorer-dev",
   "language": "python",
   "name": "visualdataexplorer-dev"
  },
  "language_info": {
   "codemirror_mode": {
    "name": "ipython",
    "version": 3
   },
   "file_extension": ".py",
   "mimetype": "text/x-python",
   "name": "python",
   "nbconvert_exporter": "python",
   "pygments_lexer": "ipython3",
   "version": "3.10.16"
  },
  "metadata": {
   "interpreter": {
    "hash": "61676ae764c2630d6a4b513ad0617d91546daad86abd1efe70032d363af5955a"
   }
  }
 },
 "nbformat": 4,
 "nbformat_minor": 5
}
