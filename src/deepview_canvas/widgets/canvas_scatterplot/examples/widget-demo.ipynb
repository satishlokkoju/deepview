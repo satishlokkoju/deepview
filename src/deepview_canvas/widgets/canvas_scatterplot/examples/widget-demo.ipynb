{
 "cells": [
  {
   "cell_type": "markdown",
   "id": "d2582a8f",
   "metadata": {},
   "source": [
    "# Scatterplot Demo \n",
    "\n",
    "Run this noteboook to test your widget, and create the initial directory to be able to run `yarn dev`."
   ]
  },
  {
   "cell_type": "code",
   "execution_count": 1,
   "id": "93bc5411",
   "metadata": {
    "tags": []
   },
   "outputs": [],
   "source": [
    "%load_ext autoreload\n",
    "%autoreload 2"
   ]
  },
  {
   "cell_type": "code",
   "execution_count": 2,
   "id": "ae7f12b8",
   "metadata": {
    "tags": []
   },
   "outputs": [],
   "source": [
    "import random\n",
    "import pandas as pd\n",
    "\n",
    "import canvas_ux\n",
    "from canvas_scatterplot import CanvasScatterplot"
   ]
  },
  {
   "cell_type": "markdown",
   "id": "89c84ed5",
   "metadata": {},
   "source": [
    "### Create/Import Data \n",
    "\n",
    "Create a Pandas DataFrame with your data or the metadata for a dataset."
   ]
  },
  {
   "cell_type": "code",
   "execution_count": 3,
   "id": "17f31899",
   "metadata": {
    "tags": []
   },
   "outputs": [],
   "source": [
    "ids = ['a' + str(i) for i in range(100)]\n",
    "x = [random.random() for i in range(100)]\n",
    "y = [random.random() for i in range(100)]\n",
    "category = [random.choice(['category_1','category_2','category_3']) for i in range(100)]\n",
    "\n",
    "df = pd.DataFrame(zip(x, y, category, ids), columns=['projection_coordinate_x', 'projection_coordinate_y', 'category', 'id'])"
   ]
  },
  {
   "cell_type": "code",
   "execution_count": 4,
   "id": "682d1d8b",
   "metadata": {
    "tags": []
   },
   "outputs": [
    {
     "data": {
      "text/html": [
       "<div>\n",
       "<style scoped>\n",
       "    .dataframe tbody tr th:only-of-type {\n",
       "        vertical-align: middle;\n",
       "    }\n",
       "\n",
       "    .dataframe tbody tr th {\n",
       "        vertical-align: top;\n",
       "    }\n",
       "\n",
       "    .dataframe thead th {\n",
       "        text-align: right;\n",
       "    }\n",
       "</style>\n",
       "<table border=\"1\" class=\"dataframe\">\n",
       "  <thead>\n",
       "    <tr style=\"text-align: right;\">\n",
       "      <th></th>\n",
       "      <th>projection_coordinate_x</th>\n",
       "      <th>projection_coordinate_y</th>\n",
       "      <th>category</th>\n",
       "      <th>id</th>\n",
       "    </tr>\n",
       "  </thead>\n",
       "  <tbody>\n",
       "    <tr>\n",
       "      <th>0</th>\n",
       "      <td>0.074692</td>\n",
       "      <td>0.051846</td>\n",
       "      <td>category_1</td>\n",
       "      <td>a0</td>\n",
       "    </tr>\n",
       "    <tr>\n",
       "      <th>1</th>\n",
       "      <td>0.756486</td>\n",
       "      <td>0.980620</td>\n",
       "      <td>category_3</td>\n",
       "      <td>a1</td>\n",
       "    </tr>\n",
       "    <tr>\n",
       "      <th>2</th>\n",
       "      <td>0.359105</td>\n",
       "      <td>0.308287</td>\n",
       "      <td>category_2</td>\n",
       "      <td>a2</td>\n",
       "    </tr>\n",
       "    <tr>\n",
       "      <th>3</th>\n",
       "      <td>0.537710</td>\n",
       "      <td>0.374434</td>\n",
       "      <td>category_1</td>\n",
       "      <td>a3</td>\n",
       "    </tr>\n",
       "    <tr>\n",
       "      <th>4</th>\n",
       "      <td>0.187361</td>\n",
       "      <td>0.896698</td>\n",
       "      <td>category_2</td>\n",
       "      <td>a4</td>\n",
       "    </tr>\n",
       "    <tr>\n",
       "      <th>...</th>\n",
       "      <td>...</td>\n",
       "      <td>...</td>\n",
       "      <td>...</td>\n",
       "      <td>...</td>\n",
       "    </tr>\n",
       "    <tr>\n",
       "      <th>95</th>\n",
       "      <td>0.688671</td>\n",
       "      <td>0.819008</td>\n",
       "      <td>category_3</td>\n",
       "      <td>a95</td>\n",
       "    </tr>\n",
       "    <tr>\n",
       "      <th>96</th>\n",
       "      <td>0.334479</td>\n",
       "      <td>0.941462</td>\n",
       "      <td>category_3</td>\n",
       "      <td>a96</td>\n",
       "    </tr>\n",
       "    <tr>\n",
       "      <th>97</th>\n",
       "      <td>0.063011</td>\n",
       "      <td>0.779101</td>\n",
       "      <td>category_1</td>\n",
       "      <td>a97</td>\n",
       "    </tr>\n",
       "    <tr>\n",
       "      <th>98</th>\n",
       "      <td>0.838469</td>\n",
       "      <td>0.359538</td>\n",
       "      <td>category_3</td>\n",
       "      <td>a98</td>\n",
       "    </tr>\n",
       "    <tr>\n",
       "      <th>99</th>\n",
       "      <td>0.808485</td>\n",
       "      <td>0.545365</td>\n",
       "      <td>category_2</td>\n",
       "      <td>a99</td>\n",
       "    </tr>\n",
       "  </tbody>\n",
       "</table>\n",
       "<p>100 rows × 4 columns</p>\n",
       "</div>"
      ],
      "text/plain": [
       "    projection_coordinate_x  projection_coordinate_y    category   id\n",
       "0                  0.074692                 0.051846  category_1   a0\n",
       "1                  0.756486                 0.980620  category_3   a1\n",
       "2                  0.359105                 0.308287  category_2   a2\n",
       "3                  0.537710                 0.374434  category_1   a3\n",
       "4                  0.187361                 0.896698  category_2   a4\n",
       "..                      ...                      ...         ...  ...\n",
       "95                 0.688671                 0.819008  category_3  a95\n",
       "96                 0.334479                 0.941462  category_3  a96\n",
       "97                 0.063011                 0.779101  category_1  a97\n",
       "98                 0.838469                 0.359538  category_3  a98\n",
       "99                 0.808485                 0.545365  category_2  a99\n",
       "\n",
       "[100 rows x 4 columns]"
      ]
     },
     "execution_count": 4,
     "metadata": {},
     "output_type": "execute_result"
    }
   ],
   "source": [
    "df"
   ]
  },
  {
   "cell_type": "markdown",
   "id": "9f46f0c7",
   "metadata": {},
   "source": [
    "### Create Canvas Widgets\n",
    "\n",
    "We can now explore the individual widgets!"
   ]
  },
  {
   "cell_type": "code",
   "execution_count": 5,
   "id": "75014332",
   "metadata": {
    "tags": []
   },
   "outputs": [
    {
     "name": "stdout",
     "output_type": "stream",
     "text": [
      "Canvas spec dict value is {'filesPath': 'src/deepview_canvas/widgets/canvas_scatterplot/examples', 'dataType': 1, 'instancesPerPage': 150, 'showUnfilteredData': True, 'idColumn': 'id'}\n"
     ]
    }
   ],
   "source": [
    "symph = canvas_ux.Canvas(df)"
   ]
  },
  {
   "cell_type": "code",
   "execution_count": 7,
   "id": "e563b169",
   "metadata": {
    "tags": []
   },
   "outputs": [
    {
     "data": {
      "application/vnd.jupyter.widget-view+json": {
       "model_id": "b1307f684f51480596fe52abad436dc9",
       "version_major": 2,
       "version_minor": 0
      },
      "text/plain": [
       "HBox(children=(CanvasScatterplot(canvas_spec={'filesPath': 'src/deepview_canvas/widgets/canvas_scatterplot/exa…"
      ]
     },
     "execution_count": 7,
     "metadata": {},
     "output_type": "execute_result"
    }
   ],
   "source": [
    "symph.widget(CanvasScatterplot)"
   ]
  },
  {
   "cell_type": "markdown",
   "id": "e9e6d295",
   "metadata": {},
   "source": [
    "Use `canvas_ux.set_selected()` to select a particular point in the widget through code."
   ]
  },
  {
   "cell_type": "code",
   "execution_count": 8,
   "id": "48a80edd",
   "metadata": {
    "tags": []
   },
   "outputs": [],
   "source": [
    "symph.set_selected(['a0'])"
   ]
  },
  {
   "cell_type": "code",
   "execution_count": 9,
   "id": "fee8ee9e",
   "metadata": {
    "tags": []
   },
   "outputs": [
    {
     "name": "stdout",
     "output_type": "stream",
     "text": [
      "Canvas spec dict value is {'filesPath': 'src/deepview_canvas/widgets/canvas_scatterplot/examples', 'dataType': 1, 'instancesPerPage': 150, 'showUnfilteredData': True, 'idColumn': 'id'}\n"
     ]
    }
   ],
   "source": [
    "symph.export('./standalone', name=\"Widget Demo\")"
   ]
  },
  {
   "cell_type": "code",
   "execution_count": null,
   "id": "61958329-4ed4-42b6-ba01-858b1710023d",
   "metadata": {},
   "outputs": [],
   "source": []
  }
 ],
 "metadata": {
  "finalized": {
   "timestamp": 1623266852462,
   "trusted": false
  },
  "kernelspec": {
   "display_name": "visualdataexplorer-dev",
   "language": "python",
   "name": "visualdataexplorer-dev"
  },
  "language_info": {
   "codemirror_mode": {
    "name": "ipython",
    "version": 3
   },
   "file_extension": ".py",
   "mimetype": "text/x-python",
   "name": "python",
   "nbconvert_exporter": "python",
   "pygments_lexer": "ipython3",
   "version": "3.10.16"
  },
  "metadata": {
   "interpreter": {
    "hash": "61676ae764c2630d6a4b513ad0617d91546daad86abd1efe70032d363af5955a"
   }
  }
 },
 "nbformat": 4,
 "nbformat_minor": 5
}
