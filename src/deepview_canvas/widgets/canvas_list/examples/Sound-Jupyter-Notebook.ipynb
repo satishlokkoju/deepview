{
 "cells": [
  {
   "cell_type": "markdown",
   "id": "03bf10eb",
   "metadata": {},
   "source": [
    "# List Demo \n",
    "\n",
    "Run this noteboook to test your widget, and create the initial directory to be able to run `yarn dev`.\n",
    "\n",
    "This example uses audio data. To see [another example that uses image data](https://betterwithdata.github.io/ml-canvas/examples.html), see the CIFAR-10 example in the main `canvas_ui` examples."
   ]
  },
  {
   "cell_type": "code",
   "execution_count": 1,
   "id": "3d56a912",
   "metadata": {
    "tags": []
   },
   "outputs": [],
   "source": [
    "%load_ext autoreload\n",
    "%autoreload 2"
   ]
  },
  {
   "cell_type": "code",
   "execution_count": 2,
   "id": "08f41edf",
   "metadata": {
    "tags": []
   },
   "outputs": [
    {
     "ename": "ModuleNotFoundError",
     "evalue": "No module named 'git'",
     "output_type": "error",
     "traceback": [
      "\u001b[0;31m---------------------------------------------------------------------------\u001b[0m",
      "\u001b[0;31mModuleNotFoundError\u001b[0m                       Traceback (most recent call last)",
      "Cell \u001b[0;32mIn[2], line 1\u001b[0m\n\u001b[0;32m----> 1\u001b[0m \u001b[38;5;28;01mimport\u001b[39;00m \u001b[38;5;21;01mgit\u001b[39;00m\n",
      "\u001b[0;31mModuleNotFoundError\u001b[0m: No module named 'git'"
     ]
    }
   ],
   "source": [
    "import git\n"
   ]
  },
  {
   "cell_type": "code",
   "execution_count": 2,
   "id": "b37a02db-e951-4519-82d6-06e39d4fe8c1",
   "metadata": {
    "tags": []
   },
   "outputs": [],
   "source": [
    "from pathlib import Path\n",
    "import os\n",
    "import pandas as pd\n",
    "\n",
    "import canvas_ux\n",
    "from canvas_list import CanvasList"
   ]
  },
  {
   "cell_type": "markdown",
   "id": "8c6f244a",
   "metadata": {},
   "source": [
    "### Create/Import Data \n",
    "\n",
    "Create a Pandas DataFrame with your data or the metadata for a dataset."
   ]
  },
  {
   "cell_type": "code",
   "execution_count": 3,
   "id": "ff4f8387",
   "metadata": {
    "tags": []
   },
   "outputs": [],
   "source": [
    "clone_path = Path(\"./example_data/spoken\")\n",
    "\n",
    "if not os.path.exists(clone_path):\n",
    "    clone_path.mkdir(exist_ok=True, parents=True)\n",
    "    repo = git.Repo.clone_from(\n",
    "        'https://github.com/Jakobovski/free-spoken-digit-dataset.git',\n",
    "        './example_data/spoken/',\n",
    "        branch='master'\n",
    "    )"
   ]
  },
  {
   "cell_type": "code",
   "execution_count": 4,
   "id": "6fe23ee3",
   "metadata": {
    "tags": []
   },
   "outputs": [],
   "source": [
    "root_dir = Path(clone_path, 'recordings')\n",
    "file_set = set()\n",
    "\n",
    "for dir_, _, files in os.walk(root_dir):\n",
    "    for file_name in files:\n",
    "        if (file_name[-3:] == 'wav'):\n",
    "            rel_dir = os.path.relpath(dir_, root_dir)\n",
    "            rel_file = os.path.join(rel_dir, file_name)\n",
    "            file_set.add(rel_file)\n",
    "\n",
    "df = pd.DataFrame({'id': list(file_set),\n",
    "                       'label': [p.split('/')[1].split('_')[-3] for p in file_set], \n",
    "                       'speaker': [p.split('/')[1].split('_')[-2] for p in file_set],\n",
    "                      })"
   ]
  },
  {
   "cell_type": "code",
   "execution_count": 5,
   "id": "1797e30f",
   "metadata": {
    "tags": []
   },
   "outputs": [
    {
     "data": {
      "text/html": [
       "<div>\n",
       "<style scoped>\n",
       "    .dataframe tbody tr th:only-of-type {\n",
       "        vertical-align: middle;\n",
       "    }\n",
       "\n",
       "    .dataframe tbody tr th {\n",
       "        vertical-align: top;\n",
       "    }\n",
       "\n",
       "    .dataframe thead th {\n",
       "        text-align: right;\n",
       "    }\n",
       "</style>\n",
       "<table border=\"1\" class=\"dataframe\">\n",
       "  <thead>\n",
       "    <tr style=\"text-align: right;\">\n",
       "      <th></th>\n",
       "      <th>id</th>\n",
       "      <th>label</th>\n",
       "      <th>speaker</th>\n",
       "    </tr>\n",
       "  </thead>\n",
       "  <tbody>\n",
       "    <tr>\n",
       "      <th>0</th>\n",
       "      <td>./0_nicolas_34.wav</td>\n",
       "      <td>0</td>\n",
       "      <td>nicolas</td>\n",
       "    </tr>\n",
       "    <tr>\n",
       "      <th>1</th>\n",
       "      <td>./7_theo_18.wav</td>\n",
       "      <td>7</td>\n",
       "      <td>theo</td>\n",
       "    </tr>\n",
       "    <tr>\n",
       "      <th>2</th>\n",
       "      <td>./8_lucas_47.wav</td>\n",
       "      <td>8</td>\n",
       "      <td>lucas</td>\n",
       "    </tr>\n",
       "    <tr>\n",
       "      <th>3</th>\n",
       "      <td>./9_yweweler_30.wav</td>\n",
       "      <td>9</td>\n",
       "      <td>yweweler</td>\n",
       "    </tr>\n",
       "    <tr>\n",
       "      <th>4</th>\n",
       "      <td>./3_nicolas_23.wav</td>\n",
       "      <td>3</td>\n",
       "      <td>nicolas</td>\n",
       "    </tr>\n",
       "  </tbody>\n",
       "</table>\n",
       "</div>"
      ],
      "text/plain": [
       "                    id label   speaker\n",
       "0   ./0_nicolas_34.wav     0   nicolas\n",
       "1      ./7_theo_18.wav     7      theo\n",
       "2     ./8_lucas_47.wav     8     lucas\n",
       "3  ./9_yweweler_30.wav     9  yweweler\n",
       "4   ./3_nicolas_23.wav     3   nicolas"
      ]
     },
     "execution_count": 5,
     "metadata": {},
     "output_type": "execute_result"
    }
   ],
   "source": [
    "df.head()"
   ]
  },
  {
   "cell_type": "markdown",
   "id": "691efacd",
   "metadata": {},
   "source": [
    "### Create Canvas Widgets\n",
    "\n",
    "We can now explore the individual widgets!"
   ]
  },
  {
   "cell_type": "code",
   "execution_count": 6,
   "id": "61080bf6",
   "metadata": {
    "tags": []
   },
   "outputs": [
    {
     "name": "stdout",
     "output_type": "stream",
     "text": [
      "Canvas spec dict value is {'filesPath': 'src/deepview_canvas/widgets/canvas_list/examples/./example_data/spoken/recordings/', 'dataType': 3, 'instancesPerPage': 10, 'showUnfilteredData': True, 'idColumn': 'id'}\n"
     ]
    }
   ],
   "source": [
    "symph = canvas_ux.Canvas(df, files_path='./example_data/spoken/recordings/' ,instances_per_page=10)"
   ]
  },
  {
   "cell_type": "code",
   "execution_count": 7,
   "id": "0da4ddf3",
   "metadata": {
    "scrolled": true,
    "tags": []
   },
   "outputs": [
    {
     "name": "stdout",
     "output_type": "stream",
     "text": [
      "/media/satish/Development/workspace/projects/deepview_dev/src/deepview_canvas/widgets/canvas_list/examples\n",
      "Canvas spec dict value is {'width': 'XXL', 'height': 'M', 'page': 'List', 'name': 'CanvasList', 'description': 'A Canvas component that displays a view of data instances'}\n"
     ]
    },
    {
     "data": {
      "application/vnd.jupyter.widget-view+json": {
       "model_id": "03d6fd15ca184511a46d30a39be6f02d",
       "version_major": 2,
       "version_minor": 0
      },
      "text/plain": [
       "HBox(children=(CanvasList(layout=Layout(overflow='unset', width='100%'), widget_spec={'width': 'XXL', 'height'…"
      ]
     },
     "execution_count": 7,
     "metadata": {},
     "output_type": "execute_result"
    }
   ],
   "source": [
    "symph.widget(CanvasList)"
   ]
  },
  {
   "cell_type": "code",
   "execution_count": 8,
   "id": "28f74dc6",
   "metadata": {},
   "outputs": [
    {
     "name": "stdout",
     "output_type": "stream",
     "text": [
      "Canvas spec dict value is {'filesPath': 'files/', 'dataType': 3, 'instancesPerPage': 10, 'showUnfilteredData': True, 'idColumn': 'id'}\n"
     ]
    }
   ],
   "source": [
    "symph.export('./standalone_new', symlink_files=True,name=\"Speech\")"
   ]
  },
  {
   "cell_type": "code",
   "execution_count": null,
   "id": "d30c1083",
   "metadata": {},
   "outputs": [],
   "source": []
  }
 ],
 "metadata": {
  "kernelspec": {
   "display_name": "betterwithdata",
   "language": "python",
   "name": "betterwithdata"
  },
  "language_info": {
   "codemirror_mode": {
    "name": "ipython",
    "version": 3
   },
   "file_extension": ".py",
   "mimetype": "text/x-python",
   "name": "python",
   "nbconvert_exporter": "python",
   "pygments_lexer": "ipython3",
   "version": "3.10.15"
  }
 },
 "nbformat": 4,
 "nbformat_minor": 5
}
