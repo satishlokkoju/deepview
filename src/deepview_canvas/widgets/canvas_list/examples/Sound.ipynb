{
 "cells": [
  {
   "cell_type": "markdown",
   "id": "03bf10eb",
   "metadata": {},
   "source": [
    "# List Demo \n",
    "\n",
    "Run this noteboook to test your widget, and create the initial directory to be able to run `yarn dev`.\n",
    "\n",
    "This example uses audio data. To see [another example that uses image data](https://betterwithdata.github.io/ml-canvas/examples.html), see the CIFAR-10 example in the main `canvas_ux` examples."
   ]
  },
  {
   "cell_type": "code",
   "execution_count": null,
   "id": "3d56a912",
   "metadata": {
    "tags": []
   },
   "outputs": [],
   "source": [
    "%load_ext autoreload\n",
    "%autoreload 2"
   ]
  },
  {
   "cell_type": "code",
   "execution_count": null,
   "id": "bd28c9ac-0bec-49bd-a150-fcdff95def6e",
   "metadata": {},
   "outputs": [],
   "source": [
    "#import git"
   ]
  },
  {
   "cell_type": "code",
   "execution_count": null,
   "id": "08f41edf",
   "metadata": {
    "tags": []
   },
   "outputs": [],
   "source": [
    "\n",
    "from pathlib import Path\n",
    "import os\n",
    "import pandas as pd\n",
    "\n",
    "import canvas_ux\n",
    "from canvas_list import CanvasList"
   ]
  },
  {
   "cell_type": "markdown",
   "id": "8c6f244a",
   "metadata": {},
   "source": [
    "### Create/Import Data \n",
    "\n",
    "Create a Pandas DataFrame with your data or the metadata for a dataset."
   ]
  },
  {
   "cell_type": "code",
   "execution_count": null,
   "id": "ff4f8387",
   "metadata": {
    "tags": []
   },
   "outputs": [],
   "source": [
    "clone_path = Path(\"./example_data/spoken\")\n"
   ]
  },
  {
   "cell_type": "code",
   "execution_count": null,
   "id": "9e90e7a1-1d9e-43e6-8d0e-ac0cb7c1c1da",
   "metadata": {
    "tags": []
   },
   "outputs": [],
   "source": [
    "\n",
    "if not os.path.exists(clone_path):\n",
    "    clone_path.mkdir(exist_ok=True, parents=True)\n",
    "    repo = git.Repo.clone_from(\n",
    "        'https://github.com/Jakobovski/free-spoken-digit-dataset.git',\n",
    "        './example_data/spoken/',\n",
    "        branch='master'\n",
    "    )"
   ]
  },
  {
   "cell_type": "code",
   "execution_count": null,
   "id": "6fe23ee3",
   "metadata": {
    "tags": []
   },
   "outputs": [],
   "source": [
    "root_dir = Path(clone_path, 'recordings')\n",
    "file_set = set()\n",
    "\n",
    "for dir_, _, files in os.walk(root_dir):\n",
    "    for file_name in files:\n",
    "        if (file_name[-3:] == 'wav'):\n",
    "            file_path = os.path.join(root_dir, file_name)\n",
    "            file_set.add(file_path)\n",
    "\n",
    "df = pd.DataFrame({'id': list(file_set),\n",
    "                       'label': [os.path.basename(p).split('_')[-3] for p in file_set], \n",
    "                       'speaker': [os.path.basename(p).split('_')[-2] for p in file_set],\n",
    "                      })"
   ]
  },
  {
   "cell_type": "code",
   "execution_count": null,
   "id": "1797e30f",
   "metadata": {
    "tags": []
   },
   "outputs": [],
   "source": [
    "df.head()"
   ]
  },
  {
   "cell_type": "markdown",
   "id": "691efacd",
   "metadata": {},
   "source": [
    "### Create Canvas Widgets\n",
    "\n",
    "We can now explore the individual widgets!"
   ]
  },
  {
   "cell_type": "code",
   "execution_count": null,
   "id": "61080bf6",
   "metadata": {
    "tags": []
   },
   "outputs": [],
   "source": [
    "symph = canvas_ux.Canvas(df,instances_per_page=10)"
   ]
  },
  {
   "cell_type": "code",
   "execution_count": null,
   "id": "0da4ddf3",
   "metadata": {
    "scrolled": true,
    "tags": []
   },
   "outputs": [],
   "source": [
    "symph.widget(CanvasList)"
   ]
  },
  {
   "cell_type": "code",
   "execution_count": null,
   "id": "28f74dc6",
   "metadata": {
    "tags": []
   },
   "outputs": [],
   "source": [
    "symph.export('./standalone_new', symlink_files=True,name=\"Speech\")"
   ]
  },
  {
   "cell_type": "code",
   "execution_count": null,
   "id": "d30c1083",
   "metadata": {},
   "outputs": [],
   "source": []
  },
  {
   "cell_type": "code",
   "execution_count": null,
   "id": "1d199a2f-d32a-42c5-8d33-71575a52e6a1",
   "metadata": {
    "tags": []
   },
   "outputs": [],
   "source": []
  },
  {
   "cell_type": "code",
   "execution_count": null,
   "id": "7c4aea76-49f2-4d26-bb42-08ba713213f8",
   "metadata": {},
   "outputs": [],
   "source": []
  }
 ],
 "metadata": {
  "kernelspec": {
   "display_name": "visualdataexplorer-dev",
   "language": "python",
   "name": "visualdataexplorer-dev"
  },
  "language_info": {
   "codemirror_mode": {
    "name": "ipython",
    "version": 3
   },
   "file_extension": ".py",
   "mimetype": "text/x-python",
   "name": "python",
   "nbconvert_exporter": "python",
   "pygments_lexer": "ipython3",
   "version": "3.10.16"
  }
 },
 "nbformat": 4,
 "nbformat_minor": 5
}
