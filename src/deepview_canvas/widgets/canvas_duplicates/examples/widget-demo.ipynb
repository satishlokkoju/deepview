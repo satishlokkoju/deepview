{
 "cells": [
  {
   "cell_type": "markdown",
   "id": "03bf10eb",
   "metadata": {},
   "source": [
    "# Duplicates Demo \n",
    "\n",
    "Run this noteboook to test your widget, and create the initial directory to be able to run `yarn dev`.\n",
    "\n",
    "Note: this widget works well with data from [DNIKit](https://github.com/betterwithdata/dnikit). To try an example on realistic duplicates data, see the [CIFAR-10 example](https://github.com/betterwithdata/ml-canvas/examples/canvas-cifar-example.ipynb) in the main `canvas_ui` project."
   ]
  },
  {
   "cell_type": "code",
   "execution_count": 1,
   "id": "29e42b23",
   "metadata": {
    "tags": []
   },
   "outputs": [],
   "source": [
    "%load_ext autoreload\n",
    "%autoreload 2"
   ]
  },
  {
   "cell_type": "code",
   "execution_count": 2,
   "id": "f43e775c",
   "metadata": {
    "tags": []
   },
   "outputs": [],
   "source": [
    "import random\n",
    "import pandas as pd\n",
    "\n",
    "import canvas_ux\n",
    "from canvas_duplicates import CanvasDuplicates"
   ]
  },
  {
   "cell_type": "markdown",
   "id": "9101d772",
   "metadata": {},
   "source": [
    "### Create/Import Data \n",
    "\n",
    "Create a Pandas DataFrame with your data or the metadata for a dataset."
   ]
  },
  {
   "cell_type": "code",
   "execution_count": 3,
   "id": "12155c06",
   "metadata": {
    "tags": []
   },
   "outputs": [],
   "source": [
    "duplicates = [random.choice([1, 2, 3, 4, 5]) for i in range(100)]\n",
    "group = [random.choice(['group_1', 'group_2']) for i in range(100)]\n",
    "\n",
    "df = pd.DataFrame(zip(group, duplicates), columns=['group', 'duplicates_example_layer'])"
   ]
  },
  {
   "cell_type": "code",
   "execution_count": null,
   "id": "4c0efa90",
   "metadata": {
    "tags": []
   },
   "outputs": [],
   "source": [
    "df.head()"
   ]
  },
  {
   "cell_type": "markdown",
   "id": "f85d6878",
   "metadata": {},
   "source": [
    "### Create Canvas Widgets\n",
    "\n",
    "We can now explore the individual widgets!"
   ]
  },
  {
   "cell_type": "code",
   "execution_count": null,
   "id": "83f01726",
   "metadata": {
    "tags": []
   },
   "outputs": [],
   "source": [
    "symph = canvas_ux.Canvas(df)"
   ]
  },
  {
   "cell_type": "code",
   "execution_count": null,
   "id": "f0d3027c",
   "metadata": {
    "tags": []
   },
   "outputs": [],
   "source": [
    "symph.widget(CanvasDuplicates)"
   ]
  },
  {
   "cell_type": "code",
   "execution_count": null,
   "id": "4a789212",
   "metadata": {},
   "outputs": [],
   "source": [
    "symph.export('./standalone', name=\"Widget Demo\")"
   ]
  },
  {
   "cell_type": "code",
   "execution_count": null,
   "id": "d5bdfa9c",
   "metadata": {},
   "outputs": [],
   "source": []
  }
 ],
 "metadata": {
  "finalized": {
   "timestamp": 1623266852462,
   "trusted": false
  },
  "kernelspec": {
   "display_name": "betterwithdata",
   "language": "python",
   "name": "betterwithdata"
  },
  "language_info": {
   "codemirror_mode": {
    "name": "ipython",
    "version": 3
   },
   "file_extension": ".py",
   "mimetype": "text/x-python",
   "name": "python",
   "nbconvert_exporter": "python",
   "pygments_lexer": "ipython3",
   "version": "3.10.15"
  },
  "metadata": {
   "interpreter": {
    "hash": "61676ae764c2630d6a4b513ad0617d91546daad86abd1efe70032d363af5955a"
   }
  },
  "widgets": {
   "application/vnd.jupyter.widget-state+json": {
    "state": {
     "0c03e2a7531c4d9d83e712fc8a0ba473": {
      "model_module": "@jupyter-widgets/controls",
      "model_module_version": "1.5.0",
      "model_name": "LinkModel",
      "state": {
       "source": [
        "IPY_MODEL_b78cceb584de4189b2ff02af3f8c4d17",
        "selected"
       ],
       "target": [
        "IPY_MODEL_1e04700962c84ae49b4ba74dbda796a3",
        "selected"
       ]
      }
     },
     "14660838f5c84551b041279da4ee50a1": {
      "model_module": "@jupyter-widgets/controls",
      "model_module_version": "1.5.0",
      "model_name": "DirectionalLinkModel",
      "state": {
       "source": [
        "IPY_MODEL_b78cceb584de4189b2ff02af3f8c4d17",
        "table"
       ],
       "target": [
        "IPY_MODEL_1e04700962c84ae49b4ba74dbda796a3",
        "table"
       ]
      }
     },
     "1e04700962c84ae49b4ba74dbda796a3": {
      "buffers": [
       {
        "data": "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",
        "encoding": "base64",
        "path": [
         "table"
        ]
       }
      ],
      "model_module": "canvas-duplicates",
      "model_module_version": "^0.1.0",
      "model_name": "CanvasDuplicatesModel",
      "state": {
       "_model_module_version": "^0.1.0",
       "_view_module_version": "^0.1.0",
       "canvas_spec": {
        "files_path": "./files/./images/",
        "id_column": "id"
       },
       "filter": "",
       "group_columns": [],
       "layout": "IPY_MODEL_f4bcb4a9945642919975b47d9a217d0d",
       "selected": [],
       "show_raw": true,
       "table": {},
       "widget_spec": {
        "description": "Inspect potential duplicates in a dataset.",
        "height": "M",
        "name": "CanvasDuplicates",
        "page": "Duplicates",
        "width": "XXL"
       }
      }
     },
     "3346b1e738d640f78e69ebb5d900dfc7": {
      "model_module": "@jupyter-widgets/controls",
      "model_module_version": "1.5.0",
      "model_name": "VBoxModel",
      "state": {
       "children": [
        "IPY_MODEL_b78cceb584de4189b2ff02af3f8c4d17",
        "IPY_MODEL_1e04700962c84ae49b4ba74dbda796a3"
       ],
       "layout": "IPY_MODEL_f4bcb4a9945642919975b47d9a217d0d"
      }
     },
     "3a8f47de7ec8432e896b0d221b4782fb": {
      "model_module": "@jupyter-widgets/controls",
      "model_module_version": "1.5.0",
      "model_name": "LinkModel",
      "state": {
       "source": [
        "IPY_MODEL_b78cceb584de4189b2ff02af3f8c4d17",
        "filter"
       ],
       "target": [
        "IPY_MODEL_1e04700962c84ae49b4ba74dbda796a3",
        "filter"
       ]
      }
     },
     "5846a7e87db343d7ace4be0d2bbbb46b": {
      "model_module": "@jupyter-widgets/controls",
      "model_module_version": "1.5.0",
      "model_name": "LinkModel",
      "state": {
       "source": [
        "IPY_MODEL_b78cceb584de4189b2ff02af3f8c4d17",
        "show_raw"
       ],
       "target": [
        "IPY_MODEL_1e04700962c84ae49b4ba74dbda796a3",
        "show_raw"
       ]
      }
     },
     "9fd52ecb42f74a3388d1cfbc9faa0842": {
      "model_module": "@jupyter-widgets/controls",
      "model_module_version": "1.5.0",
      "model_name": "DirectionalLinkModel",
      "state": {
       "source": [
        "IPY_MODEL_b78cceb584de4189b2ff02af3f8c4d17",
        "canvas_spec"
       ],
       "target": [
        "IPY_MODEL_1e04700962c84ae49b4ba74dbda796a3",
        "canvas_spec"
       ]
      }
     },
     "b78cceb584de4189b2ff02af3f8c4d17": {
      "model_module": "canvas",
      "model_module_version": "^1.0.5",
      "model_name": "ToolbarModel",
      "state": {
       "_model_module_version": "^1.0.5",
       "_view_module_version": "^1.0.5",
       "canvas_spec": {
        "files_path": "./files/./images/",
        "id_column": "id"
       },
       "filter": "",
       "group_columns": [],
       "layout": "IPY_MODEL_f4bcb4a9945642919975b47d9a217d0d",
       "selected": [],
       "show_raw": true,
       "table": {},
       "widget_spec": {
        "name": "toolbar"
       }
      }
     },
     "e0432e9bde4a4e4ebd029ba834509200": {
      "model_module": "@jupyter-widgets/controls",
      "model_module_version": "1.5.0",
      "model_name": "LinkModel",
      "state": {
       "source": [
        "IPY_MODEL_b78cceb584de4189b2ff02af3f8c4d17",
        "group_columns"
       ],
       "target": [
        "IPY_MODEL_1e04700962c84ae49b4ba74dbda796a3",
        "group_columns"
       ]
      }
     },
     "f4bcb4a9945642919975b47d9a217d0d": {
      "model_module": "@jupyter-widgets/base",
      "model_module_version": "1.2.0",
      "model_name": "LayoutModel",
      "state": {
       "overflow": "unset"
      }
     }
    },
    "version_major": 2,
    "version_minor": 0
   }
  }
 },
 "nbformat": 4,
 "nbformat_minor": 5
}
