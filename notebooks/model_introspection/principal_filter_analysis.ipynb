{
 "cells": [
  {
   "cell_type": "markdown",
   "metadata": {
    "pycharm": {
     "name": "#%% md\n"
    }
   },
   "source": [
    "# Principal Filter Analysis (PFA): Compression Basic Example for MobileNet on CIFAR-10\n",
    "\n",
    "This notebook provides an example of how to apply [PFA](https://apple.github.io/deepview/api/deepview/introspectors.html#deepview.introspectors.PFA) to a model (MobileNet) using data from CIFAR-10 and obtain the recipes that PFA recommends to follow in order to re-architect the network and obtain a smaller model while trying to preserve accuracy."
   ]
  },
  {
   "cell_type": "markdown",
   "metadata": {
    "pycharm": {
     "name": "#%% md\n"
    }
   },
   "source": [
    "## 1. Use DeepView to run inference and collect responses from a model\n",
    "In order to run PFA, it's necessary to run inference using some data and collect the responses from the layers to analyze and compress. See the docs for more information about how to [load a model](https://apple.github.io/deepview/how_to/connect_model.html) into DeepView."
   ]
  },
  {
   "cell_type": "code",
   "execution_count": 1,
   "metadata": {
    "pycharm": {
     "name": "#%%\n"
    },
    "tags": []
   },
   "outputs": [
    {
     "name": "stderr",
     "output_type": "stream",
     "text": [
      "2024-11-28 07:50:32.842583: I tensorflow/core/util/port.cc:113] oneDNN custom operations are on. You may see slightly different numerical results due to floating-point round-off errors from different computation orders. To turn them off, set the environment variable `TF_ENABLE_ONEDNN_OPTS=0`.\n",
      "2024-11-28 07:50:32.861264: E external/local_xla/xla/stream_executor/cuda/cuda_dnn.cc:9261] Unable to register cuDNN factory: Attempting to register factory for plugin cuDNN when one has already been registered\n",
      "2024-11-28 07:50:32.861282: E external/local_xla/xla/stream_executor/cuda/cuda_fft.cc:607] Unable to register cuFFT factory: Attempting to register factory for plugin cuFFT when one has already been registered\n",
      "2024-11-28 07:50:32.861806: E external/local_xla/xla/stream_executor/cuda/cuda_blas.cc:1515] Unable to register cuBLAS factory: Attempting to register factory for plugin cuBLAS when one has already been registered\n",
      "2024-11-28 07:50:32.865062: I tensorflow/core/platform/cpu_feature_guard.cc:182] This TensorFlow binary is optimized to use available CPU instructions in performance-critical operations.\n",
      "To enable the following instructions: AVX2 AVX_VNNI FMA, in other operations, rebuild TensorFlow with the appropriate compiler flags.\n",
      "2024-11-28 07:50:33.222727: W tensorflow/compiler/tf2tensorrt/utils/py_utils.cc:38] TF-TRT Warning: Could not find TensorRT\n"
     ]
    }
   ],
   "source": [
    "import pandas as pd\n",
    "\n",
    "from deepview.base import pipeline, ImageFormat, ResponseInfo\n",
    "from deepview_tensorflow import TFModelExamples, TFDatasetExamples\n",
    "from deepview.processors import ImageResizer, Pooler\n",
    "\n",
    "from deepview.exceptions import enable_deprecation_warnings\n",
    "enable_deprecation_warnings(error=True)  # treat DeepView deprecation warnings as errors"
   ]
  },
  {
   "cell_type": "markdown",
   "metadata": {
    "pycharm": {
     "name": "#%% md\n"
    }
   },
   "source": [
    "### 1a. Download a model, MobileNet, and store it locally\n",
    "This will be the model to analyze with PFA. [TFModelExamples](https://apple.github.io/deepview/api/deepview_tensorflow/index.html#deepview_tensorflow.TFModelExamples) are used to [load the model](https://apple.github.io/deepview/how_to/connect_model.html), which loads the model from memory using [deepview_tensorflow.load_tf_model_from_memory](https://apple.github.io/deepview/api/deepview/tensorflow.html#deepview_tensorflow.load_tf_model_from_memory) under the hood."
   ]
  },
  {
   "cell_type": "code",
   "execution_count": 4,
   "metadata": {
    "tags": []
   },
   "outputs": [
    {
     "name": "stderr",
     "output_type": "stream",
     "text": [
      "2024-11-28 07:50:54.307994: I external/local_xla/xla/stream_executor/cuda/cuda_executor.cc:901] successful NUMA node read from SysFS had negative value (-1), but there must be at least one NUMA node, so returning NUMA node zero. See more at https://github.com/torvalds/linux/blob/v6.0/Documentation/ABI/testing/sysfs-bus-pci#L344-L355\n",
      "2024-11-28 07:50:54.310187: I external/local_xla/xla/stream_executor/cuda/cuda_executor.cc:901] successful NUMA node read from SysFS had negative value (-1), but there must be at least one NUMA node, so returning NUMA node zero. See more at https://github.com/torvalds/linux/blob/v6.0/Documentation/ABI/testing/sysfs-bus-pci#L344-L355\n",
      "2024-11-28 07:50:54.311499: I external/local_xla/xla/stream_executor/cuda/cuda_executor.cc:901] successful NUMA node read from SysFS had negative value (-1), but there must be at least one NUMA node, so returning NUMA node zero. See more at https://github.com/torvalds/linux/blob/v6.0/Documentation/ABI/testing/sysfs-bus-pci#L344-L355\n",
      "2024-11-28 07:50:54.400335: I external/local_xla/xla/stream_executor/cuda/cuda_executor.cc:901] successful NUMA node read from SysFS had negative value (-1), but there must be at least one NUMA node, so returning NUMA node zero. See more at https://github.com/torvalds/linux/blob/v6.0/Documentation/ABI/testing/sysfs-bus-pci#L344-L355\n",
      "2024-11-28 07:50:54.401251: I external/local_xla/xla/stream_executor/cuda/cuda_executor.cc:901] successful NUMA node read from SysFS had negative value (-1), but there must be at least one NUMA node, so returning NUMA node zero. See more at https://github.com/torvalds/linux/blob/v6.0/Documentation/ABI/testing/sysfs-bus-pci#L344-L355\n",
      "2024-11-28 07:50:54.402046: I external/local_xla/xla/stream_executor/cuda/cuda_executor.cc:901] successful NUMA node read from SysFS had negative value (-1), but there must be at least one NUMA node, so returning NUMA node zero. See more at https://github.com/torvalds/linux/blob/v6.0/Documentation/ABI/testing/sysfs-bus-pci#L344-L355\n",
      "2024-11-28 07:50:54.402854: I tensorflow/core/common_runtime/gpu/gpu_device.cc:1929] Created device /job:localhost/replica:0/task:0/device:GPU:0 with 983 MB memory:  -> device: 0, name: NVIDIA GeForce RTX 4090, pci bus id: 0000:01:00.0, compute capability: 8.9\n"
     ]
    },
    {
     "name": "stdout",
     "output_type": "stream",
     "text": [
      "WARNING:tensorflow:Compiled the loaded model, but the compiled metrics have yet to be built. `model.compile_metrics` will be empty until you train or evaluate the model.\n"
     ]
    },
    {
     "name": "stderr",
     "output_type": "stream",
     "text": [
      "/home/satish/miniforge3/envs/betterwithdata/lib/python3.10/site-packages/keras/src/engine/training.py:3103: UserWarning: You are saving your model as an HDF5 file via `model.save()`. This file format is considered legacy. We recommend using instead the native Keras format, e.g. `model.save('my_model.keras')`.\n",
      "  saving_api.save_model(\n"
     ]
    }
   ],
   "source": [
    "# Load MobileNet\n",
    "mobilenet = TFModelExamples.MobileNet()"
   ]
  },
  {
   "cell_type": "markdown",
   "metadata": {
    "pycharm": {
     "name": "#%% md\n"
    }
   },
   "source": [
    "### 1.b Find input layers\n",
    "The name of the input placeholder is needed to tell DeepView where data needs to be fed. The following loop shows how all layers can be filtered to find the Input name.\n",
    "\n",
    "The input name will be `input_1`, later this information will be used when inference is run."
   ]
  },
  {
   "cell_type": "code",
   "execution_count": 5,
   "metadata": {
    "pycharm": {
     "name": "#%%\n"
    },
    "tags": []
   },
   "outputs": [
    {
     "name": "stdout",
     "output_type": "stream",
     "text": [
      "['input_2']\n"
     ]
    }
   ],
   "source": [
    "possible_input_layers = [\n",
    "    info.name\n",
    "    for info in mobilenet.response_infos.values()\n",
    "    if info.layer.kind is ResponseInfo.LayerKind.PLACEHOLDER\n",
    "    and 'input' in info.name\n",
    "]\n",
    "\n",
    "print(possible_input_layers)"
   ]
  },
  {
   "cell_type": "markdown",
   "metadata": {
    "pycharm": {
     "name": "#%% md\n"
    }
   },
   "source": [
    "### 1.c Find Convolution layers\n",
    "Similarly to the prior cell, here all layers are parsed in search of `Conv2D` layers. This is the set of layers that to analyze using PFA. If the list of names of the layers to analyze is already known, it can be passed directly to the loaded model (see step 1.f).\n",
    "\n",
    "Notice that the output layer (whose name is `conv_preds`) is excluded, since its size is determined by the number of classes of this problem."
   ]
  },
  {
   "cell_type": "code",
   "execution_count": 6,
   "metadata": {
    "pycharm": {
     "name": "#%%\n"
    },
    "tags": []
   },
   "outputs": [
    {
     "name": "stdout",
     "output_type": "stream",
     "text": [
      "conv1 (Dimension(None), Dimension(112), Dimension(112), Dimension(32))\n",
      "conv_dw_1 (Dimension(None), Dimension(112), Dimension(112), Dimension(32))\n",
      "conv_pw_1 (Dimension(None), Dimension(112), Dimension(112), Dimension(64))\n",
      "conv_pad_2 (Dimension(None), Dimension(113), Dimension(113), Dimension(64))\n",
      "conv_dw_2 (Dimension(None), Dimension(56), Dimension(56), Dimension(64))\n",
      "conv_pw_2 (Dimension(None), Dimension(56), Dimension(56), Dimension(128))\n",
      "conv_dw_3 (Dimension(None), Dimension(56), Dimension(56), Dimension(128))\n",
      "conv_pw_3 (Dimension(None), Dimension(56), Dimension(56), Dimension(128))\n",
      "conv_pad_4 (Dimension(None), Dimension(57), Dimension(57), Dimension(128))\n",
      "conv_dw_4 (Dimension(None), Dimension(28), Dimension(28), Dimension(128))\n",
      "conv_pw_4 (Dimension(None), Dimension(28), Dimension(28), Dimension(256))\n",
      "conv_dw_5 (Dimension(None), Dimension(28), Dimension(28), Dimension(256))\n",
      "conv_pw_5 (Dimension(None), Dimension(28), Dimension(28), Dimension(256))\n",
      "conv_pad_6 (Dimension(None), Dimension(29), Dimension(29), Dimension(256))\n",
      "conv_dw_6 (Dimension(None), Dimension(14), Dimension(14), Dimension(256))\n",
      "conv_pw_6 (Dimension(None), Dimension(14), Dimension(14), Dimension(512))\n",
      "conv_dw_7 (Dimension(None), Dimension(14), Dimension(14), Dimension(512))\n",
      "conv_pw_7 (Dimension(None), Dimension(14), Dimension(14), Dimension(512))\n",
      "conv_dw_8 (Dimension(None), Dimension(14), Dimension(14), Dimension(512))\n",
      "conv_pw_8 (Dimension(None), Dimension(14), Dimension(14), Dimension(512))\n",
      "conv_dw_9 (Dimension(None), Dimension(14), Dimension(14), Dimension(512))\n",
      "conv_pw_9 (Dimension(None), Dimension(14), Dimension(14), Dimension(512))\n",
      "conv_dw_10 (Dimension(None), Dimension(14), Dimension(14), Dimension(512))\n",
      "conv_pw_10 (Dimension(None), Dimension(14), Dimension(14), Dimension(512))\n",
      "conv_dw_11 (Dimension(None), Dimension(14), Dimension(14), Dimension(512))\n",
      "conv_pw_11 (Dimension(None), Dimension(14), Dimension(14), Dimension(512))\n",
      "conv_pad_12 (Dimension(None), Dimension(15), Dimension(15), Dimension(512))\n",
      "conv_dw_12 (Dimension(None), Dimension(7), Dimension(7), Dimension(512))\n",
      "conv_pw_12 (Dimension(None), Dimension(7), Dimension(7), Dimension(1024))\n",
      "conv_dw_13 (Dimension(None), Dimension(7), Dimension(7), Dimension(1024))\n",
      "conv_pw_13 (Dimension(None), Dimension(7), Dimension(7), Dimension(1024))\n"
     ]
    }
   ],
   "source": [
    "conv2d_responses = [\n",
    "    info.name\n",
    "    for info in mobilenet.response_infos.values()\n",
    "    if info.layer.kind == ResponseInfo.LayerKind.CONV_2D\n",
    "    and 'preds' not in info.name\n",
    "]\n",
    "\n",
    "for name in conv2d_responses:\n",
    "    info = mobilenet.response_infos[name]\n",
    "    print(f\"{info.name} {info.shape}\")"
   ]
  },
  {
   "cell_type": "markdown",
   "metadata": {
    "pycharm": {
     "name": "#%% md\n"
    }
   },
   "source": [
    "### 1.d Create a DNI Dataset wrapping CIFAR-10\n",
    "Download CIFAR-10 data and only use 2000 images for the example, so inference is faster.\n",
    "\n",
    "In order to be able to use CIFAR-10 in DeepView, it's necessary to wrap the data into a [Producer](https://apple.github.io/deepview/api/deepview/base.html#deepview.base.Producer) (if these were normal images, [ImageProducer](https://apple.github.io/deepview/api/deepview/base.html#deepview.base.ImageProducer) could be used with an input path).\n",
    "\n",
    "Moreover, MobileNet accepts images of size `224x224`, so the CIFAR-10 images need to be pre-processed by resizing them from `32x32` to `224x224`. DeepView provides a set of processors in the module [deepview.processors](https://apple.github.io/deepview/api/deepview/processors.html). [ImageResizer](https://apple.github.io/deepview/api/deepview/processors.html#deepview.processors.ImageResizer) is used and passed into a new [pipeline](https://apple.github.io/deepview/api/deepview/base.html#deepview.base.pipeline) that applies such pre-processing on top of CIFAR-10.\n",
    "\n",
    "**Note:** [TFDatasetExamples](https://apple.github.io/deepview/api/deepview_tensorflow/index.html#deepview_tensorflow.TFDatasetExamples) are used here to load the data. To learn how to write a custom Producer that conforms to the [Producer](https://apple.github.io/deepview/api/deepview/base.html#deepview.base.Producer) protocol, see [load data](https://apple.github.io/deepview/how_to/connect_data.html) in the documentation."
   ]
  },
  {
   "cell_type": "code",
   "execution_count": 7,
   "metadata": {
    "pycharm": {
     "name": "#%%\n"
    },
    "tags": []
   },
   "outputs": [],
   "source": [
    "# Load CIFAR10 from DeepView's TF examples\n",
    "cifar10_dataset = TFDatasetExamples.CIFAR10(max_samples=2000)\n",
    "cifar10_dataset.shuffle()\n",
    "\n",
    "# Here, use the standard MobileNet preprocessor,\n",
    "# which was loaded into the \"preprocessor\" property when MobileNet was loaded:\n",
    "mobilenet_preprocessor = mobilenet.preprocessing\n",
    "assert mobilenet_preprocessor is not None\n",
    "\n",
    "# Next, define an ImageResizer to 224x224.\n",
    "resizer = ImageResizer(pixel_format=ImageFormat.HWC, size=(224, 224))\n",
    "\n",
    "# Wrap the dataset that was just created with preprocessors,\n",
    "# so DataBatches are pre-processed accordingly every time they are requested.\n",
    "dataset = pipeline(cifar10_dataset, mobilenet_preprocessor, resizer)"
   ]
  },
  {
   "cell_type": "markdown",
   "metadata": {
    "pycharm": {
     "name": "#%% md\n"
    }
   },
   "source": [
    "### 1.f Run inference\n",
    "Now run the data generated by the [pipeline](https://apple.github.io/deepview/api/deepview/base.html#deepview.base.pipeline) and collect statistics regarding the activation of the units in the layers to analyze.\n",
    "\n",
    "Here is where it's important to know how to map the data field `\"images\"` from the `Batch` to the input of the network `\"input_1\"`. This mapping is done by the [FieldRenamer](https://apple.github.io/deepview/api/deepview/processors.html#deepview.processors.FieldRenamer). This feeds into the `deepview_model` defined earlier to perform inference.\n",
    "\n",
    "<img src=\"../assets/Inference.png\" width=\"400\">\n",
    "\n",
    "PFA expects data to be of the form (`number_of_samples` x `number_of_units`) for each layer. This means that the response obtained after inference needs to be post-processed. The typical post-processing operation used is max-pooling. This is the task performed using a DeepView [Processor](https://apple.github.io/deepview/api/deepview/processors.html#deepview.processors.Processor), specifically, a [Pooler](https://apple.github.io/deepview/api/deepview/processors.html#deepview.processors.Pooler).\n",
    "\n",
    "<img src=\"../assets/Pooling.png\" width=\"400\">\n",
    "\n",
    "The inference and pooling steps are repeated for all input data and the pooled responses are collected.\n",
    "\n",
    "Note: although this section is titled \"run inference\", this actually defines *how* to run inference.  Until\n",
    "the data is pulled through the pipeline (later when PFA introspection is run). Inference is not actually *run* here."
   ]
  },
  {
   "cell_type": "code",
   "execution_count": 8,
   "metadata": {
    "pycharm": {
     "name": "#%%\n"
    },
    "tags": []
   },
   "outputs": [],
   "source": [
    "from deepview.processors import Pooler, FieldRenamer\n",
    "\n",
    "producer = pipeline(\n",
    "    # the resized images\n",
    "    dataset,\n",
    "\n",
    "    # the loaded tensorflow model -- tell the model which responses to collect (computed earlier)\n",
    "    mobilenet.model(conv2d_responses),\n",
    "\n",
    "    # perform spatial max pooling on the result\n",
    "    Pooler(dim=(1, 2), method=Pooler.Method.MAX),\n",
    ")\n"
   ]
  },
  {
   "cell_type": "markdown",
   "metadata": {
    "pycharm": {
     "name": "#%% md\n"
    }
   },
   "source": [
    "## 2. Run PFA introspection\n",
    "Notice that until this point the information has only been provided for DeepView to load data, run inference, and post-process the responses, but nothing has happened yet. Only once the ``Introspector`` calls introspect will all the operations actually be executed.\n",
    "\n",
    "Notice also that if the responses were already stored somewhere, there would be no need to re-run inference and re-compute them. A [CachedProducer](https://apple.github.io/deepview/api/deepview/base.html#deepview.base.CachedProducer) can load them from disk or a custom [Producer](https://apple.github.io/deepview/api/deepview/base.html#deepview.base.Producer) can be written that loads the responses (and post-process them, if needed) and yields them (similar to how the images were loaded earlier).\n",
    "\n",
    "<img src=\"../assets/ResponseMatrix.png\" width=\"600\">\n",
    "\n",
    "Once all responses have been collected the covariance matrix of the pooled responses is computed per each layer. From the covariance matrix, also extract its eigenvalues. The next step will use them to understand how to compress each layer.\n",
    "\n",
    "<img src=\"../assets/Eigenvalues.png\" width=\"600\">"
   ]
  },
  {
   "cell_type": "code",
   "execution_count": 9,
   "metadata": {
    "pycharm": {
     "name": "#%%\n"
    },
    "tags": []
   },
   "outputs": [
    {
     "name": "stdout",
     "output_type": "stream",
     "text": [
      "Analyzing responses, this may take a few minutes...\n"
     ]
    },
    {
     "name": "stderr",
     "output_type": "stream",
     "text": [
      "2024-11-28 07:51:13.544007: W external/local_tsl/tsl/framework/bfc_allocator.cc:485] Allocator (GPU_0_bfc) ran out of memory trying to allocate 765.62MiB (rounded to 802816000)requested by op Conv2D\n",
      "If the cause is memory fragmentation maybe the environment variable 'TF_GPU_ALLOCATOR=cuda_malloc_async' will improve the situation. \n",
      "Current allocation summary follows.\n",
      "Current allocation summary follows.\n",
      "2024-11-28 07:51:13.544069: I external/local_tsl/tsl/framework/bfc_allocator.cc:1039] BFCAllocator dump for GPU_0_bfc\n",
      "2024-11-28 07:51:13.544082: I external/local_tsl/tsl/framework/bfc_allocator.cc:1046] Bin (256): \tTotal Chunks: 54, Chunks in use: 53. 13.5KiB allocated for chunks. 13.2KiB in use in bin. 3.1KiB client-requested in use in bin.\n",
      "2024-11-28 07:51:13.544090: I external/local_tsl/tsl/framework/bfc_allocator.cc:1046] Bin (512): \tTotal Chunks: 18, Chunks in use: 16. 9.8KiB allocated for chunks. 8.2KiB in use in bin. 8.0KiB client-requested in use in bin.\n",
      "2024-11-28 07:51:13.544098: I external/local_tsl/tsl/framework/bfc_allocator.cc:1046] Bin (1024): \tTotal Chunks: 19, Chunks in use: 18. 20.5KiB allocated for chunks. 19.5KiB in use in bin. 18.1KiB client-requested in use in bin.\n",
      "2024-11-28 07:51:13.544105: I external/local_tsl/tsl/framework/bfc_allocator.cc:1046] Bin (2048): \tTotal Chunks: 52, Chunks in use: 50. 108.5KiB allocated for chunks. 102.8KiB in use in bin. 101.6KiB client-requested in use in bin.\n",
      "2024-11-28 07:51:13.544113: I external/local_tsl/tsl/framework/bfc_allocator.cc:1046] Bin (4096): \tTotal Chunks: 18, Chunks in use: 15. 83.5KiB allocated for chunks. 67.2KiB in use in bin. 60.9KiB client-requested in use in bin.\n",
      "2024-11-28 07:51:13.544121: I external/local_tsl/tsl/framework/bfc_allocator.cc:1046] Bin (8192): \tTotal Chunks: 8, Chunks in use: 3. 82.0KiB allocated for chunks. 28.0KiB in use in bin. 26.0KiB client-requested in use in bin.\n",
      "2024-11-28 07:51:13.544131: I external/local_tsl/tsl/framework/bfc_allocator.cc:1046] Bin (16384): \tTotal Chunks: 9, Chunks in use: 5. 182.0KiB allocated for chunks. 108.8KiB in use in bin. 90.0KiB client-requested in use in bin.\n",
      "2024-11-28 07:51:13.544138: I external/local_tsl/tsl/framework/bfc_allocator.cc:1046] Bin (32768): \tTotal Chunks: 6, Chunks in use: 3. 248.8KiB allocated for chunks. 128.0KiB in use in bin. 86.0KiB client-requested in use in bin.\n",
      "2024-11-28 07:51:13.544145: I external/local_tsl/tsl/framework/bfc_allocator.cc:1046] Bin (65536): \tTotal Chunks: 3, Chunks in use: 1. 258.0KiB allocated for chunks. 76.0KiB in use in bin. 64.0KiB client-requested in use in bin.\n",
      "2024-11-28 07:51:13.544153: I external/local_tsl/tsl/framework/bfc_allocator.cc:1046] Bin (131072): \tTotal Chunks: 3, Chunks in use: 1. 450.5KiB allocated for chunks. 128.0KiB in use in bin. 128.0KiB client-requested in use in bin.\n",
      "2024-11-28 07:51:13.544160: I external/local_tsl/tsl/framework/bfc_allocator.cc:1046] Bin (262144): \tTotal Chunks: 2, Chunks in use: 1. 532.0KiB allocated for chunks. 276.0KiB in use in bin. 256.0KiB client-requested in use in bin.\n",
      "2024-11-28 07:51:13.544167: I external/local_tsl/tsl/framework/bfc_allocator.cc:1046] Bin (524288): \tTotal Chunks: 1, Chunks in use: 1. 512.0KiB allocated for chunks. 512.0KiB in use in bin. 512.0KiB client-requested in use in bin.\n",
      "2024-11-28 07:51:13.544174: I external/local_tsl/tsl/framework/bfc_allocator.cc:1046] Bin (1048576): \tTotal Chunks: 5, Chunks in use: 5. 5.00MiB allocated for chunks. 5.00MiB in use in bin. 5.00MiB client-requested in use in bin.\n",
      "2024-11-28 07:51:13.544181: I external/local_tsl/tsl/framework/bfc_allocator.cc:1046] Bin (2097152): \tTotal Chunks: 1, Chunks in use: 1. 2.00MiB allocated for chunks. 2.00MiB in use in bin. 2.00MiB client-requested in use in bin.\n",
      "2024-11-28 07:51:13.544188: I external/local_tsl/tsl/framework/bfc_allocator.cc:1046] Bin (4194304): \tTotal Chunks: 2, Chunks in use: 2. 8.00MiB allocated for chunks. 8.00MiB in use in bin. 7.91MiB client-requested in use in bin.\n",
      "2024-11-28 07:51:13.544222: I external/local_tsl/tsl/framework/bfc_allocator.cc:1046] Bin (8388608): \tTotal Chunks: 0, Chunks in use: 0. 0B allocated for chunks. 0B in use in bin. 0B client-requested in use in bin.\n",
      "2024-11-28 07:51:13.544240: I external/local_tsl/tsl/framework/bfc_allocator.cc:1046] Bin (16777216): \tTotal Chunks: 1, Chunks in use: 0. 17.28MiB allocated for chunks. 0B in use in bin. 0B client-requested in use in bin.\n",
      "2024-11-28 07:51:13.544247: I external/local_tsl/tsl/framework/bfc_allocator.cc:1046] Bin (33554432): \tTotal Chunks: 0, Chunks in use: 0. 0B allocated for chunks. 0B in use in bin. 0B client-requested in use in bin.\n",
      "2024-11-28 07:51:13.544253: I external/local_tsl/tsl/framework/bfc_allocator.cc:1046] Bin (67108864): \tTotal Chunks: 0, Chunks in use: 0. 0B allocated for chunks. 0B in use in bin. 0B client-requested in use in bin.\n",
      "2024-11-28 07:51:13.544267: I external/local_tsl/tsl/framework/bfc_allocator.cc:1046] Bin (134217728): \tTotal Chunks: 0, Chunks in use: 0. 0B allocated for chunks. 0B in use in bin. 0B client-requested in use in bin.\n",
      "2024-11-28 07:51:13.544278: I external/local_tsl/tsl/framework/bfc_allocator.cc:1046] Bin (268435456): \tTotal Chunks: 2, Chunks in use: 1. 948.96MiB allocated for chunks. 287.11MiB in use in bin. 287.11MiB client-requested in use in bin.\n",
      "2024-11-28 07:51:13.544286: I external/local_tsl/tsl/framework/bfc_allocator.cc:1062] Bin for 765.62MiB was 256.00MiB, Chunk State: \n",
      "2024-11-28 07:51:13.544297: I external/local_tsl/tsl/framework/bfc_allocator.cc:1068]   Size: 661.85MiB | Requested Size: 3.9KiB | in_use: 0 | bin_num: 20, prev:   Size: 287.11MiB | Requested Size: 287.11MiB | in_use: 1 | bin_num: -1\n",
      "2024-11-28 07:51:13.544305: I external/local_tsl/tsl/framework/bfc_allocator.cc:1075] Next region of size 1031471104\n",
      "2024-11-28 07:51:13.544313: I external/local_tsl/tsl/framework/bfc_allocator.cc:1095] InUse at 75d684000000 of size 1280 next 1\n",
      "2024-11-28 07:51:13.544319: I external/local_tsl/tsl/framework/bfc_allocator.cc:1095] InUse at 75d684000500 of size 256 next 2\n",
      "2024-11-28 07:51:13.544324: I external/local_tsl/tsl/framework/bfc_allocator.cc:1095] InUse at 75d684000600 of size 256 next 3\n",
      "2024-11-28 07:51:13.544331: I external/local_tsl/tsl/framework/bfc_allocator.cc:1095] InUse at 75d684000700 of size 256 next 5\n",
      "2024-11-28 07:51:13.544338: I external/local_tsl/tsl/framework/bfc_allocator.cc:1095] Free  at 75d684000800 of size 256 next 6\n",
      "2024-11-28 07:51:13.544345: I external/local_tsl/tsl/framework/bfc_allocator.cc:1095] InUse at 75d684000900 of size 256 next 4\n",
      "2024-11-28 07:51:13.544351: I external/local_tsl/tsl/framework/bfc_allocator.cc:1095] Free  at 75d684000a00 of size 768 next 11\n",
      "2024-11-28 07:51:13.544357: I external/local_tsl/tsl/framework/bfc_allocator.cc:1095] InUse at 75d684000d00 of size 256 next 12\n",
      "2024-11-28 07:51:13.544363: I external/local_tsl/tsl/framework/bfc_allocator.cc:1095] InUse at 75d684000e00 of size 256 next 13\n",
      "2024-11-28 07:51:13.544369: I external/local_tsl/tsl/framework/bfc_allocator.cc:1095] InUse at 75d684000f00 of size 256 next 20\n",
      "2024-11-28 07:51:13.544431: I external/local_tsl/tsl/framework/bfc_allocator.cc:1095] Free  at 75d684001000 of size 1024 next 26\n",
      "2024-11-28 07:51:13.544460: I external/local_tsl/tsl/framework/bfc_allocator.cc:1095] InUse at 75d684001400 of size 256 next 27\n",
      "2024-11-28 07:51:13.544466: I external/local_tsl/tsl/framework/bfc_allocator.cc:1095] InUse at 75d684001500 of size 256 next 28\n",
      "2024-11-28 07:51:13.544470: I external/local_tsl/tsl/framework/bfc_allocator.cc:1095] Free  at 75d684001600 of size 768 next 30\n",
      "2024-11-28 07:51:13.544474: I external/local_tsl/tsl/framework/bfc_allocator.cc:1095] InUse at 75d684001900 of size 256 next 34\n",
      "2024-11-28 07:51:13.544479: I external/local_tsl/tsl/framework/bfc_allocator.cc:1095] InUse at 75d684001a00 of size 256 next 35\n",
      "2024-11-28 07:51:13.544483: I external/local_tsl/tsl/framework/bfc_allocator.cc:1095] InUse at 75d684001b00 of size 256 next 18\n",
      "2024-11-28 07:51:13.544487: I external/local_tsl/tsl/framework/bfc_allocator.cc:1095] Free  at 75d684001c00 of size 2304 next 17\n",
      "2024-11-28 07:51:13.544492: I external/local_tsl/tsl/framework/bfc_allocator.cc:1095] InUse at 75d684002500 of size 256 next 8\n",
      "2024-11-28 07:51:13.544512: I external/local_tsl/tsl/framework/bfc_allocator.cc:1095] Free  at 75d684002600 of size 5632 next 41\n",
      "2024-11-28 07:51:13.544517: I external/local_tsl/tsl/framework/bfc_allocator.cc:1095] InUse at 75d684003c00 of size 256 next 42\n",
      "2024-11-28 07:51:13.544521: I external/local_tsl/tsl/framework/bfc_allocator.cc:1095] InUse at 75d684003d00 of size 256 next 43\n",
      "2024-11-28 07:51:13.544525: I external/local_tsl/tsl/framework/bfc_allocator.cc:1095] Free  at 75d684003e00 of size 3584 next 37\n",
      "2024-11-28 07:51:13.544530: I external/local_tsl/tsl/framework/bfc_allocator.cc:1095] InUse at 75d684004c00 of size 256 next 54\n",
      "2024-11-28 07:51:13.544534: I external/local_tsl/tsl/framework/bfc_allocator.cc:1095] InUse at 75d684004d00 of size 256 next 94\n",
      "2024-11-28 07:51:13.544538: I external/local_tsl/tsl/framework/bfc_allocator.cc:1095] InUse at 75d684004e00 of size 256 next 32\n",
      "2024-11-28 07:51:13.544543: I external/local_tsl/tsl/framework/bfc_allocator.cc:1095] InUse at 75d684004f00 of size 256 next 48\n",
      "2024-11-28 07:51:13.544547: I external/local_tsl/tsl/framework/bfc_allocator.cc:1095] InUse at 75d684005000 of size 256 next 49\n",
      "2024-11-28 07:51:13.544551: I external/local_tsl/tsl/framework/bfc_allocator.cc:1095] Free  at 75d684005100 of size 4096 next 68\n",
      "2024-11-28 07:51:13.544556: I external/local_tsl/tsl/framework/bfc_allocator.cc:1095] InUse at 75d684006100 of size 256 next 69\n",
      "2024-11-28 07:51:13.544560: I external/local_tsl/tsl/framework/bfc_allocator.cc:1095] InUse at 75d684006200 of size 256 next 70\n",
      "2024-11-28 07:51:13.544564: I external/local_tsl/tsl/framework/bfc_allocator.cc:1095] Free  at 75d684006300 of size 18688 next 58\n",
      "2024-11-28 07:51:13.544569: I external/local_tsl/tsl/framework/bfc_allocator.cc:1095] InUse at 75d68400ac00 of size 256 next 175\n",
      "2024-11-28 07:51:13.544574: I external/local_tsl/tsl/framework/bfc_allocator.cc:1095] InUse at 75d68400ad00 of size 256 next 61\n",
      "2024-11-28 07:51:13.544578: I external/local_tsl/tsl/framework/bfc_allocator.cc:1095] InUse at 75d68400ae00 of size 256 next 62\n",
      "2024-11-28 07:51:13.544583: I external/local_tsl/tsl/framework/bfc_allocator.cc:1095] InUse at 75d68400af00 of size 256 next 63\n",
      "2024-11-28 07:51:13.544587: I external/local_tsl/tsl/framework/bfc_allocator.cc:1095] Free  at 75d68400b000 of size 6912 next 60\n",
      "2024-11-28 07:51:13.544592: I external/local_tsl/tsl/framework/bfc_allocator.cc:1095] InUse at 75d68400cb00 of size 256 next 76\n",
      "2024-11-28 07:51:13.544596: I external/local_tsl/tsl/framework/bfc_allocator.cc:1095] InUse at 75d68400cc00 of size 256 next 77\n",
      "2024-11-28 07:51:13.544600: I external/local_tsl/tsl/framework/bfc_allocator.cc:1095] Free  at 75d68400cd00 of size 8192 next 95\n",
      "2024-11-28 07:51:13.544605: I external/local_tsl/tsl/framework/bfc_allocator.cc:1095] InUse at 75d68400ed00 of size 256 next 96\n",
      "2024-11-28 07:51:13.544609: I external/local_tsl/tsl/framework/bfc_allocator.cc:1095] InUse at 75d68400ee00 of size 256 next 97\n",
      "2024-11-28 07:51:13.544613: I external/local_tsl/tsl/framework/bfc_allocator.cc:1095] Free  at 75d68400ef00 of size 21504 next 86\n",
      "2024-11-28 07:51:13.544618: I external/local_tsl/tsl/framework/bfc_allocator.cc:1095] InUse at 75d684014300 of size 256 next 195\n",
      "2024-11-28 07:51:13.544623: I external/local_tsl/tsl/framework/bfc_allocator.cc:1095] InUse at 75d684014400 of size 256 next 196\n",
      "2024-11-28 07:51:13.544628: I external/local_tsl/tsl/framework/bfc_allocator.cc:1095] InUse at 75d684014500 of size 256 next 198\n",
      "2024-11-28 07:51:13.544632: I external/local_tsl/tsl/framework/bfc_allocator.cc:1095] InUse at 75d684014600 of size 256 next 88\n",
      "2024-11-28 07:51:13.544636: I external/local_tsl/tsl/framework/bfc_allocator.cc:1095] InUse at 75d684014700 of size 256 next 89\n",
      "2024-11-28 07:51:13.544641: I external/local_tsl/tsl/framework/bfc_allocator.cc:1095] InUse at 75d684014800 of size 256 next 90\n",
      "2024-11-28 07:51:13.544645: I external/local_tsl/tsl/framework/bfc_allocator.cc:1095] Free  at 75d684014900 of size 51968 next 39\n",
      "2024-11-28 07:51:13.544651: I external/local_tsl/tsl/framework/bfc_allocator.cc:1095] InUse at 75d684021400 of size 256 next 103\n",
      "2024-11-28 07:51:13.544656: I external/local_tsl/tsl/framework/bfc_allocator.cc:1095] InUse at 75d684021500 of size 256 next 104\n",
      "2024-11-28 07:51:13.544661: I external/local_tsl/tsl/framework/bfc_allocator.cc:1095] Free  at 75d684021600 of size 8192 next 110\n",
      "2024-11-28 07:51:13.544665: I external/local_tsl/tsl/framework/bfc_allocator.cc:1095] InUse at 75d684023600 of size 256 next 170\n",
      "2024-11-28 07:51:13.544670: I external/local_tsl/tsl/framework/bfc_allocator.cc:1095] InUse at 75d684023700 of size 256 next 171\n",
      "2024-11-28 07:51:13.544675: I external/local_tsl/tsl/framework/bfc_allocator.cc:1095] Free  at 75d684023800 of size 16384 next 177\n",
      "2024-11-28 07:51:13.544680: I external/local_tsl/tsl/framework/bfc_allocator.cc:1095] InUse at 75d684027800 of size 256 next 178\n",
      "2024-11-28 07:51:13.544685: I external/local_tsl/tsl/framework/bfc_allocator.cc:1095] InUse at 75d684027900 of size 256 next 179\n",
      "2024-11-28 07:51:13.544689: I external/local_tsl/tsl/framework/bfc_allocator.cc:1095] InUse at 75d684027a00 of size 256 next 197\n",
      "2024-11-28 07:51:13.544694: I external/local_tsl/tsl/framework/bfc_allocator.cc:1095] InUse at 75d684027b00 of size 256 next 200\n",
      "2024-11-28 07:51:13.544699: I external/local_tsl/tsl/framework/bfc_allocator.cc:1095] InUse at 75d684027c00 of size 256 next 201\n",
      "2024-11-28 07:51:13.544704: I external/local_tsl/tsl/framework/bfc_allocator.cc:1095] InUse at 75d684027d00 of size 256 next 202\n",
      "2024-11-28 07:51:13.544708: I external/local_tsl/tsl/framework/bfc_allocator.cc:1095] InUse at 75d684027e00 of size 256 next 194\n",
      "2024-11-28 07:51:13.544714: I external/local_tsl/tsl/framework/bfc_allocator.cc:1095] InUse at 75d684027f00 of size 512 next 193\n",
      "2024-11-28 07:51:13.544728: I external/local_tsl/tsl/framework/bfc_allocator.cc:1095] InUse at 75d684028100 of size 512 next 205\n",
      "2024-11-28 07:51:13.544733: I external/local_tsl/tsl/framework/bfc_allocator.cc:1095] InUse at 75d684028300 of size 512 next 206\n",
      "2024-11-28 07:51:13.544738: I external/local_tsl/tsl/framework/bfc_allocator.cc:1095] InUse at 75d684028500 of size 512 next 183\n",
      "2024-11-28 07:51:13.544743: I external/local_tsl/tsl/framework/bfc_allocator.cc:1095] InUse at 75d684028700 of size 768 next 182\n",
      "2024-11-28 07:51:13.544748: I external/local_tsl/tsl/framework/bfc_allocator.cc:1095] InUse at 75d684028a00 of size 256 next 180\n",
      "2024-11-28 07:51:13.544753: I external/local_tsl/tsl/framework/bfc_allocator.cc:1095] Free  at 75d684028b00 of size 133632 next 154\n",
      "2024-11-28 07:51:13.544758: I external/local_tsl/tsl/framework/bfc_allocator.cc:1095] InUse at 75d684049500 of size 2048 next 249\n",
      "2024-11-28 07:51:13.544763: I external/local_tsl/tsl/framework/bfc_allocator.cc:1095] InUse at 75d684049d00 of size 2048 next 250\n",
      "2024-11-28 07:51:13.544768: I external/local_tsl/tsl/framework/bfc_allocator.cc:1095] InUse at 75d68404a500 of size 2048 next 251\n",
      "2024-11-28 07:51:13.544772: I external/local_tsl/tsl/framework/bfc_allocator.cc:1095] InUse at 75d68404ad00 of size 2048 next 253\n",
      "2024-11-28 07:51:13.544777: I external/local_tsl/tsl/framework/bfc_allocator.cc:1095] InUse at 75d68404b500 of size 2048 next 254\n",
      "2024-11-28 07:51:13.544782: I external/local_tsl/tsl/framework/bfc_allocator.cc:1095] InUse at 75d68404bd00 of size 2048 next 257\n",
      "2024-11-28 07:51:13.544787: I external/local_tsl/tsl/framework/bfc_allocator.cc:1095] InUse at 75d68404c500 of size 2048 next 258\n",
      "2024-11-28 07:51:13.544791: I external/local_tsl/tsl/framework/bfc_allocator.cc:1095] InUse at 75d68404cd00 of size 2048 next 259\n",
      "2024-11-28 07:51:13.544796: I external/local_tsl/tsl/framework/bfc_allocator.cc:1095] InUse at 75d68404d500 of size 2048 next 252\n",
      "2024-11-28 07:51:13.544801: I external/local_tsl/tsl/framework/bfc_allocator.cc:1095] InUse at 75d68404dd00 of size 32512 next 134\n",
      "2024-11-28 07:51:13.544808: I external/local_tsl/tsl/framework/bfc_allocator.cc:1095] Free  at 75d684055c00 of size 34816 next 155\n",
      "2024-11-28 07:51:13.544814: I external/local_tsl/tsl/framework/bfc_allocator.cc:1095] InUse at 75d68405e400 of size 512 next 207\n",
      "2024-11-28 07:51:13.544819: I external/local_tsl/tsl/framework/bfc_allocator.cc:1095] InUse at 75d68405e600 of size 512 next 210\n",
      "2024-11-28 07:51:13.544823: I external/local_tsl/tsl/framework/bfc_allocator.cc:1095] InUse at 75d68405e800 of size 512 next 213\n",
      "2024-11-28 07:51:13.544829: I external/local_tsl/tsl/framework/bfc_allocator.cc:1095] InUse at 75d68405ea00 of size 512 next 144\n",
      "2024-11-28 07:51:13.544833: I external/local_tsl/tsl/framework/bfc_allocator.cc:1095] Free  at 75d68405ec00 of size 14336 next 176\n",
      "2024-11-28 07:51:13.544838: I external/local_tsl/tsl/framework/bfc_allocator.cc:1095] InUse at 75d684062400 of size 512 next 216\n",
      "2024-11-28 07:51:13.544843: I external/local_tsl/tsl/framework/bfc_allocator.cc:1095] InUse at 75d684062600 of size 512 next 219\n",
      "2024-11-28 07:51:13.544848: I external/local_tsl/tsl/framework/bfc_allocator.cc:1095] InUse at 75d684062800 of size 512 next 222\n",
      "2024-11-28 07:51:13.544852: I external/local_tsl/tsl/framework/bfc_allocator.cc:1095] InUse at 75d684062a00 of size 512 next 220\n",
      "2024-11-28 07:51:13.544857: I external/local_tsl/tsl/framework/bfc_allocator.cc:1095] InUse at 75d684062c00 of size 512 next 221\n",
      "2024-11-28 07:51:13.544863: I external/local_tsl/tsl/framework/bfc_allocator.cc:1095] InUse at 75d684062e00 of size 1536 next 143\n",
      "2024-11-28 07:51:13.544867: I external/local_tsl/tsl/framework/bfc_allocator.cc:1095] InUse at 75d684063400 of size 256 next 156\n",
      "2024-11-28 07:51:13.544872: I external/local_tsl/tsl/framework/bfc_allocator.cc:1095] InUse at 75d684063500 of size 256 next 157\n",
      "2024-11-28 07:51:13.544877: I external/local_tsl/tsl/framework/bfc_allocator.cc:1095] Free  at 75d684063600 of size 12288 next 162\n",
      "2024-11-28 07:51:13.544882: I external/local_tsl/tsl/framework/bfc_allocator.cc:1095] InUse at 75d684066600 of size 256 next 321\n",
      "2024-11-28 07:51:13.544886: I external/local_tsl/tsl/framework/bfc_allocator.cc:1095] InUse at 75d684066700 of size 1280 next 322\n",
      "2024-11-28 07:51:13.544891: I external/local_tsl/tsl/framework/bfc_allocator.cc:1095] InUse at 75d684066c00 of size 1024 next 232\n",
      "2024-11-28 07:51:13.544896: I external/local_tsl/tsl/framework/bfc_allocator.cc:1095] InUse at 75d684067000 of size 1024 next 223\n",
      "2024-11-28 07:51:13.544902: I external/local_tsl/tsl/framework/bfc_allocator.cc:1095] InUse at 75d684067400 of size 1024 next 242\n",
      "2024-11-28 07:51:13.544906: I external/local_tsl/tsl/framework/bfc_allocator.cc:1095] InUse at 75d684067800 of size 1280 next 203\n",
      "2024-11-28 07:51:13.544911: I external/local_tsl/tsl/framework/bfc_allocator.cc:1095] InUse at 75d684067d00 of size 512 next 212\n",
      "2024-11-28 07:51:13.544916: I external/local_tsl/tsl/framework/bfc_allocator.cc:1095] InUse at 75d684067f00 of size 512 next 214\n",
      "2024-11-28 07:51:13.544921: I external/local_tsl/tsl/framework/bfc_allocator.cc:1095] InUse at 75d684068100 of size 1280 next 204\n",
      "2024-11-28 07:51:13.544926: I external/local_tsl/tsl/framework/bfc_allocator.cc:1095] InUse at 75d684068600 of size 1024 next 227\n",
      "2024-11-28 07:51:13.544931: I external/local_tsl/tsl/framework/bfc_allocator.cc:1095] InUse at 75d684068a00 of size 1024 next 225\n",
      "2024-11-28 07:51:13.544936: I external/local_tsl/tsl/framework/bfc_allocator.cc:1095] InUse at 75d684068e00 of size 1024 next 226\n",
      "2024-11-28 07:51:13.544940: I external/local_tsl/tsl/framework/bfc_allocator.cc:1095] InUse at 75d684069200 of size 1024 next 231\n",
      "2024-11-28 07:51:13.544945: I external/local_tsl/tsl/framework/bfc_allocator.cc:1095] InUse at 75d684069600 of size 1024 next 229\n",
      "2024-11-28 07:51:13.544950: I external/local_tsl/tsl/framework/bfc_allocator.cc:1095] InUse at 75d684069a00 of size 1024 next 230\n",
      "2024-11-28 07:51:13.544955: I external/local_tsl/tsl/framework/bfc_allocator.cc:1095] InUse at 75d684069e00 of size 1024 next 233\n",
      "2024-11-28 07:51:13.544960: I external/local_tsl/tsl/framework/bfc_allocator.cc:1095] InUse at 75d68406a200 of size 1024 next 234\n",
      "2024-11-28 07:51:13.544965: I external/local_tsl/tsl/framework/bfc_allocator.cc:1095] InUse at 75d68406a600 of size 1024 next 215\n",
      "2024-11-28 07:51:13.544970: I external/local_tsl/tsl/framework/bfc_allocator.cc:1095] InUse at 75d68406aa00 of size 6656 next 153\n",
      "2024-11-28 07:51:13.544976: I external/local_tsl/tsl/framework/bfc_allocator.cc:1095] InUse at 75d68406c400 of size 256 next 163\n",
      "2024-11-28 07:51:13.544981: I external/local_tsl/tsl/framework/bfc_allocator.cc:1095] InUse at 75d68406c500 of size 256 next 164\n",
      "2024-11-28 07:51:13.544986: I external/local_tsl/tsl/framework/bfc_allocator.cc:1095] Free  at 75d68406c600 of size 12288 next 166\n",
      "2024-11-28 07:51:13.544991: I external/local_tsl/tsl/framework/bfc_allocator.cc:1095] InUse at 75d68406f600 of size 11264 next 236\n",
      "2024-11-28 07:51:13.544996: I external/local_tsl/tsl/framework/bfc_allocator.cc:1095] InUse at 75d684072200 of size 2048 next 272\n",
      "2024-11-28 07:51:13.545001: I external/local_tsl/tsl/framework/bfc_allocator.cc:1095] InUse at 75d684072a00 of size 2048 next 273\n",
      "2024-11-28 07:51:13.545006: I external/local_tsl/tsl/framework/bfc_allocator.cc:1095] InUse at 75d684073200 of size 2048 next 274\n",
      "2024-11-28 07:51:13.545011: I external/local_tsl/tsl/framework/bfc_allocator.cc:1095] InUse at 75d684073a00 of size 2048 next 276\n",
      "2024-11-28 07:51:13.545015: I external/local_tsl/tsl/framework/bfc_allocator.cc:1095] InUse at 75d684074200 of size 2048 next 277\n",
      "2024-11-28 07:51:13.545020: I external/local_tsl/tsl/framework/bfc_allocator.cc:1095] InUse at 75d684074a00 of size 2048 next 278\n",
      "2024-11-28 07:51:13.545025: I external/local_tsl/tsl/framework/bfc_allocator.cc:1095] InUse at 75d684075200 of size 2048 next 279\n",
      "2024-11-28 07:51:13.545029: I external/local_tsl/tsl/framework/bfc_allocator.cc:1095] InUse at 75d684075a00 of size 2048 next 280\n",
      "2024-11-28 07:51:13.545034: I external/local_tsl/tsl/framework/bfc_allocator.cc:1095] InUse at 75d684076200 of size 2048 next 282\n",
      "2024-11-28 07:51:13.545039: I external/local_tsl/tsl/framework/bfc_allocator.cc:1095] InUse at 75d684076a00 of size 3072 next 209\n",
      "2024-11-28 07:51:13.545045: I external/local_tsl/tsl/framework/bfc_allocator.cc:1095] InUse at 75d684077600 of size 9216 next 224\n",
      "2024-11-28 07:51:13.545051: I external/local_tsl/tsl/framework/bfc_allocator.cc:1095] InUse at 75d684079a00 of size 23552 next 208\n",
      "2024-11-28 07:51:13.545056: I external/local_tsl/tsl/framework/bfc_allocator.cc:1095] InUse at 75d68407f600 of size 18432 next 271\n",
      "2024-11-28 07:51:13.545061: I external/local_tsl/tsl/framework/bfc_allocator.cc:1095] InUse at 75d684083e00 of size 2048 next 283\n",
      "2024-11-28 07:51:13.545066: I external/local_tsl/tsl/framework/bfc_allocator.cc:1095] InUse at 75d684084600 of size 2048 next 284\n",
      "2024-11-28 07:51:13.545070: I external/local_tsl/tsl/framework/bfc_allocator.cc:1095] InUse at 75d684084e00 of size 2048 next 286\n",
      "2024-11-28 07:51:13.545075: I external/local_tsl/tsl/framework/bfc_allocator.cc:1095] InUse at 75d684085600 of size 2048 next 287\n",
      "2024-11-28 07:51:13.545080: I external/local_tsl/tsl/framework/bfc_allocator.cc:1095] InUse at 75d684085e00 of size 2048 next 288\n",
      "2024-11-28 07:51:13.545085: I external/local_tsl/tsl/framework/bfc_allocator.cc:1095] InUse at 75d684086600 of size 2048 next 291\n",
      "2024-11-28 07:51:13.545089: I external/local_tsl/tsl/framework/bfc_allocator.cc:1095] InUse at 75d684086e00 of size 2048 next 292\n",
      "2024-11-28 07:51:13.545094: I external/local_tsl/tsl/framework/bfc_allocator.cc:1095] InUse at 75d684087600 of size 2048 next 293\n",
      "2024-11-28 07:51:13.545099: I external/local_tsl/tsl/framework/bfc_allocator.cc:1095] InUse at 75d684087e00 of size 2048 next 281\n",
      "2024-11-28 07:51:13.545104: I external/local_tsl/tsl/framework/bfc_allocator.cc:1095] InUse at 75d684088600 of size 36352 next 66\n",
      "2024-11-28 07:51:13.545110: I external/local_tsl/tsl/framework/bfc_allocator.cc:1095] Free  at 75d684091400 of size 73728 next 169\n",
      "2024-11-28 07:51:13.545115: I external/local_tsl/tsl/framework/bfc_allocator.cc:1095] InUse at 75d6840a3400 of size 2304 next 324\n",
      "2024-11-28 07:51:13.545120: I external/local_tsl/tsl/framework/bfc_allocator.cc:1095] InUse at 75d6840a3d00 of size 5888 next 199\n",
      "2024-11-28 07:51:13.545125: I external/local_tsl/tsl/framework/bfc_allocator.cc:1095] InUse at 75d6840a5400 of size 1024 next 240\n",
      "2024-11-28 07:51:13.545130: I external/local_tsl/tsl/framework/bfc_allocator.cc:1095] InUse at 75d6840a5800 of size 2048 next 247\n",
      "2024-11-28 07:51:13.545135: I external/local_tsl/tsl/framework/bfc_allocator.cc:1095] InUse at 75d6840a6000 of size 2048 next 241\n",
      "2024-11-28 07:51:13.545140: I external/local_tsl/tsl/framework/bfc_allocator.cc:1095] InUse at 75d6840a6800 of size 2048 next 245\n",
      "2024-11-28 07:51:13.545145: I external/local_tsl/tsl/framework/bfc_allocator.cc:1095] InUse at 75d6840a7000 of size 2048 next 243\n",
      "2024-11-28 07:51:13.545149: I external/local_tsl/tsl/framework/bfc_allocator.cc:1095] InUse at 75d6840a7800 of size 2048 next 244\n",
      "2024-11-28 07:51:13.545154: I external/local_tsl/tsl/framework/bfc_allocator.cc:1095] InUse at 75d6840a8000 of size 2048 next 248\n",
      "2024-11-28 07:51:13.545159: I external/local_tsl/tsl/framework/bfc_allocator.cc:1095] InUse at 75d6840a8800 of size 2048 next 228\n",
      "2024-11-28 07:51:13.545164: I external/local_tsl/tsl/framework/bfc_allocator.cc:1095] InUse at 75d6840a9000 of size 2048 next 294\n",
      "2024-11-28 07:51:13.545169: I external/local_tsl/tsl/framework/bfc_allocator.cc:1095] InUse at 75d6840a9800 of size 2048 next 296\n",
      "2024-11-28 07:51:13.545174: I external/local_tsl/tsl/framework/bfc_allocator.cc:1095] InUse at 75d6840aa000 of size 2048 next 297\n",
      "2024-11-28 07:51:13.545179: I external/local_tsl/tsl/framework/bfc_allocator.cc:1095] InUse at 75d6840aa800 of size 2048 next 298\n",
      "2024-11-28 07:51:13.545184: I external/local_tsl/tsl/framework/bfc_allocator.cc:1095] InUse at 75d6840ab000 of size 5120 next 168\n",
      "2024-11-28 07:51:13.545189: I external/local_tsl/tsl/framework/bfc_allocator.cc:1095] Free  at 75d6840ac400 of size 196608 next 189\n",
      "2024-11-28 07:51:13.545207: I external/local_tsl/tsl/framework/bfc_allocator.cc:1095] InUse at 75d6840dc400 of size 2048 next 260\n",
      "2024-11-28 07:51:13.545213: I external/local_tsl/tsl/framework/bfc_allocator.cc:1095] InUse at 75d6840dcc00 of size 2048 next 263\n",
      "2024-11-28 07:51:13.545218: I external/local_tsl/tsl/framework/bfc_allocator.cc:1095] InUse at 75d6840dd400 of size 2048 next 264\n",
      "2024-11-28 07:51:13.545223: I external/local_tsl/tsl/framework/bfc_allocator.cc:1095] InUse at 75d6840ddc00 of size 2048 next 265\n",
      "2024-11-28 07:51:13.545227: I external/local_tsl/tsl/framework/bfc_allocator.cc:1095] InUse at 75d6840de400 of size 2048 next 267\n",
      "2024-11-28 07:51:13.545232: I external/local_tsl/tsl/framework/bfc_allocator.cc:1095] InUse at 75d6840dec00 of size 2048 next 268\n",
      "2024-11-28 07:51:13.545237: I external/local_tsl/tsl/framework/bfc_allocator.cc:1095] InUse at 75d6840df400 of size 2048 next 269\n",
      "2024-11-28 07:51:13.545242: I external/local_tsl/tsl/framework/bfc_allocator.cc:1095] InUse at 75d6840dfc00 of size 2048 next 270\n",
      "2024-11-28 07:51:13.545247: I external/local_tsl/tsl/framework/bfc_allocator.cc:1095] InUse at 75d6840e0400 of size 2048 next 262\n",
      "2024-11-28 07:51:13.545251: I external/local_tsl/tsl/framework/bfc_allocator.cc:1095] InUse at 75d6840e0c00 of size 18432 next 261\n",
      "2024-11-28 07:51:13.545257: I external/local_tsl/tsl/framework/bfc_allocator.cc:1095] InUse at 75d6840e5400 of size 4096 next 310\n",
      "2024-11-28 07:51:13.545261: I external/local_tsl/tsl/framework/bfc_allocator.cc:1095] InUse at 75d6840e6400 of size 4096 next 308\n",
      "2024-11-28 07:51:13.545266: I external/local_tsl/tsl/framework/bfc_allocator.cc:1095] InUse at 75d6840e7400 of size 4096 next 309\n",
      "2024-11-28 07:51:13.545271: I external/local_tsl/tsl/framework/bfc_allocator.cc:1095] InUse at 75d6840e8400 of size 4096 next 313\n",
      "2024-11-28 07:51:13.545276: I external/local_tsl/tsl/framework/bfc_allocator.cc:1095] InUse at 75d6840e9400 of size 4096 next 314\n",
      "2024-11-28 07:51:13.545280: I external/local_tsl/tsl/framework/bfc_allocator.cc:1095] InUse at 75d6840ea400 of size 4096 next 317\n",
      "2024-11-28 07:51:13.545286: I external/local_tsl/tsl/framework/bfc_allocator.cc:1095] InUse at 75d6840eb400 of size 4096 next 218\n",
      "2024-11-28 07:51:13.545291: I external/local_tsl/tsl/framework/bfc_allocator.cc:1095] InUse at 75d6840ec400 of size 131072 next 217\n",
      "2024-11-28 07:51:13.545298: I external/local_tsl/tsl/framework/bfc_allocator.cc:1095] InUse at 75d68410c400 of size 282624 next 81\n",
      "2024-11-28 07:51:13.545303: I external/local_tsl/tsl/framework/bfc_allocator.cc:1095] Free  at 75d684151400 of size 262144 next 192\n",
      "2024-11-28 07:51:13.545308: I external/local_tsl/tsl/framework/bfc_allocator.cc:1095] InUse at 75d684191400 of size 36864 next 307\n",
      "2024-11-28 07:51:13.545313: I external/local_tsl/tsl/framework/bfc_allocator.cc:1095] Free  at 75d68419a400 of size 112640 next 290\n",
      "2024-11-28 07:51:13.545318: I external/local_tsl/tsl/framework/bfc_allocator.cc:1095] InUse at 75d6841b5c00 of size 18432 next 289\n",
      "2024-11-28 07:51:13.545323: I external/local_tsl/tsl/framework/bfc_allocator.cc:1095] InUse at 75d6841ba400 of size 4096 next 305\n",
      "2024-11-28 07:51:13.545329: I external/local_tsl/tsl/framework/bfc_allocator.cc:1095] InUse at 75d6841bb400 of size 4096 next 303\n",
      "2024-11-28 07:51:13.545334: I external/local_tsl/tsl/framework/bfc_allocator.cc:1095] InUse at 75d6841bc400 of size 4096 next 304\n",
      "2024-11-28 07:51:13.545339: I external/local_tsl/tsl/framework/bfc_allocator.cc:1095] InUse at 75d6841bd400 of size 6144 next 300\n",
      "2024-11-28 07:51:13.545344: I external/local_tsl/tsl/framework/bfc_allocator.cc:1095] InUse at 75d6841bec00 of size 4096 next 302\n",
      "2024-11-28 07:51:13.545349: I external/local_tsl/tsl/framework/bfc_allocator.cc:1095] Free  at 75d6841bfc00 of size 18432 next 318\n",
      "2024-11-28 07:51:13.545354: I external/local_tsl/tsl/framework/bfc_allocator.cc:1095] InUse at 75d6841c4400 of size 3584 next 319\n",
      "2024-11-28 07:51:13.545359: I external/local_tsl/tsl/framework/bfc_allocator.cc:1095] InUse at 75d6841c5200 of size 8192 next 323\n",
      "2024-11-28 07:51:13.545364: I external/local_tsl/tsl/framework/bfc_allocator.cc:1095] InUse at 75d6841c7200 of size 57856 next 312\n",
      "2024-11-28 07:51:13.545369: I external/local_tsl/tsl/framework/bfc_allocator.cc:1095] Free  at 75d6841d5400 of size 36864 next 311\n",
      "2024-11-28 07:51:13.545374: I external/local_tsl/tsl/framework/bfc_allocator.cc:1095] InUse at 75d6841de400 of size 77824 next 237\n",
      "2024-11-28 07:51:13.545379: I external/local_tsl/tsl/framework/bfc_allocator.cc:1095] Free  at 75d6841f1400 of size 18120704 next 125\n",
      "2024-11-28 07:51:13.545384: I external/local_tsl/tsl/framework/bfc_allocator.cc:1095] InUse at 75d685339400 of size 524288 next 238\n",
      "2024-11-28 07:51:13.545391: I external/local_tsl/tsl/framework/bfc_allocator.cc:1095] InUse at 75d6853b9400 of size 1048576 next 246\n",
      "2024-11-28 07:51:13.545396: I external/local_tsl/tsl/framework/bfc_allocator.cc:1095] InUse at 75d6854b9400 of size 1048576 next 256\n",
      "2024-11-28 07:51:13.545401: I external/local_tsl/tsl/framework/bfc_allocator.cc:1095] InUse at 75d6855b9400 of size 1048576 next 255\n",
      "2024-11-28 07:51:13.545406: I external/local_tsl/tsl/framework/bfc_allocator.cc:1095] InUse at 75d6856b9400 of size 1048576 next 266\n",
      "2024-11-28 07:51:13.545410: I external/local_tsl/tsl/framework/bfc_allocator.cc:1095] InUse at 75d6857b9400 of size 1048576 next 275\n",
      "2024-11-28 07:51:13.545416: I external/local_tsl/tsl/framework/bfc_allocator.cc:1095] InUse at 75d6858b9400 of size 4194304 next 285\n",
      "2024-11-28 07:51:13.545421: I external/local_tsl/tsl/framework/bfc_allocator.cc:1095] InUse at 75d685cb9400 of size 4194304 next 306\n",
      "2024-11-28 07:51:13.545426: I external/local_tsl/tsl/framework/bfc_allocator.cc:1095] InUse at 75d6860b9400 of size 2097152 next 301\n",
      "2024-11-28 07:51:13.545431: I external/local_tsl/tsl/framework/bfc_allocator.cc:1095] InUse at 75d6862b9400 of size 301056000 next 173\n",
      "2024-11-28 07:51:13.545437: I external/local_tsl/tsl/framework/bfc_allocator.cc:1095] Free  at 75d6981d5400 of size 694004736 next 18446744073709551615\n",
      "2024-11-28 07:51:13.545442: I external/local_tsl/tsl/framework/bfc_allocator.cc:1100]      Summary of in-use Chunks by size: \n",
      "2024-11-28 07:51:13.545455: I external/local_tsl/tsl/framework/bfc_allocator.cc:1103] 53 Chunks of size 256 totalling 13.2KiB\n",
      "2024-11-28 07:51:13.545462: I external/local_tsl/tsl/framework/bfc_allocator.cc:1103] 15 Chunks of size 512 totalling 7.5KiB\n",
      "2024-11-28 07:51:13.545467: I external/local_tsl/tsl/framework/bfc_allocator.cc:1103] 1 Chunks of size 768 totalling 768B\n",
      "2024-11-28 07:51:13.545473: I external/local_tsl/tsl/framework/bfc_allocator.cc:1103] 13 Chunks of size 1024 totalling 13.0KiB\n",
      "2024-11-28 07:51:13.545478: I external/local_tsl/tsl/framework/bfc_allocator.cc:1103] 4 Chunks of size 1280 totalling 5.0KiB\n",
      "2024-11-28 07:51:13.545483: I external/local_tsl/tsl/framework/bfc_allocator.cc:1103] 1 Chunks of size 1536 totalling 1.5KiB\n",
      "2024-11-28 07:51:13.545488: I external/local_tsl/tsl/framework/bfc_allocator.cc:1103] 47 Chunks of size 2048 totalling 94.0KiB\n",
      "2024-11-28 07:51:13.545493: I external/local_tsl/tsl/framework/bfc_allocator.cc:1103] 1 Chunks of size 2304 totalling 2.2KiB\n",
      "2024-11-28 07:51:13.545498: I external/local_tsl/tsl/framework/bfc_allocator.cc:1103] 1 Chunks of size 3072 totalling 3.0KiB\n",
      "2024-11-28 07:51:13.545503: I external/local_tsl/tsl/framework/bfc_allocator.cc:1103] 1 Chunks of size 3584 totalling 3.5KiB\n",
      "2024-11-28 07:51:13.545508: I external/local_tsl/tsl/framework/bfc_allocator.cc:1103] 11 Chunks of size 4096 totalling 44.0KiB\n",
      "2024-11-28 07:51:13.545513: I external/local_tsl/tsl/framework/bfc_allocator.cc:1103] 1 Chunks of size 5120 totalling 5.0KiB\n",
      "2024-11-28 07:51:13.545518: I external/local_tsl/tsl/framework/bfc_allocator.cc:1103] 1 Chunks of size 5888 totalling 5.8KiB\n",
      "2024-11-28 07:51:13.545523: I external/local_tsl/tsl/framework/bfc_allocator.cc:1103] 1 Chunks of size 6144 totalling 6.0KiB\n",
      "2024-11-28 07:51:13.545528: I external/local_tsl/tsl/framework/bfc_allocator.cc:1103] 1 Chunks of size 6656 totalling 6.5KiB\n",
      "2024-11-28 07:51:13.545533: I external/local_tsl/tsl/framework/bfc_allocator.cc:1103] 1 Chunks of size 8192 totalling 8.0KiB\n",
      "2024-11-28 07:51:13.545538: I external/local_tsl/tsl/framework/bfc_allocator.cc:1103] 1 Chunks of size 9216 totalling 9.0KiB\n",
      "2024-11-28 07:51:13.545543: I external/local_tsl/tsl/framework/bfc_allocator.cc:1103] 1 Chunks of size 11264 totalling 11.0KiB\n",
      "2024-11-28 07:51:13.545548: I external/local_tsl/tsl/framework/bfc_allocator.cc:1103] 3 Chunks of size 18432 totalling 54.0KiB\n",
      "2024-11-28 07:51:13.545553: I external/local_tsl/tsl/framework/bfc_allocator.cc:1103] 1 Chunks of size 23552 totalling 23.0KiB\n",
      "2024-11-28 07:51:13.545559: I external/local_tsl/tsl/framework/bfc_allocator.cc:1103] 1 Chunks of size 32512 totalling 31.8KiB\n",
      "2024-11-28 07:51:13.545564: I external/local_tsl/tsl/framework/bfc_allocator.cc:1103] 1 Chunks of size 36352 totalling 35.5KiB\n",
      "2024-11-28 07:51:13.545569: I external/local_tsl/tsl/framework/bfc_allocator.cc:1103] 1 Chunks of size 36864 totalling 36.0KiB\n",
      "2024-11-28 07:51:13.545574: I external/local_tsl/tsl/framework/bfc_allocator.cc:1103] 1 Chunks of size 57856 totalling 56.5KiB\n",
      "2024-11-28 07:51:13.545579: I external/local_tsl/tsl/framework/bfc_allocator.cc:1103] 1 Chunks of size 77824 totalling 76.0KiB\n",
      "2024-11-28 07:51:13.545584: I external/local_tsl/tsl/framework/bfc_allocator.cc:1103] 1 Chunks of size 131072 totalling 128.0KiB\n",
      "2024-11-28 07:51:13.545590: I external/local_tsl/tsl/framework/bfc_allocator.cc:1103] 1 Chunks of size 282624 totalling 276.0KiB\n",
      "2024-11-28 07:51:13.545595: I external/local_tsl/tsl/framework/bfc_allocator.cc:1103] 1 Chunks of size 524288 totalling 512.0KiB\n",
      "2024-11-28 07:51:13.545601: I external/local_tsl/tsl/framework/bfc_allocator.cc:1103] 5 Chunks of size 1048576 totalling 5.00MiB\n",
      "2024-11-28 07:51:13.545606: I external/local_tsl/tsl/framework/bfc_allocator.cc:1103] 1 Chunks of size 2097152 totalling 2.00MiB\n",
      "2024-11-28 07:51:13.545612: I external/local_tsl/tsl/framework/bfc_allocator.cc:1103] 2 Chunks of size 4194304 totalling 8.00MiB\n",
      "2024-11-28 07:51:13.545618: I external/local_tsl/tsl/framework/bfc_allocator.cc:1103] 1 Chunks of size 301056000 totalling 287.11MiB\n",
      "2024-11-28 07:51:13.545625: I external/local_tsl/tsl/framework/bfc_allocator.cc:1107] Sum Total of in-use chunks: 303.54MiB\n",
      "2024-11-28 07:51:13.545631: I external/local_tsl/tsl/framework/bfc_allocator.cc:1109] Total bytes in pool: 1031471104 memory_limit_: 1031471104 available bytes: 0 curr_region_allocation_bytes_: 2062942208\n",
      "2024-11-28 07:51:13.545642: I external/local_tsl/tsl/framework/bfc_allocator.cc:1114] Stats: \n",
      "Limit:                      1031471104\n",
      "InUse:                       318287616\n",
      "MaxInUse:                    318287616\n",
      "NumAllocs:                         867\n",
      "MaxAllocSize:                301056000\n",
      "Reserved:                            0\n",
      "PeakReserved:                        0\n",
      "LargestFreeBlock:                    0\n",
      "\n",
      "2024-11-28 07:51:13.545657: W external/local_tsl/tsl/framework/bfc_allocator.cc:497] *********************************___________________________________________________________________\n",
      "2024-11-28 07:51:13.545691: W tensorflow/core/framework/op_kernel.cc:1839] OP_REQUIRES failed at conv_ops_impl.h:679 : RESOURCE_EXHAUSTED: OOM when allocating tensor with shape[500,112,112,32] and type float on /job:localhost/replica:0/task:0/device:GPU:0 by allocator GPU_0_bfc\n"
     ]
    },
    {
     "ename": "ResourceExhaustedError",
     "evalue": "Exception encountered when calling layer 'conv1' (type Conv2D).\n\n{{function_node __wrapped__Conv2D_device_/job:localhost/replica:0/task:0/device:GPU:0}} OOM when allocating tensor with shape[500,112,112,32] and type float on /job:localhost/replica:0/task:0/device:GPU:0 by allocator GPU_0_bfc [Op:Conv2D] name: \n\nCall arguments received by layer 'conv1' (type Conv2D):\n  • inputs=tf.Tensor(shape=(500, 224, 224, 3), dtype=float32)",
     "output_type": "error",
     "traceback": [
      "\u001b[0;31m---------------------------------------------------------------------------\u001b[0m",
      "\u001b[0;31mResourceExhaustedError\u001b[0m                    Traceback (most recent call last)",
      "Cell \u001b[0;32mIn[9], line 6\u001b[0m\n\u001b[1;32m      3\u001b[0m \u001b[38;5;66;03m# this runs the pipeline defined for producer and analyzes the results\u001b[39;00m\n\u001b[1;32m      5\u001b[0m \u001b[38;5;28mprint\u001b[39m(\u001b[38;5;124m'\u001b[39m\u001b[38;5;124mAnalyzing responses, this may take a few minutes...\u001b[39m\u001b[38;5;124m'\u001b[39m)\n\u001b[0;32m----> 6\u001b[0m pfa \u001b[38;5;241m=\u001b[39m \u001b[43mPFA\u001b[49m\u001b[38;5;241;43m.\u001b[39;49m\u001b[43mintrospect\u001b[49m\u001b[43m(\u001b[49m\u001b[43mproducer\u001b[49m\u001b[43m,\u001b[49m\u001b[43m \u001b[49m\u001b[43mbatch_size\u001b[49m\u001b[38;5;241;43m=\u001b[39;49m\u001b[38;5;241;43m500\u001b[39;49m\u001b[43m)\u001b[49m\n\u001b[1;32m      7\u001b[0m \u001b[38;5;28mprint\u001b[39m(\u001b[38;5;124m'\u001b[39m\u001b[38;5;124mDone.\u001b[39m\u001b[38;5;124m'\u001b[39m)\n",
      "File \u001b[0;32m~/miniforge3/envs/betterwithdata/lib/python3.10/site-packages/deepview/introspectors/_pfa/_pfa.py:142\u001b[0m, in \u001b[0;36mPFA.introspect\u001b[0;34m(producer, batch_size, epsilon_inactive)\u001b[0m\n\u001b[1;32m    114\u001b[0m \u001b[38;5;129m@staticmethod\u001b[39m\n\u001b[1;32m    115\u001b[0m \u001b[38;5;28;01mdef\u001b[39;00m \u001b[38;5;21mintrospect\u001b[39m(producer: Producer, \u001b[38;5;241m*\u001b[39m,\n\u001b[1;32m    116\u001b[0m                batch_size: \u001b[38;5;28mint\u001b[39m \u001b[38;5;241m=\u001b[39m \u001b[38;5;241m32\u001b[39m,\n\u001b[1;32m    117\u001b[0m                epsilon_inactive: \u001b[38;5;28mfloat\u001b[39m \u001b[38;5;241m=\u001b[39m \u001b[38;5;241m1e-8\u001b[39m) \u001b[38;5;241m-\u001b[39m\u001b[38;5;241m>\u001b[39m \u001b[38;5;124m'\u001b[39m\u001b[38;5;124mPFA\u001b[39m\u001b[38;5;124m'\u001b[39m:\n\u001b[1;32m    118\u001b[0m \u001b[38;5;250m    \u001b[39m\u001b[38;5;124;03m\"\"\"\u001b[39;00m\n\u001b[1;32m    119\u001b[0m \u001b[38;5;124;03m    Perform Principal Filter Analysis on the responses\u001b[39;00m\n\u001b[1;32m    120\u001b[0m \u001b[38;5;124;03m    (:attr:`fields <deepview.base.Batch.fields>`) generated by the ``producer``.\u001b[39;00m\n\u001b[0;32m   (...)\u001b[0m\n\u001b[1;32m    140\u001b[0m \u001b[38;5;124;03m        a :class:`PFAStrategyType` (e.g., :class:`PFA.Strategy.KL`).\u001b[39;00m\n\u001b[1;32m    141\u001b[0m \u001b[38;5;124;03m    \"\"\"\u001b[39;00m\n\u001b[0;32m--> 142\u001b[0m     response_covariances \u001b[38;5;241m=\u001b[39m \u001b[43m_prepare_covariances\u001b[49m\u001b[43m(\u001b[49m\u001b[43mbatch_size\u001b[49m\u001b[43m,\u001b[49m\u001b[43m \u001b[49m\u001b[43mproducer\u001b[49m\u001b[43m)\u001b[49m\n\u001b[1;32m    144\u001b[0m     \u001b[38;5;66;03m# exclude responses that do not have enough data to support the covariance\u001b[39;00m\n\u001b[1;32m    145\u001b[0m     failed_responses \u001b[38;5;241m=\u001b[39m []\n",
      "File \u001b[0;32m~/miniforge3/envs/betterwithdata/lib/python3.10/site-packages/deepview/introspectors/_pfa/_covariances_calculator.py:174\u001b[0m, in \u001b[0;36m_prepare_covariances\u001b[0;34m(batch_size, producer)\u001b[0m\n\u001b[1;32m    169\u001b[0m \u001b[38;5;250m\u001b[39m\u001b[38;5;124;03m\"\"\"\u001b[39;00m\n\u001b[1;32m    170\u001b[0m \u001b[38;5;124;03mPrepare the per-response `_CovariancesCalculator` -- these can compute the covariance for\u001b[39;00m\n\u001b[1;32m    171\u001b[0m \u001b[38;5;124;03mthe accumulated data.\u001b[39;00m\n\u001b[1;32m    172\u001b[0m \u001b[38;5;124;03m\"\"\"\u001b[39;00m\n\u001b[1;32m    173\u001b[0m covariances: t\u001b[38;5;241m.\u001b[39mMapping[\u001b[38;5;28mstr\u001b[39m, _CovariancesCalculator] \u001b[38;5;241m=\u001b[39m defaultdict(_CovariancesCalculator)\n\u001b[0;32m--> 174\u001b[0m \u001b[38;5;28;01mfor\u001b[39;00m resp_batch \u001b[38;5;129;01min\u001b[39;00m producer(batch_size):\n\u001b[1;32m    175\u001b[0m     \u001b[38;5;28;01mfor\u001b[39;00m response_name, response \u001b[38;5;129;01min\u001b[39;00m resp_batch\u001b[38;5;241m.\u001b[39mfields\u001b[38;5;241m.\u001b[39mitems():\n\u001b[1;32m    177\u001b[0m         \u001b[38;5;28;01mif\u001b[39;00m \u001b[38;5;28mlen\u001b[39m(response\u001b[38;5;241m.\u001b[39mshape) \u001b[38;5;241m>\u001b[39m \u001b[38;5;241m2\u001b[39m:\n",
      "File \u001b[0;32m~/miniforge3/envs/betterwithdata/lib/python3.10/site-packages/deepview/base/_pipeline.py:55\u001b[0m, in \u001b[0;36mPipelineStage._pipeline.<locals>.new_producer\u001b[0;34m(batch_size)\u001b[0m\n\u001b[1;32m     54\u001b[0m \u001b[38;5;28;01mdef\u001b[39;00m \u001b[38;5;21mnew_producer\u001b[39m(batch_size: \u001b[38;5;28mint\u001b[39m) \u001b[38;5;241m-\u001b[39m\u001b[38;5;241m>\u001b[39m t\u001b[38;5;241m.\u001b[39mIterable[Batch]:\n\u001b[0;32m---> 55\u001b[0m     \u001b[38;5;28;01mfor\u001b[39;00m batch \u001b[38;5;129;01min\u001b[39;00m producer(batch_size):\n\u001b[1;32m     56\u001b[0m         \u001b[38;5;28;01myield\u001b[39;00m batch_processor(batch)\n",
      "File \u001b[0;32m~/miniforge3/envs/betterwithdata/lib/python3.10/site-packages/deepview/base/_pipeline.py:56\u001b[0m, in \u001b[0;36mPipelineStage._pipeline.<locals>.new_producer\u001b[0;34m(batch_size)\u001b[0m\n\u001b[1;32m     54\u001b[0m \u001b[38;5;28;01mdef\u001b[39;00m \u001b[38;5;21mnew_producer\u001b[39m(batch_size: \u001b[38;5;28mint\u001b[39m) \u001b[38;5;241m-\u001b[39m\u001b[38;5;241m>\u001b[39m t\u001b[38;5;241m.\u001b[39mIterable[Batch]:\n\u001b[1;32m     55\u001b[0m     \u001b[38;5;28;01mfor\u001b[39;00m batch \u001b[38;5;129;01min\u001b[39;00m producer(batch_size):\n\u001b[0;32m---> 56\u001b[0m         \u001b[38;5;28;01myield\u001b[39;00m \u001b[43mbatch_processor\u001b[49m\u001b[43m(\u001b[49m\u001b[43mbatch\u001b[49m\u001b[43m)\u001b[49m\n",
      "File \u001b[0;32m~/miniforge3/envs/betterwithdata/lib/python3.10/site-packages/deepview/base/_model.py:114\u001b[0m, in \u001b[0;36m_ModelPipelineStage._get_batch_processor.<locals>.process_batch\u001b[0;34m(batch)\u001b[0m\n\u001b[1;32m    104\u001b[0m \u001b[38;5;28;01melif\u001b[39;00m (\u001b[38;5;28mlen\u001b[39m(potential_inputs) \u001b[38;5;241m==\u001b[39m \u001b[38;5;28mlen\u001b[39m(batch\u001b[38;5;241m.\u001b[39mfields) \u001b[38;5;129;01mand\u001b[39;00m\n\u001b[1;32m    105\u001b[0m       potential_input_names \u001b[38;5;241m!=\u001b[39m \u001b[38;5;28mset\u001b[39m(\u001b[38;5;28miter\u001b[39m(batch\u001b[38;5;241m.\u001b[39mfields))):\n\u001b[1;32m    106\u001b[0m     \u001b[38;5;28;01mraise\u001b[39;00m DeepViewException(\n\u001b[1;32m    107\u001b[0m         \u001b[38;5;124mf\u001b[39m\u001b[38;5;124m\"\u001b[39m\u001b[38;5;124mModel expects inputs named \u001b[39m\u001b[38;5;132;01m{\u001b[39;00m\u001b[38;5;124m'\u001b[39m\u001b[38;5;124m, \u001b[39m\u001b[38;5;124m'\u001b[39m\u001b[38;5;241m.\u001b[39mjoin([ri\u001b[38;5;241m.\u001b[39mname\u001b[38;5;250m \u001b[39m\u001b[38;5;28;01mfor\u001b[39;00m\u001b[38;5;250m \u001b[39mri\u001b[38;5;250m \u001b[39m\u001b[38;5;129;01min\u001b[39;00m\u001b[38;5;250m \u001b[39mpotential_inputs])\u001b[38;5;132;01m}\u001b[39;00m\u001b[38;5;124m \u001b[39m\u001b[38;5;124m\"\u001b[39m\n\u001b[1;32m    108\u001b[0m         \u001b[38;5;124mf\u001b[39m\u001b[38;5;124m\"\u001b[39m\u001b[38;5;124mbut batch contains fields named \u001b[39m\u001b[38;5;132;01m{\u001b[39;00m\u001b[38;5;124m'\u001b[39m\u001b[38;5;124m, \u001b[39m\u001b[38;5;124m'\u001b[39m\u001b[38;5;241m.\u001b[39mjoin([f\u001b[38;5;250m \u001b[39m\u001b[38;5;28;01mfor\u001b[39;00m\u001b[38;5;250m \u001b[39mf\u001b[38;5;250m \u001b[39m\u001b[38;5;129;01min\u001b[39;00m\u001b[38;5;250m \u001b[39mbatch\u001b[38;5;241m.\u001b[39mfields])\u001b[38;5;132;01m}\u001b[39;00m\u001b[38;5;124m. \u001b[39m\u001b[38;5;124m\"\u001b[39m\n\u001b[0;32m   (...)\u001b[0m\n\u001b[1;32m    111\u001b[0m         \u001b[38;5;124mf\u001b[39m\u001b[38;5;124m\"\u001b[39m\u001b[38;5;124mFieldRenamer in the pipeline. To import the FieldRenamer class, do \u001b[39m\u001b[38;5;124m\"\u001b[39m\n\u001b[1;32m    112\u001b[0m         \u001b[38;5;124mf\u001b[39m\u001b[38;5;124m\"\u001b[39m\u001b[38;5;124m'\u001b[39m\u001b[38;5;124mfrom deepview.processors import FieldRenamer\u001b[39m\u001b[38;5;124m'\u001b[39m\u001b[38;5;124m)\u001b[39m\u001b[38;5;124m\"\u001b[39m)\n\u001b[0;32m--> 114\u001b[0m inference_result \u001b[38;5;241m=\u001b[39m \u001b[38;5;28;43mself\u001b[39;49m\u001b[38;5;241;43m.\u001b[39;49m\u001b[43m_details\u001b[49m\u001b[38;5;241;43m.\u001b[39;49m\u001b[43mrun_inference\u001b[49m\u001b[43m(\u001b[49m\u001b[43minfer_fields\u001b[49m\u001b[43m,\u001b[49m\u001b[43m \u001b[49m\u001b[38;5;28;43mself\u001b[39;49m\u001b[38;5;241;43m.\u001b[39;49m\u001b[43m_requested_responses\u001b[49m\u001b[43m)\u001b[49m\n\u001b[1;32m    115\u001b[0m \u001b[38;5;66;03m# Prepare output\u001b[39;00m\n\u001b[1;32m    116\u001b[0m builder \u001b[38;5;241m=\u001b[39m Batch\u001b[38;5;241m.\u001b[39mBuilder(base\u001b[38;5;241m=\u001b[39mbatch)\n",
      "File \u001b[0;32m~/miniforge3/envs/betterwithdata/lib/python3.10/site-packages/deepview_tensorflow/_tensorflow/_tf2_model.py:143\u001b[0m, in \u001b[0;36m_Tensorflow2ModelDetails.run_inference\u001b[0;34m(self, inputs, outputs)\u001b[0m\n\u001b[1;32m    139\u001b[0m     \u001b[38;5;28;01mif\u001b[39;00m input_name \u001b[38;5;129;01mnot\u001b[39;00m \u001b[38;5;129;01min\u001b[39;00m possible_inputs:\n\u001b[1;32m    140\u001b[0m         \u001b[38;5;28;01mraise\u001b[39;00m \u001b[38;5;167;01mTypeError\u001b[39;00m(\n\u001b[1;32m    141\u001b[0m             \u001b[38;5;124mf\u001b[39m\u001b[38;5;124m'\u001b[39m\u001b[38;5;124mInvalid input \u001b[39m\u001b[38;5;124m\"\u001b[39m\u001b[38;5;132;01m{\u001b[39;00minput_name\u001b[38;5;132;01m}\u001b[39;00m\u001b[38;5;124m\"\u001b[39m\u001b[38;5;124m. Valid inputs are \u001b[39m\u001b[38;5;132;01m{\u001b[39;00mpossible_inputs\u001b[38;5;132;01m}\u001b[39;00m\u001b[38;5;124m.\u001b[39m\u001b[38;5;124m'\u001b[39m)\n\u001b[0;32m--> 143\u001b[0m results \u001b[38;5;241m=\u001b[39m \u001b[43minference_model\u001b[49m\u001b[43m(\u001b[49m\u001b[38;5;28;43mlist\u001b[39;49m\u001b[43m(\u001b[49m\u001b[43minputs\u001b[49m\u001b[38;5;241;43m.\u001b[39;49m\u001b[43mvalues\u001b[49m\u001b[43m(\u001b[49m\u001b[43m)\u001b[49m\u001b[43m)\u001b[49m\u001b[43m)\u001b[49m\n\u001b[1;32m    145\u001b[0m \u001b[38;5;66;03m# Inference on a single data sample collapses the batch dimension in the result, but\u001b[39;00m\n\u001b[1;32m    146\u001b[0m \u001b[38;5;66;03m#    the batch dimension needs to be in place for other parts of deepview!\u001b[39;00m\n\u001b[1;32m    147\u001b[0m \u001b[38;5;28;01mif\u001b[39;00m inputs[possible_inputs[\u001b[38;5;241m0\u001b[39m]]\u001b[38;5;241m.\u001b[39mshape[\u001b[38;5;241m0\u001b[39m] \u001b[38;5;241m==\u001b[39m \u001b[38;5;241m1\u001b[39m:\n",
      "File \u001b[0;32m~/miniforge3/envs/betterwithdata/lib/python3.10/site-packages/keras/src/utils/traceback_utils.py:70\u001b[0m, in \u001b[0;36mfilter_traceback.<locals>.error_handler\u001b[0;34m(*args, **kwargs)\u001b[0m\n\u001b[1;32m     67\u001b[0m     filtered_tb \u001b[38;5;241m=\u001b[39m _process_traceback_frames(e\u001b[38;5;241m.\u001b[39m__traceback__)\n\u001b[1;32m     68\u001b[0m     \u001b[38;5;66;03m# To get the full stack trace, call:\u001b[39;00m\n\u001b[1;32m     69\u001b[0m     \u001b[38;5;66;03m# `tf.debugging.disable_traceback_filtering()`\u001b[39;00m\n\u001b[0;32m---> 70\u001b[0m     \u001b[38;5;28;01mraise\u001b[39;00m e\u001b[38;5;241m.\u001b[39mwith_traceback(filtered_tb) \u001b[38;5;28;01mfrom\u001b[39;00m \u001b[38;5;28;01mNone\u001b[39;00m\n\u001b[1;32m     71\u001b[0m \u001b[38;5;28;01mfinally\u001b[39;00m:\n\u001b[1;32m     72\u001b[0m     \u001b[38;5;28;01mdel\u001b[39;00m filtered_tb\n",
      "File \u001b[0;32m~/miniforge3/envs/betterwithdata/lib/python3.10/site-packages/tensorflow/python/framework/ops.py:5883\u001b[0m, in \u001b[0;36mraise_from_not_ok_status\u001b[0;34m(e, name)\u001b[0m\n\u001b[1;32m   5881\u001b[0m \u001b[38;5;28;01mdef\u001b[39;00m \u001b[38;5;21mraise_from_not_ok_status\u001b[39m(e, name) \u001b[38;5;241m-\u001b[39m\u001b[38;5;241m>\u001b[39m NoReturn:\n\u001b[1;32m   5882\u001b[0m   e\u001b[38;5;241m.\u001b[39mmessage \u001b[38;5;241m+\u001b[39m\u001b[38;5;241m=\u001b[39m (\u001b[38;5;124m\"\u001b[39m\u001b[38;5;124m name: \u001b[39m\u001b[38;5;124m\"\u001b[39m \u001b[38;5;241m+\u001b[39m \u001b[38;5;28mstr\u001b[39m(name \u001b[38;5;28;01mif\u001b[39;00m name \u001b[38;5;129;01mis\u001b[39;00m \u001b[38;5;129;01mnot\u001b[39;00m \u001b[38;5;28;01mNone\u001b[39;00m \u001b[38;5;28;01melse\u001b[39;00m \u001b[38;5;124m\"\u001b[39m\u001b[38;5;124m\"\u001b[39m))\n\u001b[0;32m-> 5883\u001b[0m   \u001b[38;5;28;01mraise\u001b[39;00m core\u001b[38;5;241m.\u001b[39m_status_to_exception(e) \u001b[38;5;28;01mfrom\u001b[39;00m \u001b[38;5;28;01mNone\u001b[39;00m\n",
      "\u001b[0;31mResourceExhaustedError\u001b[0m: Exception encountered when calling layer 'conv1' (type Conv2D).\n\n{{function_node __wrapped__Conv2D_device_/job:localhost/replica:0/task:0/device:GPU:0}} OOM when allocating tensor with shape[500,112,112,32] and type float on /job:localhost/replica:0/task:0/device:GPU:0 by allocator GPU_0_bfc [Op:Conv2D] name: \n\nCall arguments received by layer 'conv1' (type Conv2D):\n  • inputs=tf.Tensor(shape=(500, 224, 224, 3), dtype=float32)"
     ]
    }
   ],
   "source": [
    "from deepview.introspectors import PFA, PFARecipe\n",
    "\n",
    "# this runs the pipeline defined for producer and analyzes the results\n",
    "\n",
    "print('Analyzing responses, this may take a few minutes...')\n",
    "pfa = PFA.introspect(producer, batch_size=500)\n",
    "print('Done.')"
   ]
  },
  {
   "cell_type": "markdown",
   "metadata": {
    "pycharm": {
     "name": "#%% md\n"
    }
   },
   "source": [
    "## 3. PFA-Energy\n",
    "Now the key ingredient of PFA is computed: the eigenvalues. PFA provides three algorithms to compress a network: Energy, KL and Size. First, start with [PFA.Strategy.Energy](https://apple.github.io/deepview/api/deepview/introspectors.html#deepview.introspectors.PFA.Strategy.Energy). The energy threshold tells PFA how much of the original energy to preserve. This involves computing how many eigenvalues should be kept in order to capture the desired amount of energy in each layer. In the following figure the energy threshold is set to 0.8 (i.e., 80% of the original energy) so, for each layer a different number of eigenvalues are selected so that their total energy amount to 80% of their original energy value.\n",
    "\n",
    "<img src=\"../assets/Energy.png\" width=\"400\">\n",
    "\n",
    "The result is a dictionary of response name to [PFARecipe](https://apple.github.io/deepview/api/deepview/introspectors.html#deepview.introspectors.PFARecipe).  The recipe provides:\n",
    "- the original number of units;\n",
    "- the suggested number of units according to the current energy threshold;\n",
    "- additional diagnostics such as the actual energy level preserved.\n",
    "\n",
    "If there is insufficient data to compute the covariance, a layer may be omitted -- this can also queried via `pfa.failed_responses`.\n",
    "\n",
    "The `PFA.show` method is used to visualize the results, which produces, by default, a pandas DataFrame of the results. Here, specify which columns of the results to visualize and then add an additional column that defines the input energy level used, and concatenate the results of the two energy levels together into one dataframe."
   ]
  },
  {
   "cell_type": "code",
   "execution_count": null,
   "metadata": {
    "pycharm": {
     "name": "#%%\n"
    },
    "tags": []
   },
   "outputs": [],
   "source": [
    "# produce a list of energy, layer, counts that can be examined\n",
    "\n",
    "# Run energy levels 0.8 and 0.99\n",
    "energy_8_recipes = pfa.get_recipe(\n",
    "    strategy=PFA.Strategy.Energy(energy_threshold=0.8, min_kept_count=3)\n",
    ")\n",
    "energy_99_recipes = pfa.get_recipe(\n",
    "    strategy=PFA.Strategy.Energy(energy_threshold=0.99, min_kept_count=3)\n",
    ")\n",
    "print(\"Done running PFA Energy\")\n",
    "\n",
    "# Display both results in the same data frame using PFA.show\n",
    "results_table = PFA.show((energy_8_recipes, energy_99_recipes))\n",
    "\n",
    "# Add a column to display the energy level\n",
    "results_table['Energy'] = ['0.8']*len(energy_8_recipes) + ['0.99']*len(energy_99_recipes)\n",
    "print(results_table.head())"
   ]
  },
  {
   "cell_type": "markdown",
   "metadata": {
    "pycharm": {
     "name": "#%% md\n"
    }
   },
   "source": [
    "## 4. PFA KL\n",
    "The KL strategy, a.k.a [PFA.Strategy.KL](https://apple.github.io/deepview/api/deepview/introspectors.html#deepview.introspectors.PFA.Strategy.KL), is a recipe that does not require any user input parameter. The details of how this algorithm works are not needed to run PFA, however, here is a brief explanation. To understand how the recipe is computed it's important to understand what is the \"ideal\" eigenvalues set. If a user desires decorrelated and equally contributing units, then the empirical eigenvalue distribution should be flat: this means that all units should be preserved. The opposite scenario is when only a single eigenvalue is non-zero: this means that the same task can be performed equivalently well by a single unit.\n",
    "\n",
    "<img src=\"../assets/Eig_dist.png\" width=\"600\">\n",
    "\n",
    "In practice the observed distribution will be in-between the two extreme cases. In order to determine how many units should be kept given an observed distribution the \"distance\" (the Kullback-Leibler divergence, KL, in this case) between the observed and the ideal distribution is computed. If the distance is 0 then keep all the units. If the distance is equal to the distance between the maximally correlated and the ideal distribution then keep only 1 unit. In all the intermediate cases, interpolate between the two extremes in order to map a distance \"x\" to the number of units to keep \"b\".\n",
    "\n",
    "<img src=\"../assets/KL.png\" width=\"600\">"
   ]
  },
  {
   "cell_type": "code",
   "execution_count": null,
   "metadata": {
    "pycharm": {
     "name": "#%%\n"
    },
    "tags": []
   },
   "outputs": [],
   "source": [
    "# can also be written as pfa.get_recipe(strategy=PFA.Strategy.KL())\n",
    "pfa_kl_recipe = pfa.get_recipe()\n",
    "\n",
    "# Display kl recipe results\n",
    "print(PFA.show(pfa_kl_recipe).head())"
   ]
  },
  {
   "cell_type": "markdown",
   "metadata": {},
   "source": [
    "Note: to only show a subset of the information: \n",
    "\n",
    "1. select specific columns to include, or \n",
    "2. select all available information to show"
   ]
  },
  {
   "cell_type": "code",
   "execution_count": null,
   "metadata": {
    "tags": []
   },
   "outputs": [],
   "source": [
    "# Select specific columns to include\n",
    "print(PFA.show(\n",
    "    pfa_kl_recipe,\n",
    "    include_columns=['layer_name', 'original count', 'recommended count']\n",
    ").head())"
   ]
  },
  {
   "cell_type": "code",
   "execution_count": null,
   "metadata": {
    "tags": []
   },
   "outputs": [],
   "source": [
    "# Show all data by setting 'include_columns' to '[]'\n",
    "print(PFA.show(\n",
    "    pfa_kl_recipe,\n",
    "    include_columns=[]\n",
    ").head())"
   ]
  },
  {
   "cell_type": "markdown",
   "metadata": {},
   "source": [
    "Note: `print` is unnecessary in the preceding cells. E.g.:\n",
    "\n",
    "```\n",
    "PFA.show(\n",
    "    pfa_kl_recipe,\n",
    "    include_columns=[]\n",
    ")\n",
    "```\n",
    "\n",
    "Is also appropriate. `print` is included to assist with displaying the notebook output within the DeepView documentation."
   ]
  },
  {
   "cell_type": "markdown",
   "metadata": {
    "pycharm": {
     "name": "#%% md\n"
    }
   },
   "source": [
    "## Unit Selection\n",
    "The recipes computed earlier specify how many units each analyzed layer should have and provide some\n",
    "additional diagnostic information that could be useful for introspection.\n",
    "\n",
    "Something they do not provide is *which* units should be kept and which should be removed. This task is performed by the *unit selection* strategy.\n",
    "\n",
    "Again, the details of how these algorithms work are not needed to run PFA with unit selection, however, here is a brief explanation.\n",
    "\n",
    "All unit selection strategies are based on the Pearson's correlation coefficients that can be extracted from the covariance matrix computed before. The Pearson's correlation coefficients provide a measure of the strength of the linear relationship between pairs of variables (in this case pairs of units): the higher the coefficient the stronger the correlation.\n",
    "\n",
    "<img src=\"../assets/pearsons.png\" width=\"700\">\n",
    "\n",
    "PFA is equipped with a few strategies but here two of them are explored: [`AbsMax`](https://apple.github.io/deepview/api/deepview/introspectors.html#deepview.introspectors.PFA.UnitSelectionStrategy.AbsMax) and [`L1Max](https://apple.github.io/deepview/api/deepview/introspectors.html#deepview.introspectors.PFA.UnitSelectionStrategy.L1Max)."
   ]
  },
  {
   "cell_type": "code",
   "execution_count": null,
   "metadata": {
    "pycharm": {
     "name": "#%%\n"
    }
   },
   "outputs": [],
   "source": [
    "print(\"Starting selection. This may take several seconds\")\n",
    "\n",
    "# Run two strategies, AbsMax and L1Max\n",
    "abs_max_recipes = pfa.get_recipe(unit_strategy=PFA.UnitSelectionStrategy.AbsMax())\n",
    "l1_max_recipes = pfa.get_recipe(unit_strategy=PFA.UnitSelectionStrategy.L1Max())\n",
    "\n",
    "# Display results via pandas dataframe + add strategy column\n",
    "results_table = PFA.show((abs_max_recipes, l1_max_recipes))\n",
    "results_table['strategy'] = ['ABS MAX']*len(abs_max_recipes) + ['L1 MAX']*len(l1_max_recipes)\n",
    "print(results_table.head())"
   ]
  },
  {
   "cell_type": "markdown",
   "metadata": {
    "pycharm": {
     "name": "#%% md\n"
    }
   },
   "source": [
    "### AbsMax\n",
    "The [PFA.UnitSelectionStrategy.AbsMax](https://apple.github.io/deepview/api/deepview/introspectors.html#deepview.introspectors.PFA.UnitSelectionStrategy.AbsMax) strategy iteratively selects the pair of units with the highest correlation coefficients (in absolute value). In order to disambiguate which unit of the selected pair should be removed, look at the second, third, etc... coefficients until a choice can be made. Remove the unit from the covariance, recompute the coefficients and repeat until the number of units recommended by the recipe is reached.\n",
    "<img src=\"../assets/max.png\" width=\"700\">\n",
    "\n",
    "### L1-MAX\n",
    "The [PFA.UnitSelectionStrategy.L1Max](https://apple.github.io/deepview/api/deepview/introspectors.html#deepview.introspectors.PFA.UnitSelectionStrategy.L1Max) strategy iteratively selects the unit with the highest sum of all its correlation coefficients. Remove the unit from the covariance, recompute the coefficients and repeat until the number of units recommended by the recipe is reached.\n",
    "<img src=\"../assets/l1.png\" width=\"500\">"
   ]
  },
  {
   "cell_type": "markdown",
   "metadata": {},
   "source": [
    "## Visualization\n",
    "\n",
    "As a wrap up, take a look at the compression achieved using, for example, PFA KL.\n",
    "\n",
    "Here is a plot with the number of units per layer for the original model and the compressed one. The figure shows the amount of compression per layer recommended by PFA.\n",
    "\n",
    "Interestingly, layer ``conv_pw_11`` gets compressed a lot compared to other layers, meaning that a high amount of correlation is present in that layer. Keep in mind that only 2,000 images out of 50,000 were used. An interesting experiment (encouraged) is to increase the number of images, or just feed images from a single class, in order to get more insights from PFA.\n",
    "\n",
    "*Hint: By feeding images of only one class one should expect higher compression*.\n",
    "\n",
    "This matplotlib plot can be viewed using ``PFA.show``, with added parameter ``vis_type`` set to ``PFA.VisType.CHART`` instead of the default ``PFA.VisType.TABLE``."
   ]
  },
  {
   "cell_type": "code",
   "execution_count": null,
   "metadata": {},
   "outputs": [],
   "source": [
    "PFA.show(pfa_kl_recipe, vis_type=PFA.VisType.CHART)"
   ]
  },
  {
   "cell_type": "code",
   "execution_count": null,
   "metadata": {},
   "outputs": [],
   "source": []
  }
 ],
 "metadata": {
  "finalized": {
   "timestamp": 1659463479162,
   "trusted": true
  },
  "kernelspec": {
   "display_name": "Python 3 (ipykernel)",
   "language": "python",
   "name": "python3"
  },
  "language_info": {
   "codemirror_mode": {
    "name": "ipython",
    "version": 3
   },
   "file_extension": ".py",
   "mimetype": "text/x-python",
   "name": "python",
   "nbconvert_exporter": "python",
   "pygments_lexer": "ipython3",
   "version": "3.10.15"
  },
  "require": {
   "paths": {
    "buttons.colvis": "https://cdn.datatables.net/buttons/1.5.6/js/buttons.colVis.min",
    "buttons.flash": "https://cdn.datatables.net/buttons/1.5.6/js/buttons.flash.min",
    "buttons.html5": "https://cdn.datatables.net/buttons/1.5.6/js/buttons.html5.min",
    "buttons.print": "https://cdn.datatables.net/buttons/1.5.6/js/buttons.print.min",
    "chartjs": "https://cdnjs.cloudflare.com/ajax/libs/Chart.js/2.8.0/Chart",
    "d3": "https://d3js.org/d3.v5.min",
    "d3-array": "https://d3js.org/d3-array.v2.min",
    "datatables.net": "https://cdn.datatables.net/1.10.18/js/jquery.dataTables",
    "datatables.net-buttons": "https://cdn.datatables.net/buttons/1.5.6/js/dataTables.buttons.min",
    "datatables.responsive": "https://cdn.datatables.net/responsive/2.2.2/js/dataTables.responsive.min",
    "datatables.scroller": "https://cdn.datatables.net/scroller/2.0.0/js/dataTables.scroller.min",
    "datatables.select": "https://cdn.datatables.net/select/1.3.0/js/dataTables.select.min",
    "jszip": "https://cdnjs.cloudflare.com/ajax/libs/jszip/2.5.0/jszip.min",
    "moment": "https://cdnjs.cloudflare.com/ajax/libs/moment.js/2.8.0/moment",
    "pdfmake": "https://cdnjs.cloudflare.com/ajax/libs/pdfmake/0.1.36/pdfmake.min",
    "vfsfonts": "https://cdnjs.cloudflare.com/ajax/libs/pdfmake/0.1.36/vfs_fonts"
   },
   "shim": {
    "buttons.colvis": {
     "deps": [
      "jszip",
      "datatables.net-buttons"
     ]
    },
    "buttons.flash": {
     "deps": [
      "jszip",
      "datatables.net-buttons"
     ]
    },
    "buttons.html5": {
     "deps": [
      "jszip",
      "datatables.net-buttons"
     ]
    },
    "buttons.print": {
     "deps": [
      "jszip",
      "datatables.net-buttons"
     ]
    },
    "chartjs": {
     "deps": [
      "moment"
     ]
    },
    "datatables.net": {
     "exports": "$.fn.dataTable"
    },
    "datatables.net-buttons": {
     "deps": [
      "datatables.net"
     ]
    },
    "pdfmake": {
     "deps": [
      "datatables.net"
     ]
    },
    "vfsfonts": {
     "deps": [
      "datatables.net"
     ]
    }
   }
  }
 },
 "nbformat": 4,
 "nbformat_minor": 4
}
