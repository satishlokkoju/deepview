{
 "cells": [
  {
   "cell_type": "markdown",
   "id": "a6f25846",
   "metadata": {},
   "source": [
    "# Symphony: CIFAR-10 Example\n",
    "\n",
    "**Visualizing a [DeepView](https://apple.github.io/deepview/) [Dataset Report](https://apple.github.io/deepview/introspectors/data_introspection/dataset_report.html)**\n",
    "\n",
    "This is an example of visualizing the CIFAR-10 dataset with Symphony. Beyond the image samples themselves, we've used [DeepView](https://apple.github.io/deepview/) to compute some other statistics about the data. Symphony uses this data in the Familiarity and Duplicates widgets.\n",
    "\n",
    "In DeepView, you can create a `DatasetReport` object, that has a `data` field, which is a pandas DataFrame table with metadata about each data sample like its familiarity, duplicates, overall summary, and dimensionality projection coordinates. Symphony can directly visualize this DataFrame.\n",
    "\n",
    "For this example, we'll load a precomputed analysis for the CIFAR-10 dataset that has been saved to disk as a pandas DataFrame. If you are interested in generating this DataFrame yourself (or for a different dataset or model), see [this DeepView example](https://apple.github.io/deepview/notebooks/data_introspection/dataset_report.ipynb). This Symphony example picks up at the end of it."
   ]
  },
  {
   "cell_type": "markdown",
   "id": "6a21f976",
   "metadata": {
    "pycharm": {
     "name": "#%% md\n"
    }
   },
   "source": [
    "## Symphony in Jupyter Notebooks\n",
    "\n",
    "Let's use Symphony to explore this dataset in a Jupyter notebook."
   ]
  },
  {
   "cell_type": "code",
   "execution_count": 1,
   "id": "d904ddac",
   "metadata": {
    "tags": []
   },
   "outputs": [
    {
     "name": "stderr",
     "output_type": "stream",
     "text": [
      "2024-11-29 01:30:06.884070: I tensorflow/core/util/port.cc:113] oneDNN custom operations are on. You may see slightly different numerical results due to floating-point round-off errors from different computation orders. To turn them off, set the environment variable `TF_ENABLE_ONEDNN_OPTS=0`.\n",
      "2024-11-29 01:30:06.903993: E external/local_xla/xla/stream_executor/cuda/cuda_dnn.cc:9261] Unable to register cuDNN factory: Attempting to register factory for plugin cuDNN when one has already been registered\n",
      "2024-11-29 01:30:06.904016: E external/local_xla/xla/stream_executor/cuda/cuda_fft.cc:607] Unable to register cuFFT factory: Attempting to register factory for plugin cuFFT when one has already been registered\n",
      "2024-11-29 01:30:06.904700: E external/local_xla/xla/stream_executor/cuda/cuda_blas.cc:1515] Unable to register cuBLAS factory: Attempting to register factory for plugin cuBLAS when one has already been registered\n",
      "2024-11-29 01:30:06.908546: I tensorflow/core/platform/cpu_feature_guard.cc:182] This TensorFlow binary is optimized to use available CPU instructions in performance-critical operations.\n",
      "To enable the following instructions: AVX2 AVX_VNNI FMA, in other operations, rebuild TensorFlow with the appropriate compiler flags.\n",
      "2024-11-29 01:30:07.278002: W tensorflow/compiler/tf2tensorrt/utils/py_utils.cc:38] TF-TRT Warning: Could not find TensorRT\n"
     ]
    }
   ],
   "source": [
    "import os\n",
    "from pathlib import Path\n",
    "import pandas as pd\n",
    "import numpy as np\n",
    "import cv2\n",
    "from keras.datasets import cifar10"
   ]
  },
  {
   "cell_type": "markdown",
   "id": "62df4b17",
   "metadata": {},
   "source": [
    "Let's first load and download the CIFAR-10 dataset. We'll save it to a folder named `cifar`. "
   ]
  },
  {
   "cell_type": "code",
   "execution_count": 2,
   "id": "63f60f20",
   "metadata": {
    "tags": []
   },
   "outputs": [],
   "source": [
    "data_path = \"./cifar/\""
   ]
  },
  {
   "cell_type": "code",
   "execution_count": 3,
   "id": "5b2d4a3c",
   "metadata": {
    "tags": []
   },
   "outputs": [],
   "source": [
    "# Load data\n",
    "(x_train, y_train), (x_test, y_test) = cifar10.load_data()\n",
    "class_to_name = ['airplane', 'automobile', 'bird', 'cat', 'deer', 'dog', 'frog', 'horse', 'ship', 'truck']\n",
    "\n",
    "# Concatenate the train and test into one array, as well as the train/test labels, and the class labels\n",
    "full_dataset = np.concatenate((x_train, x_test))\n",
    "dataset_labels = ['train']*len(x_train) + ['test']*len(x_test)\n",
    "class_labels = np.squeeze(np.concatenate((y_train, y_test)))\n",
    "\n",
    "# Helper function for file pathing\n",
    "def class_path(index, dataset_labels, class_labels):\n",
    "    return f\"{dataset_labels[index]}/{class_to_name[int(class_labels[index])]}\""
   ]
  },
  {
   "cell_type": "code",
   "execution_count": 4,
   "id": "4ee9d9ef",
   "metadata": {
    "tags": []
   },
   "outputs": [],
   "source": [
    "# Loop through data and save images to `cifar` folder\n",
    "for idx in range(full_dataset.shape[0]):\n",
    "    base_path = os.path.join(data_path, class_path(idx, dataset_labels, class_labels))\n",
    "    Path(base_path).mkdir(exist_ok=True, parents=True)\n",
    "    filename = os.path.join(base_path, f\"image{idx}.png\")\n",
    "    # Write to disk after converting to BGR format, used by opencv\n",
    "    cv2.imwrite(filename, cv2.cvtColor(full_dataset[idx, ...], cv2.COLOR_RGB2BGR))"
   ]
  },
  {
   "cell_type": "markdown",
   "id": "14ef06c2",
   "metadata": {},
   "source": [
    "Now that we have the images saved, we can load our precomputed analysis from DeepView to visualize in Symphony. You can use Symphony to visualize CIFAR-10, and other datsets, directly. But some components require special metadata that we can use DeepView's Dataset Report to generate automatically for us.\n",
    "\n",
    "We can also print out the DataFrame to see the types of metadata columns that are included."
   ]
  },
  {
   "cell_type": "code",
   "execution_count": 5,
   "id": "02e3021a",
   "metadata": {
    "tags": []
   },
   "outputs": [
    {
     "data": {
      "text/html": [
       "<div>\n",
       "<style scoped>\n",
       "    .dataframe tbody tr th:only-of-type {\n",
       "        vertical-align: middle;\n",
       "    }\n",
       "\n",
       "    .dataframe tbody tr th {\n",
       "        vertical-align: top;\n",
       "    }\n",
       "\n",
       "    .dataframe thead th {\n",
       "        text-align: right;\n",
       "    }\n",
       "</style>\n",
       "<table border=\"1\" class=\"dataframe\">\n",
       "  <thead>\n",
       "    <tr style=\"text-align: right;\">\n",
       "      <th></th>\n",
       "      <th>id</th>\n",
       "      <th>class</th>\n",
       "      <th>dataset</th>\n",
       "      <th>duplicates_conv_pw_13</th>\n",
       "      <th>projection_conv_pw_13_x</th>\n",
       "      <th>projection_conv_pw_13_y</th>\n",
       "      <th>familiarity_conv_pw_13</th>\n",
       "      <th>splitFamiliarity_conv_pw_13_byAttr_class</th>\n",
       "      <th>splitFamiliarity_conv_pw_13_byAttr_dataset</th>\n",
       "    </tr>\n",
       "  </thead>\n",
       "  <tbody>\n",
       "    <tr>\n",
       "      <th>0</th>\n",
       "      <td>train/frog/image0.png</td>\n",
       "      <td>frog</td>\n",
       "      <td>train</td>\n",
       "      <td>-1</td>\n",
       "      <td>8.996793</td>\n",
       "      <td>6.067759</td>\n",
       "      <td>-63.839685</td>\n",
       "      <td>{'frog': -57.4634189968481, 'truck': -79.73388...</td>\n",
       "      <td>{'train': -63.85114012943654, 'test': -63.7891...</td>\n",
       "    </tr>\n",
       "    <tr>\n",
       "      <th>1</th>\n",
       "      <td>train/truck/image1.png</td>\n",
       "      <td>truck</td>\n",
       "      <td>train</td>\n",
       "      <td>-1</td>\n",
       "      <td>0.987265</td>\n",
       "      <td>4.231816</td>\n",
       "      <td>-56.638484</td>\n",
       "      <td>{'frog': -63.61311723243215, 'truck': -52.5701...</td>\n",
       "      <td>{'train': -56.667391185887446, 'test': -56.511...</td>\n",
       "    </tr>\n",
       "    <tr>\n",
       "      <th>2</th>\n",
       "      <td>train/truck/image2.png</td>\n",
       "      <td>truck</td>\n",
       "      <td>train</td>\n",
       "      <td>-1</td>\n",
       "      <td>3.857024</td>\n",
       "      <td>5.526045</td>\n",
       "      <td>-63.064532</td>\n",
       "      <td>{'frog': -66.21848904767097, 'truck': -61.3058...</td>\n",
       "      <td>{'train': -63.04006769721045, 'test': -63.1636...</td>\n",
       "    </tr>\n",
       "    <tr>\n",
       "      <th>3</th>\n",
       "      <td>train/deer/image3.png</td>\n",
       "      <td>deer</td>\n",
       "      <td>train</td>\n",
       "      <td>-1</td>\n",
       "      <td>11.347506</td>\n",
       "      <td>4.376108</td>\n",
       "      <td>-70.230302</td>\n",
       "      <td>{'frog': -77.75308621492171, 'truck': -87.4106...</td>\n",
       "      <td>{'train': -70.17086035521375, 'test': -70.4808...</td>\n",
       "    </tr>\n",
       "    <tr>\n",
       "      <th>4</th>\n",
       "      <td>train/automobile/image4.png</td>\n",
       "      <td>automobile</td>\n",
       "      <td>train</td>\n",
       "      <td>-1</td>\n",
       "      <td>-1.506487</td>\n",
       "      <td>2.882784</td>\n",
       "      <td>-73.770091</td>\n",
       "      <td>{'frog': -85.30263297363926, 'truck': -82.4036...</td>\n",
       "      <td>{'train': -73.6560069777013, 'test': -74.43546...</td>\n",
       "    </tr>\n",
       "    <tr>\n",
       "      <th>...</th>\n",
       "      <td>...</td>\n",
       "      <td>...</td>\n",
       "      <td>...</td>\n",
       "      <td>...</td>\n",
       "      <td>...</td>\n",
       "      <td>...</td>\n",
       "      <td>...</td>\n",
       "      <td>...</td>\n",
       "      <td>...</td>\n",
       "    </tr>\n",
       "    <tr>\n",
       "      <th>59995</th>\n",
       "      <td>test/ship/image59995.png</td>\n",
       "      <td>ship</td>\n",
       "      <td>test</td>\n",
       "      <td>-1</td>\n",
       "      <td>6.271036</td>\n",
       "      <td>3.284976</td>\n",
       "      <td>-70.541111</td>\n",
       "      <td>{'frog': -77.07471681867696, 'truck': -89.7610...</td>\n",
       "      <td>{'train': -70.54052171442682, 'test': -70.5416...</td>\n",
       "    </tr>\n",
       "    <tr>\n",
       "      <th>59996</th>\n",
       "      <td>test/cat/image59996.png</td>\n",
       "      <td>cat</td>\n",
       "      <td>test</td>\n",
       "      <td>-1</td>\n",
       "      <td>8.761815</td>\n",
       "      <td>3.019561</td>\n",
       "      <td>-67.849741</td>\n",
       "      <td>{'frog': -70.8622539466022, 'truck': -78.70688...</td>\n",
       "      <td>{'train': -67.81392350569409, 'test': -68.0436...</td>\n",
       "    </tr>\n",
       "    <tr>\n",
       "      <th>59997</th>\n",
       "      <td>test/dog/image59997.png</td>\n",
       "      <td>dog</td>\n",
       "      <td>test</td>\n",
       "      <td>-1</td>\n",
       "      <td>6.577181</td>\n",
       "      <td>3.340236</td>\n",
       "      <td>-68.982097</td>\n",
       "      <td>{'frog': -75.76836969670552, 'truck': -94.0260...</td>\n",
       "      <td>{'train': -68.97238709302465, 'test': -69.0070...</td>\n",
       "    </tr>\n",
       "    <tr>\n",
       "      <th>59998</th>\n",
       "      <td>test/automobile/image59998.png</td>\n",
       "      <td>automobile</td>\n",
       "      <td>test</td>\n",
       "      <td>-1</td>\n",
       "      <td>-1.076519</td>\n",
       "      <td>2.717594</td>\n",
       "      <td>-68.713629</td>\n",
       "      <td>{'frog': -78.05870141733367, 'truck': -75.7781...</td>\n",
       "      <td>{'train': -68.68352653575359, 'test': -68.8824...</td>\n",
       "    </tr>\n",
       "    <tr>\n",
       "      <th>59999</th>\n",
       "      <td>test/horse/image59999.png</td>\n",
       "      <td>horse</td>\n",
       "      <td>test</td>\n",
       "      <td>-1</td>\n",
       "      <td>12.176954</td>\n",
       "      <td>2.173634</td>\n",
       "      <td>-59.006012</td>\n",
       "      <td>{'frog': -74.80129602186747, 'truck': -85.6290...</td>\n",
       "      <td>{'train': -59.14294395932344, 'test': -58.2133...</td>\n",
       "    </tr>\n",
       "  </tbody>\n",
       "</table>\n",
       "<p>60000 rows × 9 columns</p>\n",
       "</div>"
      ],
      "text/plain": [
       "                                   id       class dataset  \\\n",
       "0               train/frog/image0.png        frog   train   \n",
       "1              train/truck/image1.png       truck   train   \n",
       "2              train/truck/image2.png       truck   train   \n",
       "3               train/deer/image3.png        deer   train   \n",
       "4         train/automobile/image4.png  automobile   train   \n",
       "...                               ...         ...     ...   \n",
       "59995        test/ship/image59995.png        ship    test   \n",
       "59996         test/cat/image59996.png         cat    test   \n",
       "59997         test/dog/image59997.png         dog    test   \n",
       "59998  test/automobile/image59998.png  automobile    test   \n",
       "59999       test/horse/image59999.png       horse    test   \n",
       "\n",
       "       duplicates_conv_pw_13  projection_conv_pw_13_x  \\\n",
       "0                         -1                 8.996793   \n",
       "1                         -1                 0.987265   \n",
       "2                         -1                 3.857024   \n",
       "3                         -1                11.347506   \n",
       "4                         -1                -1.506487   \n",
       "...                      ...                      ...   \n",
       "59995                     -1                 6.271036   \n",
       "59996                     -1                 8.761815   \n",
       "59997                     -1                 6.577181   \n",
       "59998                     -1                -1.076519   \n",
       "59999                     -1                12.176954   \n",
       "\n",
       "       projection_conv_pw_13_y  familiarity_conv_pw_13  \\\n",
       "0                     6.067759              -63.839685   \n",
       "1                     4.231816              -56.638484   \n",
       "2                     5.526045              -63.064532   \n",
       "3                     4.376108              -70.230302   \n",
       "4                     2.882784              -73.770091   \n",
       "...                        ...                     ...   \n",
       "59995                 3.284976              -70.541111   \n",
       "59996                 3.019561              -67.849741   \n",
       "59997                 3.340236              -68.982097   \n",
       "59998                 2.717594              -68.713629   \n",
       "59999                 2.173634              -59.006012   \n",
       "\n",
       "                splitFamiliarity_conv_pw_13_byAttr_class  \\\n",
       "0      {'frog': -57.4634189968481, 'truck': -79.73388...   \n",
       "1      {'frog': -63.61311723243215, 'truck': -52.5701...   \n",
       "2      {'frog': -66.21848904767097, 'truck': -61.3058...   \n",
       "3      {'frog': -77.75308621492171, 'truck': -87.4106...   \n",
       "4      {'frog': -85.30263297363926, 'truck': -82.4036...   \n",
       "...                                                  ...   \n",
       "59995  {'frog': -77.07471681867696, 'truck': -89.7610...   \n",
       "59996  {'frog': -70.8622539466022, 'truck': -78.70688...   \n",
       "59997  {'frog': -75.76836969670552, 'truck': -94.0260...   \n",
       "59998  {'frog': -78.05870141733367, 'truck': -75.7781...   \n",
       "59999  {'frog': -74.80129602186747, 'truck': -85.6290...   \n",
       "\n",
       "              splitFamiliarity_conv_pw_13_byAttr_dataset  \n",
       "0      {'train': -63.85114012943654, 'test': -63.7891...  \n",
       "1      {'train': -56.667391185887446, 'test': -56.511...  \n",
       "2      {'train': -63.04006769721045, 'test': -63.1636...  \n",
       "3      {'train': -70.17086035521375, 'test': -70.4808...  \n",
       "4      {'train': -73.6560069777013, 'test': -74.43546...  \n",
       "...                                                  ...  \n",
       "59995  {'train': -70.54052171442682, 'test': -70.5416...  \n",
       "59996  {'train': -67.81392350569409, 'test': -68.0436...  \n",
       "59997  {'train': -68.97238709302465, 'test': -69.0070...  \n",
       "59998  {'train': -68.68352653575359, 'test': -68.8824...  \n",
       "59999  {'train': -59.14294395932344, 'test': -58.2133...  \n",
       "\n",
       "[60000 rows x 9 columns]"
      ]
     },
     "execution_count": 5,
     "metadata": {},
     "output_type": "execute_result"
    }
   ],
   "source": [
    "df = pd.read_pickle('canvas_cifar_example.pkl')\n",
    "\n",
    "df"
   ]
  },
  {
   "cell_type": "markdown",
   "id": "b94a5104",
   "metadata": {},
   "source": [
    "To use Symphony, we'll import the main library and instantiate a Symphony object, passing the pandas DataFrame analysis and a file path to the dataset we downloaded."
   ]
  },
  {
   "cell_type": "code",
   "execution_count": 6,
   "id": "ab1f2dff",
   "metadata": {
    "pycharm": {
     "name": "#%%\n"
    },
    "tags": []
   },
   "outputs": [
    {
     "name": "stdout",
     "output_type": "stream",
     "text": [
      "Canvas spect dict value is {'filesPath': 'notebooks/data_introspection/./cifar/', 'dataType': 2, 'instancesPerPage': 40, 'showUnfilteredData': True, 'idColumn': 'id'}\n"
     ]
    }
   ],
   "source": [
    "import canvas_ux\n",
    "\n",
    "symph = canvas_ux.Canvas(df, files_path=str(data_path))"
   ]
  },
  {
   "cell_type": "markdown",
   "id": "09fedddc",
   "metadata": {
    "pycharm": {
     "name": "#%% md\n"
    }
   },
   "source": [
    "To use the different Symphony widgets, you can import them indepdently. Let's first look at the Summary widget to see the overall distributions of our datset."
   ]
  },
  {
   "cell_type": "code",
   "execution_count": 7,
   "id": "c0eebc6a",
   "metadata": {
    "pycharm": {
     "name": "#%%\n"
    },
    "tags": []
   },
   "outputs": [
    {
     "name": "stdout",
     "output_type": "stream",
     "text": [
      "Canvas spect dict value is {'width': 'XXL', 'height': 'M', 'page': 'Summary', 'name': 'CanvasSummary', 'description': 'A Canvas component that visualizes an overview of a dataset', 'summaryElements': []}\n"
     ]
    },
    {
     "data": {
      "application/vnd.jupyter.widget-view+json": {
       "model_id": "714abbe5bc244dc492b8092cacd19ba6",
       "version_major": 2,
       "version_minor": 0
      },
      "text/plain": [
       "HBox(children=(CanvasSummary(layout=Layout(overflow='unset', width='100%'), widget_spec={'width': 'XXL', 'heig…"
      ]
     },
     "execution_count": 7,
     "metadata": {},
     "output_type": "execute_result"
    }
   ],
   "source": [
    "from canvas_summary import CanvasSummary\n",
    "\n",
    "symph.widget(CanvasSummary)"
   ]
  },
  {
   "cell_type": "markdown",
   "id": "d51d3ad1",
   "metadata": {},
   "source": [
    "Instead of a summary, if we want to browse through the data we can use the List widget."
   ]
  },
  {
   "cell_type": "code",
   "execution_count": 8,
   "id": "e0cc1ce2",
   "metadata": {
    "pycharm": {
     "name": "#%%\n"
    },
    "tags": []
   },
   "outputs": [
    {
     "name": "stdout",
     "output_type": "stream",
     "text": [
      "/media/satish/Development/workspace/projects/deepview_dev/notebooks/data_introspection\n",
      "Canvas spect dict value is {'width': 'XXL', 'height': 'M', 'page': 'List', 'name': 'CanvasList', 'description': 'A Canvas component that displays a view of data instances'}\n"
     ]
    },
    {
     "data": {
      "application/vnd.jupyter.widget-view+json": {
       "model_id": "1f3a9dc6309048b19d61ce8029b767b2",
       "version_major": 2,
       "version_minor": 0
      },
      "text/plain": [
       "HBox(children=(CanvasList(layout=Layout(overflow='unset', width='100%'), widget_spec={'width': 'XXL', 'height'…"
      ]
     },
     "execution_count": 8,
     "metadata": {},
     "output_type": "execute_result"
    }
   ],
   "source": [
    "from canvas_list import CanvasList\n",
    "\n",
    "symph.widget(CanvasList)"
   ]
  },
  {
   "cell_type": "markdown",
   "id": "1d7ab972",
   "metadata": {},
   "source": [
    "It's common to use dimensionality reduction techniques to summarize and find patterns in ML dataset. DeepView already ran a reduction, and saves it when running a DataSet Report. We can use the Scatterplot widget to visualize this embedding."
   ]
  },
  {
   "cell_type": "code",
   "execution_count": 9,
   "id": "f188e4f7",
   "metadata": {
    "pycharm": {
     "name": "#%%\n"
    },
    "tags": []
   },
   "outputs": [
    {
     "name": "stdout",
     "output_type": "stream",
     "text": [
      "Canvas spect dict value is {'width': 'XXL', 'height': 'M', 'page': 'Scatterplot', 'name': 'CanvasScatterplot', 'description': 'A scatterplot Canvas component based on regl-scatterplot'}\n"
     ]
    },
    {
     "data": {
      "application/vnd.jupyter.widget-view+json": {
       "model_id": "69da89b3c1514da3bfa6af9f946336ae",
       "version_major": 2,
       "version_minor": 0
      },
      "text/plain": [
       "HBox(children=(CanvasScatterplot(layout=Layout(overflow='unset', width='100%'), widget_spec={'width': 'XXL', '…"
      ]
     },
     "execution_count": 9,
     "metadata": {},
     "output_type": "execute_result"
    }
   ],
   "source": [
    "from canvas_scatterplot import CanvasScatterplot\n",
    "\n",
    "symph.widget(CanvasScatterplot)"
   ]
  },
  {
   "cell_type": "markdown",
   "id": "c6a918cb",
   "metadata": {
    "pycharm": {
     "name": "#%% md\n"
    }
   },
   "source": [
    "Some datasets can contain duplicates: data instances that are the same or very similar to others. These can be hard to find, and become espeically problematic if the same data instance is in the training and testing splits. We can answer these questions using the Duplicates widget.\n",
    "\n",
    "Hint: Take a look at the `automobile` class, where there are duplicates across train and test data!"
   ]
  },
  {
   "cell_type": "code",
   "execution_count": 10,
   "id": "b99eb410",
   "metadata": {
    "pycharm": {
     "name": "#%%\n"
    },
    "tags": []
   },
   "outputs": [
    {
     "name": "stdout",
     "output_type": "stream",
     "text": [
      "Canvas spect dict value is {'width': 'XXL', 'height': 'M', 'page': 'Duplicates', 'name': 'CanvasDuplicates', 'description': 'A Canvas component for inspecting potential duplicates in a dataset'}\n"
     ]
    },
    {
     "data": {
      "application/vnd.jupyter.widget-view+json": {
       "model_id": "adb62b00fd8f4d10a4d5f9117d04837b",
       "version_major": 2,
       "version_minor": 0
      },
      "text/plain": [
       "HBox(children=(CanvasDuplicates(layout=Layout(overflow='unset', width='100%'), widget_spec={'width': 'XXL', 'h…"
      ]
     },
     "execution_count": 10,
     "metadata": {},
     "output_type": "execute_result"
    }
   ],
   "source": [
    "from canvas_duplicates import CanvasDuplicates\n",
    "\n",
    "symph.widget(CanvasDuplicates)"
   ]
  },
  {
   "cell_type": "markdown",
   "id": "30c7579f",
   "metadata": {
    "pycharm": {
     "name": "#%% md\n"
    }
   },
   "source": [
    "Lastly, we can use advanced ML metrics and the Familiarity widget to find the most and least representative data instances from a given datset, which can help identify model biases and annotation errors."
   ]
  },
  {
   "cell_type": "code",
   "execution_count": 11,
   "id": "723aaa6a",
   "metadata": {
    "pycharm": {
     "name": "#%%\n"
    },
    "tags": []
   },
   "outputs": [
    {
     "name": "stdout",
     "output_type": "stream",
     "text": [
      "Canvas spect dict value is {'width': 'XXL', 'height': 'M', 'page': 'Familiarity', 'name': 'CanvasFamiliarity', 'description': 'A Canvas component to find outliers and common instances in a dataset'}\n"
     ]
    },
    {
     "data": {
      "application/vnd.jupyter.widget-view+json": {
       "model_id": "109a28a405ae41eebf83eccc10293c28",
       "version_major": 2,
       "version_minor": 0
      },
      "text/plain": [
       "HBox(children=(CanvasFamiliarity(layout=Layout(overflow='unset', width='100%'), widget_spec={'width': 'XXL', '…"
      ]
     },
     "execution_count": 11,
     "metadata": {},
     "output_type": "execute_result"
    }
   ],
   "source": [
    "from canvas_familiarity import CanvasFamiliarity\n",
    "\n",
    "symph.widget(CanvasFamiliarity)"
   ]
  },
  {
   "cell_type": "markdown",
   "id": "fe645eb9",
   "metadata": {},
   "source": [
    "## Symphony as a Standalone Export\n",
    "\n",
    "Symphony can also be exported as a standalone static export to be shared with others or hosted. To explore this example in a web browser, you can export the report to local folder.\n",
    "\n",
    "If you only want to visualize locally without sharing the data, you can specify Symphony to handle the paths for a local standlone visualization by setting ``symlink_files`` to True:"
   ]
  },
  {
   "cell_type": "code",
   "execution_count": null,
   "id": "5461b3b6",
   "metadata": {},
   "outputs": [],
   "source": [
    "symph.export('./symphony_report', name=\"Symphony CIFAR-10 Example\", symlink_files=True)"
   ]
  },
  {
   "cell_type": "markdown",
   "id": "710755c2",
   "metadata": {},
   "source": [
    "You can now serve the dataset report. For example, from the `symphony_export` folder, run a simple server from the command line:\n",
    "\n",
    "```bash\n",
    "python -m http.server\n",
    "```\n",
    "\n",
    "And navigate to http://localhost:8000/."
   ]
  },
  {
   "cell_type": "code",
   "execution_count": null,
   "id": "2faff5bf",
   "metadata": {},
   "outputs": [],
   "source": []
  }
 ],
 "metadata": {
  "finalized": {
   "timestamp": 1638994625349,
   "trusted": true
  },
  "kernelspec": {
   "display_name": "Python 3 (ipykernel)",
   "language": "python",
   "name": "python3"
  },
  "language_info": {
   "codemirror_mode": {
    "name": "ipython",
    "version": 3
   },
   "file_extension": ".py",
   "mimetype": "text/x-python",
   "name": "python",
   "nbconvert_exporter": "python",
   "pygments_lexer": "ipython3",
   "version": "3.10.15"
  }
 },
 "nbformat": 4,
 "nbformat_minor": 5
}
