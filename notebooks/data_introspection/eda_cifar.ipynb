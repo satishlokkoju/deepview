{
 "cells": [
  {
   "cell_type": "markdown",
   "id": "a6f25846",
   "metadata": {},
   "source": [
    "# Dataset Report: CIFAR10 Example\n",
    "\n",
    "Here is an example of how to run the [DatasetReport](https://satishlokkoju.github.io/deepview/api/deepview/introspectors.html#deepview.introspectors.DatasetReport) on the dataset. This notebook will demonstrate how to build the data for the report using DeepView. An example of how to visualize the report output with the Canvas UI framework (Coming Soon !)\n",
    "\n",
    "For a deeper understanding of the Dataset Report, please see the [doc page](https://satishlokkoju.github.io/deepview/introspectors/data_introspection/dataset_report.html).\n",
    "\n",
    "Before proceeding, please review the \"How to Use\" section in the docs, starting with the [How to Load A Model](https://satishlokkoju.github.io/deepview/how_to/connect_model.html)."
   ]
  },
  {
   "cell_type": "markdown",
   "id": "59bd89e3",
   "metadata": {
    "pycharm": {
     "name": "#%% md\n"
    }
   },
   "source": [
    "## Dataset Report: (1) Setup\n",
    "\n",
    "Here, group together required imports and set desired paths."
   ]
  },
  {
   "cell_type": "code",
   "execution_count": null,
   "id": "42d7245d",
   "metadata": {
    "pycharm": {
     "name": "#%%\n"
    },
    "tags": []
   },
   "outputs": [],
   "source": [
    "import logging\n",
    "logging.basicConfig(level=logging.DEBUG)\n",
    "logging.getLogger(\"numba\").setLevel(logging.INFO)"
   ]
  },
  {
   "cell_type": "code",
   "execution_count": null,
   "id": "7771bbdc-7c16-417b-8cd5-dad4c22bda36",
   "metadata": {
    "tags": []
   },
   "outputs": [],
   "source": [
    "from watermark import watermark\n",
    "print(watermark(packages=\"deepview,deepview_tensorflow,deepview_data,canvas_ux,canvas_summary,canvas_list,canvas_scatterplot,canvas_duplicates,canvas_familiarity\"))"
   ]
  },
  {
   "cell_type": "code",
   "execution_count": null,
   "id": "03d54847",
   "metadata": {
    "pycharm": {
     "name": "#%%\n"
    },
    "tags": []
   },
   "outputs": [],
   "source": [
    "from dataclasses import dataclass\n",
    "import os\n",
    "from pathlib import Path\n",
    "import typing as t\n",
    "\n",
    "# OpenCV will be used to interact with the CIFAR10 dataset, since it contains images.\n",
    "import cv2\n",
    "import numpy as np\n",
    "\n",
    "# This notebook pieces together a pipeline to run a dataset through a model, with pre- and post- processing,\n",
    "#    and then feeds it into the Dataset Report for full analysis\n",
    "from deepview.introspectors import DatasetReport, ReportConfig, Duplicates\n",
    "from deepview.base import Batch, Producer, pipeline, ImageFormat\n",
    "from deepview.processors import Cacher, FieldRenamer, ImageResizer, Pooler, Processor\n",
    "from deepview_tensorflow import load_tf_model_from_path\n",
    "\n",
    "# For future protection, any deprecated DeepView features will be treated as errors\n",
    "from deepview.exceptions import enable_deprecation_warnings\n",
    "enable_deprecation_warnings()\n",
    "\n",
    "# Use a pre-trained Keras MobileNet model to analyze the CIFAR10 dataset\n",
    "import keras\n",
    "from keras.applications.mobilenet_v2 import preprocess_input as mobilenet_preprocessing\n",
    "from keras.datasets import cifar10"
   ]
  },
  {
   "cell_type": "code",
   "execution_count": null,
   "id": "107a4d1e",
   "metadata": {
    "pycharm": {
     "name": "#%%\n"
    },
    "tags": []
   },
   "outputs": [],
   "source": [
    "data_path = \"./cifar/\""
   ]
  },
  {
   "cell_type": "markdown",
   "id": "6b32ffcd",
   "metadata": {
    "pycharm": {
     "name": "#%% md\n"
    }
   },
   "source": [
    "### Dataset Report: (1) Setup - Download Model\n",
    "\n",
    "Download a [MobileNet](https://keras.io/api/applications/mobilenet/) model from keras that has been pre-trained on the ImageNet dataset, which is similar to the [CIFAR-10](https://www.cs.toronto.edu/~kriz/cifar.html) dataset used. [TFModelExamples](https://satishlokkoju.github.io/deepview/api/deepview_tensorflow/index.html#deepview_tensorflow.TFModelExamples) are used to load MobileNet, but any model can be loaded, as described [here](https://satishlokkoju.github.io/deepview/how_to/connect_model.html)."
   ]
  },
  {
   "cell_type": "code",
   "execution_count": null,
   "id": "b8ad8231",
   "metadata": {
    "pycharm": {
     "name": "#%%\n"
    },
    "tags": []
   },
   "outputs": [],
   "source": [
    "from deepview_tensorflow import TFModelExamples, TFDatasetExamples\n",
    "\n",
    "mobilenet = TFModelExamples.MobileNet()\n",
    "mobilenet_preprocessor = mobilenet.preprocessing\n",
    "assert mobilenet_preprocessor is not None"
   ]
  },
  {
   "cell_type": "markdown",
   "id": "e7286abe",
   "metadata": {
    "pycharm": {
     "name": "#%% md\n"
    }
   },
   "source": [
    "## Dataset Report: (2) DeepView Producer\n",
    "\n",
    "This is the chunk of the work that will change for new datasets. This step teaches DeepView how to load data as batches, by creating a custom [Producer](https://satishlokkoju.github.io/deepview/api/deepview/base.html#deepview.base.Producer) for the CIFAR-10 dataset.\n",
    "\n",
    "[TFDatasetExamples.CIFAR10](https://satishlokkoju.github.io/deepview/api/deepview_tensorflow/index.html#deepview_tensorflow.TFDatasetExamples.CIFAR10) is used to instantiate the data producer"
   ]
  },
  {
   "cell_type": "code",
   "execution_count": null,
   "id": "48c21bb7-0f0c-400d-b174-af3d1f9ed515",
   "metadata": {
    "tags": []
   },
   "outputs": [],
   "source": [
    "cifar_producer = TFDatasetExamples.CIFAR10(write_to_folder=True)"
   ]
  },
  {
   "cell_type": "markdown",
   "id": "55cb47b0",
   "metadata": {
    "pycharm": {
     "name": "#%% md\n"
    }
   },
   "source": [
    "## Dataset Report: (3) Model Inference w/ Pre + Post Processing\n",
    "\n",
    "First load the saved TF Keras model into deepview using [load_tf_model_from_path](https://satishlokkoju.github.io/deepview/api/tensorflow/index.html#deepview_tensorflow.load_tf_model_from_path).\n",
    "\n",
    "Then, apply pre and post processing steps around model inference. This consists of the following steps:\n",
    "\n",
    "- mobilenet preprocessing: Keras has its own preprocessing for MobileNet, this function is turned into a DeepView [Processor](https://satishlokkoju.github.io/deepview/api/deepview/processors.html#deepview.processors.Processor) so it can be chained together with other pre / post processing stages\n",
    "- resize images to fit the input of MobileNet, (224, 224) using an [ImageResizer](https://satishlokkoju.github.io/deepview/api/deepview/processors.html#deepview.processors.ImageResizer)\n",
    "- rename the data, which have been stored under \"images\", to match the input layer of MobileNet. To learn about how to read input and output layers from a loaded deepview model, please read through the [Dataset Errors and Rare Samples example notebook](familiarity_for_rare_data_discovery.ipynb).\n",
    "- run inference and extract intermediate embeddings (this time, just `conv_pw_13`, other layers can be added, e.g. what is found when inspecting them from the `deepview_model`. Again, please see the [Dataset Errors and Rare Samples example notebook](familiarity_for_rare_data_discovery.ipynb) for more of a guide on this piece.\n",
    "- max pool the responses before DeepView processing using a DeepView [Pooler](https://satishlokkoju.github.io/deepview/api/deepview/processors.html#deepview.processors.Pooler)"
   ]
  },
  {
   "cell_type": "code",
   "execution_count": null,
   "id": "70e56ac5",
   "metadata": {
    "pycharm": {
     "name": "#%%\n"
    },
    "tags": []
   },
   "outputs": [],
   "source": [
    "# Chain together all operations around running the data through the model\n",
    "model_stages = (\n",
    "    mobilenet_preprocessor,\n",
    "    \n",
    "    ImageResizer(pixel_format=ImageFormat.HWC, size=(224, 224)),\n",
    "    \n",
    "    # Run inference with MobileNet and extract intermediate embeddings\n",
    "    # (this time, just `conv_pw_130`, but other layers can be added)\n",
    "    # :: Note: This auto-detects the input layer and connects up 'images' to it:\n",
    "    mobilenet.model(requested_responses=['conv_pw_13']),\n",
    "    \n",
    "    Pooler(dim=(1, 2), method=Pooler.Method.MAX)\n",
    ")"
   ]
  },
  {
   "cell_type": "markdown",
   "id": "83213dc6",
   "metadata": {
    "pycharm": {
     "name": "#%% md\n"
    }
   },
   "source": [
    "## Dataset Report: (4) Chain together pipeline stages\n",
    "\n",
    "Create the DeepView [pipeline](https://satishlokkoju.github.io/deepview/api/deepview/base.html#deepview.base.pipeline) from the base CIFAR-10 Producer that was written earlier, and then by unwrapping the tuple of model-related [PipelineStages](https://satishlokkoju.github.io/deepview/api/deepview/base.html#deepview.base.PipelineStage) defined in the prior cell.\n",
    "\n",
    "No processing is done at this point, but will be called when the Dataset Report \"introspects\".\n"
   ]
  },
  {
   "cell_type": "code",
   "execution_count": null,
   "id": "d93cec27",
   "metadata": {
    "pycharm": {
     "name": "#%%\n"
    },
    "tags": []
   },
   "outputs": [],
   "source": [
    "# Finally put it all together!\n",
    "producer = pipeline(\n",
    "    # Original data producer that will yield batches\n",
    "    cifar_producer,\n",
    "\n",
    "    # unwrap the tuple of pipeline stages that contain model inference, and pre/post-processing\n",
    "    *model_stages,\n",
    "\n",
    "    # Cache responses to play around with data in future cells\n",
    "    Cacher()\n",
    ")"
   ]
  },
  {
   "cell_type": "markdown",
   "id": "dc83dd1a",
   "metadata": {
    "pycharm": {
     "name": "#%% md\n"
    }
   },
   "source": [
    "## Dataset Report: (5) Run Dataset Report. Introspect!\n",
    "\n",
    "All compute is performed in this step by pulling batches through the entire pipeline.\n",
    "\n",
    "[DatasetReport](https://betterwidhdata.github.io/deepview/api/deepview/introspectors.html#deepview.DatasetReport) [introspect](https://betterwidhdata.github.io/deepview/api/deepview/introspectors.html#deepview.introspectors.DatasetReport.introspect) takes the data through the pipeline and gives us a report object. This object contains `data`, which is a pandas dataframe table with metadata about each data sample like familiarity, duplicates, overall summary, and projection that can be passed to Canvas for visualization.\n",
    "\n",
    "A [ReportConfig](https://betterwidhdata.github.io/deepview/api/deepview/introspectors.html#deepview.introspectors.ReportConfig) is passed as input in the next cell that specifies that to not run the projection or familiarity components. This is simply for speed of this example notebook. To run all components, simply omit the config parameter from the `DatasetReport.introspect` function.\n",
    "\n",
    "Displayed in the next cell are the first five rows of the resulting `report.data` that is interpretable by the Canvas UI."
   ]
  },
  {
   "cell_type": "code",
   "execution_count": null,
   "id": "64eadce0-b8d4-4916-bb3d-1d8ea94061eb",
   "metadata": {
    "tags": []
   },
   "outputs": [],
   "source": [
    "import tensorflow as tf\n",
    "print(\"TF version:\", tf.__version__)\n",
    "print(\"GPU Available:\", tf.config.list_physical_devices('GPU'))"
   ]
  },
  {
   "cell_type": "code",
   "execution_count": null,
   "id": "0acfd945",
   "metadata": {
    "pycharm": {
     "name": "#%%\n"
    },
    "tags": []
   },
   "outputs": [],
   "source": [
    "%%time\n",
    "# The most time consuming, since all compute is done here\n",
    "# Data passed through DeepView in batches to produce the backend data table that will be displayed by Canvas\n",
    "\n",
    "from deepview.introspectors import DuplicatesConfig\n",
    "\n",
    "config = DuplicatesConfig(\n",
    "    strategy=Duplicates.KNNStrategy.KNNFaiss()\n",
    ")\n",
    "\n",
    "custom_config = ReportConfig(\n",
    "    projection=None,\n",
    "    duplicates=config\n",
    ")\n",
    "\n",
    "\n",
    "report = DatasetReport.introspect(\n",
    "    producer,\n",
    "    batch_size=256,\n",
    "    config=custom_config # unComment this out to run with custom config\n",
    ")"
   ]
  },
  {
   "cell_type": "code",
   "execution_count": null,
   "id": "3ea30e5d-c902-4300-80e5-78a435c32022",
   "metadata": {
    "tags": []
   },
   "outputs": [],
   "source": [
    "report.to_disk(\"cifar_report\", overwrite=True)"
   ]
  },
  {
   "cell_type": "code",
   "execution_count": null,
   "id": "e5783335-ec38-491e-8c62-b024a7958421",
   "metadata": {
    "tags": []
   },
   "outputs": [],
   "source": [
    "# To save the reprort for future use\n",
    "# We can load it back in later with\n",
    "\n",
    "# import pandas as pd\n",
    "# df = pd.read_pickle(\"./cifar_report/report_save_data.pkl\")\n",
    "# import canvas_ux\n",
    "# canva = canvas_ux.Canvas(df)\n",
    "\n",
    "#report.to_disk(\"cifar_report\", overwrite=True)"
   ]
  },
  {
   "cell_type": "markdown",
   "id": "4a109302",
   "metadata": {
    "pycharm": {
     "name": "#%% md\n"
    }
   },
   "source": [
    "## Dataset Report: (6) Visualization\n",
    "\n",
    "Remember that this example operates on the full dataset. To run on a smaller dataset, simply change the\n",
    "- `max_data` param from `Cifar10Producer` to run on smaller size\n",
    "- `config` param for `DatasetReport.introspect` to build only the required components of the Dataset Report\n",
    "\n",
    "To visualize the results, the resulting ``report`` can be fed into the Canvas UI framework "
   ]
  },
  {
   "cell_type": "markdown",
   "id": "b45714ca-b7b4-43d7-8e0b-a1809ce9115a",
   "metadata": {
    "pycharm": {
     "name": "#%% md\n"
    }
   },
   "source": [
    "Let's use Canvas to explore this dataset in a Jupyter notebook."
   ]
  },
  {
   "cell_type": "code",
   "execution_count": null,
   "id": "864d2e26-cf11-49d6-be31-0ecafcd2b1db",
   "metadata": {
    "pycharm": {
     "name": "#%%\n"
    },
    "tags": []
   },
   "outputs": [],
   "source": [
    "import canvas_ux\n",
    "\n",
    "canva = canvas_ux.Canvas(report.data)"
   ]
  },
  {
   "cell_type": "markdown",
   "id": "3b203272-780a-439a-a149-78b8657bb793",
   "metadata": {
    "pycharm": {
     "name": "#%% md\n"
    }
   },
   "source": [
    "To use the different Symphony widgets, you can import them indepdently. Let's first look at the Summary widget to see the overall distributions of our datset."
   ]
  },
  {
   "cell_type": "code",
   "execution_count": null,
   "id": "2c773924-6b20-4b1d-9e99-37f92e61cf60",
   "metadata": {
    "pycharm": {
     "name": "#%%\n"
    },
    "tags": []
   },
   "outputs": [],
   "source": [
    "from canvas_summary import CanvasSummary\n",
    "\n",
    "canva.widget(CanvasSummary)"
   ]
  },
  {
   "cell_type": "markdown",
   "id": "2948c448-5b19-4719-8a32-4800238c3b5a",
   "metadata": {},
   "source": [
    "Instead of a summary, if we want to browse through the data we can use the List widget."
   ]
  },
  {
   "cell_type": "code",
   "execution_count": null,
   "id": "f80eec72-b85d-4813-9deb-bd30e7d2a017",
   "metadata": {
    "pycharm": {
     "name": "#%%\n"
    },
    "tags": []
   },
   "outputs": [],
   "source": [
    "from canvas_list import CanvasList\n",
    "\n",
    "canva.widget(CanvasList)"
   ]
  },
  {
   "cell_type": "markdown",
   "id": "a017307d-2177-494b-9df1-34c193db1756",
   "metadata": {},
   "source": [
    "It's common to use dimensionality reduction techniques to summarize and find patterns in ML dataset. DeepView already ran a reduction, and saves it when running a DataSet Report. We can use the Scatterplot widget to visualize this embedding."
   ]
  },
  {
   "cell_type": "code",
   "execution_count": null,
   "id": "892bf2b6-6ffd-4ae1-9ac4-992379a0e3fb",
   "metadata": {
    "pycharm": {
     "name": "#%%\n"
    },
    "tags": []
   },
   "outputs": [],
   "source": [
    "from canvas_scatterplot import CanvasScatterplot\n",
    "\n",
    "canva.widget(CanvasScatterplot)"
   ]
  },
  {
   "cell_type": "code",
   "execution_count": null,
   "id": "e9a9b43f-eed7-48f4-809d-536472960ce3",
   "metadata": {
    "pycharm": {
     "name": "#%%\n"
    },
    "tags": []
   },
   "outputs": [],
   "source": [
    "from canvas_duplicates import CanvasDuplicates\n",
    "\n",
    "canva.widget(CanvasDuplicates)"
   ]
  },
  {
   "cell_type": "markdown",
   "id": "55f44619-1908-4fff-873e-6f6731af6ba8",
   "metadata": {
    "pycharm": {
     "name": "#%% md\n"
    },
    "tags": []
   },
   "source": [
    "Lastly, we can use advanced ML metrics and the Familiarity widget to find the most and least representative data instances from a given datset, which can help identify model biases and annotation errors."
   ]
  },
  {
   "cell_type": "code",
   "execution_count": null,
   "id": "b9810257-abcb-42fc-950b-ddcd75ce591b",
   "metadata": {
    "pycharm": {
     "name": "#%%\n"
    },
    "tags": []
   },
   "outputs": [],
   "source": [
    "from canvas_familiarity import CanvasFamiliarity\n",
    "\n",
    "canva.widget(CanvasFamiliarity)"
   ]
  },
  {
   "cell_type": "markdown",
   "id": "50cad068-85b0-4671-bda1-5c73000447bb",
   "metadata": {},
   "source": [
    "## Visualization as a Standalone Export\n",
    "\n",
    "Report can also be exported as a standalone static export to be shared with others or hosted. To explore this example in a web browser, you can export the report to local folder.\n"
   ]
  },
  {
   "cell_type": "code",
   "execution_count": null,
   "id": "c1459429-848b-40a6-97c6-651a447a7b85",
   "metadata": {
    "tags": []
   },
   "outputs": [],
   "source": [
    "canva.export('./canvas_report', name=\"Canvas CIFAR10 Visualization\")"
   ]
  },
  {
   "cell_type": "markdown",
   "id": "3dac0c8f-f1ed-4bf0-8e09-d6ee2f36d464",
   "metadata": {},
   "source": [
    "### You can now serve the dataset report. For example, from the `canvas_export` folder, run a simple server from the command line:\n",
    "\n",
    "```bash\n",
    "python -m http.server\n",
    "```\n",
    "\n",
    "And navigate to http://localhost:8000/."
   ]
  },
  {
   "cell_type": "code",
   "execution_count": null,
   "id": "4b66d610-a49c-4c3a-a1ee-be48cbfe85b8",
   "metadata": {
    "tags": []
   },
   "outputs": [],
   "source": [
    "# Cleaning up the data directory\n",
    "import shutil\n",
    "shutil.rmtree(data_path)"
   ]
  }
 ],
 "metadata": {
  "finalized": {
   "timestamp": 1638994625349,
   "trusted": true
  },
  "kernelspec": {
   "display_name": "deepview_dev",
   "language": "python",
   "name": "deepview_dev"
  },
  "language_info": {
   "codemirror_mode": {
    "name": "ipython",
    "version": 3
   },
   "file_extension": ".py",
   "mimetype": "text/x-python",
   "name": "python",
   "nbconvert_exporter": "python",
   "pygments_lexer": "ipython3",
   "version": "3.10.16"
  }
 },
 "nbformat": 4,
 "nbformat_minor": 5
}
